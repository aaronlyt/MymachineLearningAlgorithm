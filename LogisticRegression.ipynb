{
 "metadata": {
  "name": "",
  "signature": "sha256:0b22f3454acfb0fd8f3077239abcf530dfa7c3978995ac7bc5d8613fd8acfcfb"
 },
 "nbformat": 3,
 "nbformat_minor": 0,
 "worksheets": [
  {
   "cells": [
    {
     "cell_type": "code",
     "collapsed": false,
     "input": [
      "%pylab inline\n",
      "import scipy\n",
      "from scipy import optimize\n",
      "from math import log"
     ],
     "language": "python",
     "metadata": {},
     "outputs": [
      {
       "output_type": "stream",
       "stream": "stdout",
       "text": [
        "Populating the interactive namespace from numpy and matplotlib\n"
       ]
      }
     ],
     "prompt_number": 1
    },
    {
     "cell_type": "code",
     "collapsed": false,
     "input": [
      "class LogisticRegression:\n",
      "    \"\"\"\n",
      "    the logistic regression implementation :classification probelm\n",
      "    \"\"\"\n",
      "    def __init__(self,W=None,penalty=None,maxIterations=10,alpha=0.01,C=1.0):\n",
      "        self.W=W\n",
      "        self.penalty=penalty\n",
      "        self.maxIterations=maxIterations\n",
      "        self.alpha=alpha\n",
      "        self.C=C\n",
      "        return None\n",
      "    def maximumLikelyEstimation(self,X,y):\n",
      "        \"\"\"\n",
      "        using maximum likely estimation to estimate the parameters w\n",
      "        \"\"\"\n",
      "        number=len(X)\n",
      "        X_new=np.hstack((np.reshape(np.ones(number),(number,1)),X))\n",
      "        \n",
      "        for iteration in np.arange(self.maxIterations):\n",
      "            for vec in np.arange(number):\n",
      "                y_p=np.dot(self.W,X_new[vec])\n",
      "                delta=(y[vec]-y_p)*X_new[vec,:].transpose()\n",
      "                self.W=self.W+self.alpha*delta\n",
      "        return self.W\n",
      "    def gradient_descent(self,X,y):\n",
      "        \"\"\"\n",
      "        optimize the term:see http://scikit-learn.org/stable/modules/linear_model.html#logistic-regression logistic regression\n",
      "        \"\"\"\n",
      "        number=len(X)\n",
      "        X_new=np.hstack((np.reshape(np.ones(number),(number,1)),X))\n",
      "        \n",
      "        for i in np.arange(number):\n",
      "            def loss(w):\n",
      "                penalty=0\n",
      "                sum_optimized=0\n",
      "                for j in np.arange(i+1):\n",
      "                    if self.penalty=='L1':\n",
      "                        penalty=np.sum(np.abs(w))\n",
      "                    elif self.penalty=='L2':\n",
      "                        penalty=1/2.0*np.dot(w,w)\n",
      "                    sum_optimized+=log(np.exp(-y[j]*np.dot(w,X_new[j]))+1)\n",
      "                return (sum_optimized*self.C+penalty)\n",
      "            self.W=optimize.fmin_powell(loss,self.W,maxiter=self.maxIterations, xtol=0.00001, ftol=0.000001)\n",
      "        return self.W\n",
      "    def fit(self,X,y):\n",
      "        \"\"\"\n",
      "        fit the data\n",
      "        \"\"\"\n",
      "        if self.W is None:\n",
      "            self.W=np.zeros(X.shape[1]+1)\n",
      "        if self.penalty==None:\n",
      "            self.maximumLikelyEstimation(X,y)\n",
      "        else:\n",
      "            self.gradient_descent(X,y)\n",
      "        return self\n",
      "    def score(self,X_test,y_test):\n",
      "        \"\"\"\n",
      "        calculate the score\n",
      "        \"\"\"\n",
      "        y_pre=self.predict(X_test)\n",
      "        print len(y_pre[y_pre==y_test])\n",
      "        return float(len(y_pre[y_pre==y_test]))/len(y_pre)\n",
      "    def predict(self,X_test):\n",
      "        \"\"\"\n",
      "            predict the test \n",
      "        \"\"\"\n",
      "        predictions=[]\n",
      "        number=len(X_test)\n",
      "        X_test_new=np.hstack((np.reshape(np.ones(number),(number,1)),X_test))\n",
      "        for vec_test in X_test_new:\n",
      "            if 1.0/(1+np.exp(-np.dot(self.W,vec_test)))>0.5:\n",
      "                prediction=1\n",
      "            else:\n",
      "                prediction=0\n",
      "            predictions.append(prediction)\n",
      "        return np.array(predictions)"
     ],
     "language": "python",
     "metadata": {},
     "outputs": [],
     "prompt_number": 2
    },
    {
     "cell_type": "code",
     "collapsed": false,
     "input": [
      "from sklearn import datasets, neighbors\n",
      "X, y = datasets.make_classification(n_samples=1000, n_features=20,\n",
      "                                    n_informative=2, n_redundant=2)\n",
      "\n",
      "train_samples = 100  # Samples used for training the models\n",
      "\n",
      "X_train = X[:train_samples]\n",
      "X_test = X[train_samples:]\n",
      "y_train = y[:train_samples]\n",
      "y_test = y[train_samples:]\n",
      "\n",
      "knn = neighbors.KNeighborsClassifier()\n",
      "logistic = LogisticRegression(maxIterations=100,alpha=0.005)\n",
      "logistic_l1 = LogisticRegression(penalty='L2',maxIterations=500,C=100)\n",
      "print('KNN score: %f' % knn.fit(X_train, y_train).score(X_test, y_test))\n",
      "print('LogisticRegression score: %f'\n",
      "      % logistic.fit(X_train, y_train).score(X_test, y_test))\n",
      "print('LogisticRegression score: %f'\n",
      "      % logistic_l1.fit(X_train, y_train).score(X_test, y_test))\n"
     ],
     "language": "python",
     "metadata": {},
     "outputs": [
      {
       "output_type": "stream",
       "stream": "stdout",
       "text": [
        "KNN score: 0.713333\n",
        "478"
       ]
      },
      {
       "output_type": "stream",
       "stream": "stdout",
       "text": [
        "\n",
        "LogisticRegression score: 0.531111\n",
        "Optimization terminated successfully."
       ]
      },
      {
       "output_type": "stream",
       "stream": "stdout",
       "text": [
        "\n",
        "         Current function value: 1.066158\n",
        "         Iterations: 16\n",
        "         Function evaluations: 3746\n",
        "Optimization terminated successfully."
       ]
      },
      {
       "output_type": "stream",
       "stream": "stdout",
       "text": [
        "\n",
        "         Current function value: 2.178138\n",
        "         Iterations: 17\n",
        "         Function evaluations: 4101\n",
        "Optimization terminated successfully.\n",
        "         Current function value: 71.492856\n",
        "         Iterations: 1\n",
        "         Function evaluations: 270\n",
        "Optimization terminated successfully.\n",
        "         Current function value: 140.807574\n",
        "         Iterations: 1\n",
        "         Function evaluations: 305\n",
        "Optimization terminated successfully.\n",
        "         Current function value: 210.122292\n",
        "         Iterations: 1\n",
        "         Function evaluations: 326\n",
        "Optimization terminated successfully."
       ]
      },
      {
       "output_type": "stream",
       "stream": "stdout",
       "text": [
        "\n",
        "         Current function value: 211.187626\n",
        "         Iterations: 11\n",
        "         Function evaluations: 2622\n",
        "Optimization terminated successfully."
       ]
      },
      {
       "output_type": "stream",
       "stream": "stdout",
       "text": [
        "\n",
        "         Current function value: 211.311395\n",
        "         Iterations: 6\n",
        "         Function evaluations: 1420\n",
        "Optimization terminated successfully."
       ]
      },
      {
       "output_type": "stream",
       "stream": "stdout",
       "text": [
        "\n",
        "         Current function value: 211.904188\n",
        "         Iterations: 9\n",
        "         Function evaluations: 2154\n",
        "Optimization terminated successfully."
       ]
      },
      {
       "output_type": "stream",
       "stream": "stdout",
       "text": [
        "\n",
        "         Current function value: 212.604275\n",
        "         Iterations: 9\n",
        "         Function evaluations: 2129\n",
        "Optimization terminated successfully.\n",
        "         Current function value: 281.918943\n",
        "         Iterations: 1\n",
        "         Function evaluations: 247\n",
        "Optimization terminated successfully."
       ]
      },
      {
       "output_type": "stream",
       "stream": "stdout",
       "text": [
        "\n",
        "         Current function value: 282.279944\n",
        "         Iterations: 7\n",
        "         Function evaluations: 1675\n",
        "Optimization terminated successfully.\n",
        "         Current function value: 351.594617\n",
        "         Iterations: 1\n",
        "         Function evaluations: 240\n",
        "Optimization terminated successfully."
       ]
      },
      {
       "output_type": "stream",
       "stream": "stdout",
       "text": [
        "\n",
        "         Current function value: 351.981163\n",
        "         Iterations: 7\n",
        "         Function evaluations: 1686\n",
        "Optimization terminated successfully."
       ]
      },
      {
       "output_type": "stream",
       "stream": "stdout",
       "text": [
        "\n",
        "         Current function value: 354.225742\n",
        "         Iterations: 9\n",
        "         Function evaluations: 2156\n",
        "Optimization terminated successfully."
       ]
      },
      {
       "output_type": "stream",
       "stream": "stdout",
       "text": [
        "\n",
        "         Current function value: 354.977737\n",
        "         Iterations: 7\n",
        "         Function evaluations: 1673\n",
        "Optimization terminated successfully."
       ]
      },
      {
       "output_type": "stream",
       "stream": "stdout",
       "text": [
        "\n",
        "         Current function value: 355.536826\n",
        "         Iterations: 9\n",
        "         Function evaluations: 2156\n",
        "Optimization terminated successfully."
       ]
      },
      {
       "output_type": "stream",
       "stream": "stdout",
       "text": [
        "\n",
        "         Current function value: 355.558828\n",
        "         Iterations: 3\n",
        "         Function evaluations: 718\n",
        "Optimization terminated successfully."
       ]
      },
      {
       "output_type": "stream",
       "stream": "stdout",
       "text": [
        "\n",
        "         Current function value: 355.906243\n",
        "         Iterations: 6\n",
        "         Function evaluations: 1419\n",
        "Optimization terminated successfully.\n",
        "         Current function value: 425.220904\n",
        "         Iterations: 1\n",
        "         Function evaluations: 260\n",
        "Optimization terminated successfully."
       ]
      },
      {
       "output_type": "stream",
       "stream": "stdout",
       "text": [
        "\n",
        "         Current function value: 494.535604\n",
        "         Iterations: 1\n",
        "         Function evaluations: 242\n",
        "Optimization terminated successfully.\n",
        "         Current function value: 563.850316\n",
        "         Iterations: 1"
       ]
      },
      {
       "output_type": "stream",
       "stream": "stdout",
       "text": [
        "\n",
        "         Function evaluations: 252\n",
        "Optimization terminated successfully."
       ]
      },
      {
       "output_type": "stream",
       "stream": "stdout",
       "text": [
        "\n",
        "         Current function value: 564.219562\n",
        "         Iterations: 7\n",
        "         Function evaluations: 1669\n",
        "Optimization terminated successfully."
       ]
      },
      {
       "output_type": "stream",
       "stream": "stdout",
       "text": [
        "\n",
        "         Current function value: 565.093100\n",
        "         Iterations: 7\n",
        "         Function evaluations: 1675\n",
        "Optimization terminated successfully."
       ]
      },
      {
       "output_type": "stream",
       "stream": "stdout",
       "text": [
        "\n",
        "         Current function value: 565.728278\n",
        "         Iterations: 6\n",
        "         Function evaluations: 1423\n",
        "Optimization terminated successfully."
       ]
      },
      {
       "output_type": "stream",
       "stream": "stdout",
       "text": [
        "\n",
        "         Current function value: 635.042869\n",
        "         Iterations: 1\n",
        "         Function evaluations: 242\n",
        "Optimization terminated successfully."
       ]
      },
      {
       "output_type": "stream",
       "stream": "stdout",
       "text": [
        "\n",
        "         Current function value: 635.185351\n",
        "         Iterations: 4\n",
        "         Function evaluations: 951\n",
        "Optimization terminated successfully."
       ]
      },
      {
       "output_type": "stream",
       "stream": "stdout",
       "text": [
        "\n",
        "         Current function value: 635.224453\n",
        "         Iterations: 3\n",
        "         Function evaluations: 716\n",
        "Optimization terminated successfully."
       ]
      },
      {
       "output_type": "stream",
       "stream": "stdout",
       "text": [
        "\n",
        "         Current function value: 635.332165\n",
        "         Iterations: 4\n",
        "         Function evaluations: 952\n",
        "Optimization terminated successfully."
       ]
      },
      {
       "output_type": "stream",
       "stream": "stdout",
       "text": [
        "\n",
        "         Current function value: 635.379528\n",
        "         Iterations: 3\n",
        "         Function evaluations: 707\n",
        "Optimization terminated successfully."
       ]
      },
      {
       "output_type": "stream",
       "stream": "stdout",
       "text": [
        "\n",
        "         Current function value: 704.694138\n",
        "         Iterations: 1\n",
        "         Function evaluations: 259\n",
        "Optimization terminated successfully."
       ]
      },
      {
       "output_type": "stream",
       "stream": "stdout",
       "text": [
        "\n",
        "         Current function value: 706.452211\n",
        "         Iterations: 7\n",
        "         Function evaluations: 1647\n",
        "Optimization terminated successfully."
       ]
      },
      {
       "output_type": "stream",
       "stream": "stdout",
       "text": [
        "\n",
        "         Current function value: 707.614191\n",
        "         Iterations: 9\n",
        "         Function evaluations: 2137\n",
        "Optimization terminated successfully."
       ]
      },
      {
       "output_type": "stream",
       "stream": "stdout",
       "text": [
        "\n",
        "         Current function value: 776.928805\n",
        "         Iterations: 1\n",
        "         Function evaluations: 249\n",
        "Optimization terminated successfully."
       ]
      },
      {
       "output_type": "stream",
       "stream": "stdout",
       "text": [
        "\n",
        "         Current function value: 846.243470\n",
        "         Iterations: 1\n",
        "         Function evaluations: 264\n",
        "Optimization terminated successfully."
       ]
      },
      {
       "output_type": "stream",
       "stream": "stdout",
       "text": [
        "\n",
        "         Current function value: 846.243582\n",
        "         Iterations: 1\n",
        "         Function evaluations: 255\n",
        "Optimization terminated successfully."
       ]
      },
      {
       "output_type": "stream",
       "stream": "stdout",
       "text": [
        "\n",
        "         Current function value: 846.249060\n",
        "         Iterations: 1\n",
        "         Function evaluations: 240\n",
        "Optimization terminated successfully."
       ]
      },
      {
       "output_type": "stream",
       "stream": "stdout",
       "text": [
        "\n",
        "         Current function value: 915.563756\n",
        "         Iterations: 1\n",
        "         Function evaluations: 264\n",
        "Optimization terminated successfully."
       ]
      },
      {
       "output_type": "stream",
       "stream": "stdout",
       "text": [
        "\n",
        "         Current function value: 915.605307\n",
        "         Iterations: 3\n",
        "         Function evaluations: 716\n",
        "Optimization terminated successfully."
       ]
      },
      {
       "output_type": "stream",
       "stream": "stdout",
       "text": [
        "\n",
        "         Current function value: 984.919864\n",
        "         Iterations: 1\n",
        "         Function evaluations: 240\n",
        "Optimization terminated successfully."
       ]
      },
      {
       "output_type": "stream",
       "stream": "stdout",
       "text": [
        "\n",
        "         Current function value: 1054.234518\n",
        "         Iterations: 1\n",
        "         Function evaluations: 248\n",
        "Optimization terminated successfully."
       ]
      },
      {
       "output_type": "stream",
       "stream": "stdout",
       "text": [
        "\n",
        "         Current function value: 1054.301921\n",
        "         Iterations: 3\n",
        "         Function evaluations: 718\n",
        "Optimization terminated successfully."
       ]
      },
      {
       "output_type": "stream",
       "stream": "stdout",
       "text": [
        "\n",
        "         Current function value: 1054.591031\n",
        "         Iterations: 5\n",
        "         Function evaluations: 1179\n",
        "Optimization terminated successfully."
       ]
      },
      {
       "output_type": "stream",
       "stream": "stdout",
       "text": [
        "\n",
        "         Current function value: 1123.905606\n",
        "         Iterations: 1\n",
        "         Function evaluations: 238\n",
        "Optimization terminated successfully."
       ]
      },
      {
       "output_type": "stream",
       "stream": "stdout",
       "text": [
        "\n",
        "         Current function value: 1193.220276\n",
        "         Iterations: 1\n",
        "         Function evaluations: 241\n",
        "Optimization terminated successfully."
       ]
      },
      {
       "output_type": "stream",
       "stream": "stdout",
       "text": [
        "\n",
        "         Current function value: 1262.534976\n",
        "         Iterations: 1\n",
        "         Function evaluations: 274\n",
        "Optimization terminated successfully."
       ]
      },
      {
       "output_type": "stream",
       "stream": "stdout",
       "text": [
        "\n",
        "         Current function value: 1331.849687\n",
        "         Iterations: 1\n",
        "         Function evaluations: 285\n",
        "Optimization terminated successfully."
       ]
      },
      {
       "output_type": "stream",
       "stream": "stdout",
       "text": [
        "\n",
        "         Current function value: 1401.164402\n",
        "         Iterations: 1\n",
        "         Function evaluations: 292\n",
        "Optimization terminated successfully."
       ]
      },
      {
       "output_type": "stream",
       "stream": "stdout",
       "text": [
        "\n",
        "         Current function value: 1470.479119\n",
        "         Iterations: 1\n",
        "         Function evaluations: 298\n",
        "Optimization terminated successfully."
       ]
      },
      {
       "output_type": "stream",
       "stream": "stdout",
       "text": [
        "\n",
        "         Current function value: 1539.793837\n",
        "         Iterations: 1\n",
        "         Function evaluations: 307\n",
        "Optimization terminated successfully."
       ]
      },
      {
       "output_type": "stream",
       "stream": "stdout",
       "text": [
        "\n",
        "         Current function value: 1539.825808\n",
        "         Iterations: 2\n",
        "         Function evaluations: 473\n",
        "Optimization terminated successfully."
       ]
      },
      {
       "output_type": "stream",
       "stream": "stdout",
       "text": [
        "\n",
        "         Current function value: 1609.140421\n",
        "         Iterations: 1\n",
        "         Function evaluations: 246\n",
        "Optimization terminated successfully."
       ]
      },
      {
       "output_type": "stream",
       "stream": "stdout",
       "text": [
        "\n",
        "         Current function value: 1609.239981\n",
        "         Iterations: 4\n",
        "         Function evaluations: 941\n",
        "Optimization terminated successfully."
       ]
      },
      {
       "output_type": "stream",
       "stream": "stdout",
       "text": [
        "\n",
        "         Current function value: 1610.082073\n",
        "         Iterations: 6\n",
        "         Function evaluations: 1441\n",
        "Optimization terminated successfully."
       ]
      },
      {
       "output_type": "stream",
       "stream": "stdout",
       "text": [
        "\n",
        "         Current function value: 1610.128497\n",
        "         Iterations: 3\n",
        "         Function evaluations: 724\n",
        "Optimization terminated successfully."
       ]
      },
      {
       "output_type": "stream",
       "stream": "stdout",
       "text": [
        "\n",
        "         Current function value: 1679.443031\n",
        "         Iterations: 1\n",
        "         Function evaluations: 263\n",
        "Optimization terminated successfully."
       ]
      },
      {
       "output_type": "stream",
       "stream": "stdout",
       "text": [
        "\n",
        "         Current function value: 1679.537764\n",
        "         Iterations: 3\n",
        "         Function evaluations: 715\n",
        "Optimization terminated successfully."
       ]
      },
      {
       "output_type": "stream",
       "stream": "stdout",
       "text": [
        "\n",
        "         Current function value: 1748.852330\n",
        "         Iterations: 1\n",
        "         Function evaluations: 240\n",
        "Optimization terminated successfully."
       ]
      },
      {
       "output_type": "stream",
       "stream": "stdout",
       "text": [
        "\n",
        "         Current function value: 1748.916626\n",
        "         Iterations: 3\n",
        "         Function evaluations: 707\n",
        "Optimization terminated successfully."
       ]
      },
      {
       "output_type": "stream",
       "stream": "stdout",
       "text": [
        "\n",
        "         Current function value: 1749.000876\n",
        "         Iterations: 2\n",
        "         Function evaluations: 476\n",
        "Optimization terminated successfully."
       ]
      },
      {
       "output_type": "stream",
       "stream": "stdout",
       "text": [
        "\n",
        "         Current function value: 1818.315330\n",
        "         Iterations: 1\n",
        "         Function evaluations: 237\n",
        "Optimization terminated successfully."
       ]
      },
      {
       "output_type": "stream",
       "stream": "stdout",
       "text": [
        "\n",
        "         Current function value: 1818.466707\n",
        "         Iterations: 3\n",
        "         Function evaluations: 734\n",
        "Optimization terminated successfully."
       ]
      },
      {
       "output_type": "stream",
       "stream": "stdout",
       "text": [
        "\n",
        "         Current function value: 1818.532014\n",
        "         Iterations: 3\n",
        "         Function evaluations: 740\n",
        "Optimization terminated successfully."
       ]
      },
      {
       "output_type": "stream",
       "stream": "stdout",
       "text": [
        "\n",
        "         Current function value: 1818.639593\n",
        "         Iterations: 3\n",
        "         Function evaluations: 717\n",
        "Optimization terminated successfully."
       ]
      },
      {
       "output_type": "stream",
       "stream": "stdout",
       "text": [
        "\n",
        "         Current function value: 1887.953787\n",
        "         Iterations: 1\n",
        "         Function evaluations: 236\n",
        "Optimization terminated successfully."
       ]
      },
      {
       "output_type": "stream",
       "stream": "stdout",
       "text": [
        "\n",
        "         Current function value: 1887.984543\n",
        "         Iterations: 1\n",
        "         Function evaluations: 238\n",
        "Optimization terminated successfully."
       ]
      },
      {
       "output_type": "stream",
       "stream": "stdout",
       "text": [
        "\n",
        "         Current function value: 1957.298754\n",
        "         Iterations: 1\n",
        "         Function evaluations: 240\n",
        "Optimization terminated successfully."
       ]
      },
      {
       "output_type": "stream",
       "stream": "stdout",
       "text": [
        "\n",
        "         Current function value: 1957.386909\n",
        "         Iterations: 3\n",
        "         Function evaluations: 708\n",
        "Optimization terminated successfully."
       ]
      },
      {
       "output_type": "stream",
       "stream": "stdout",
       "text": [
        "\n",
        "         Current function value: 1957.723364\n",
        "         Iterations: 4\n",
        "         Function evaluations: 946\n",
        "Optimization terminated successfully."
       ]
      },
      {
       "output_type": "stream",
       "stream": "stdout",
       "text": [
        "\n",
        "         Current function value: 2027.037549\n",
        "         Iterations: 1\n",
        "         Function evaluations: 239\n",
        "Optimization terminated successfully."
       ]
      },
      {
       "output_type": "stream",
       "stream": "stdout",
       "text": [
        "\n",
        "         Current function value: 2029.819854\n",
        "         Iterations: 8\n",
        "         Function evaluations: 1898\n",
        "Optimization terminated successfully."
       ]
      },
      {
       "output_type": "stream",
       "stream": "stdout",
       "text": [
        "\n",
        "         Current function value: 2099.133458\n",
        "         Iterations: 1\n",
        "         Function evaluations: 237\n",
        "Optimization terminated successfully."
       ]
      },
      {
       "output_type": "stream",
       "stream": "stdout",
       "text": [
        "\n",
        "         Current function value: 2168.447842\n",
        "         Iterations: 1\n",
        "         Function evaluations: 244\n",
        "Optimization terminated successfully."
       ]
      },
      {
       "output_type": "stream",
       "stream": "stdout",
       "text": [
        "\n",
        "         Current function value: 2237.762433\n",
        "         Iterations: 1\n",
        "         Function evaluations: 253\n",
        "Optimization terminated successfully."
       ]
      },
      {
       "output_type": "stream",
       "stream": "stdout",
       "text": [
        "\n",
        "         Current function value: 2237.833040\n",
        "         Iterations: 2\n",
        "         Function evaluations: 490\n",
        "Optimization terminated successfully."
       ]
      },
      {
       "output_type": "stream",
       "stream": "stdout",
       "text": [
        "\n",
        "         Current function value: 2307.147307\n",
        "         Iterations: 1\n",
        "         Function evaluations: 239\n",
        "Optimization terminated successfully."
       ]
      },
      {
       "output_type": "stream",
       "stream": "stdout",
       "text": [
        "\n",
        "         Current function value: 2308.526841\n",
        "         Iterations: 7\n",
        "         Function evaluations: 1639\n",
        "Optimization terminated successfully."
       ]
      },
      {
       "output_type": "stream",
       "stream": "stdout",
       "text": [
        "\n",
        "         Current function value: 2377.841231\n",
        "         Iterations: 1\n",
        "         Function evaluations: 236\n",
        "Optimization terminated successfully."
       ]
      },
      {
       "output_type": "stream",
       "stream": "stdout",
       "text": [
        "\n",
        "         Current function value: 2447.155832\n",
        "         Iterations: 1\n",
        "         Function evaluations: 246\n",
        "Optimization terminated successfully."
       ]
      },
      {
       "output_type": "stream",
       "stream": "stdout",
       "text": [
        "\n",
        "         Current function value: 2447.199817\n",
        "         Iterations: 2\n",
        "         Function evaluations: 483\n",
        "Optimization terminated successfully."
       ]
      },
      {
       "output_type": "stream",
       "stream": "stdout",
       "text": [
        "\n",
        "         Current function value: 2516.514381\n",
        "         Iterations: 1\n",
        "         Function evaluations: 248\n",
        "Optimization terminated successfully."
       ]
      },
      {
       "output_type": "stream",
       "stream": "stdout",
       "text": [
        "\n",
        "         Current function value: 2518.543262\n",
        "         Iterations: 7\n",
        "         Function evaluations: 1628\n",
        "Optimization terminated successfully."
       ]
      },
      {
       "output_type": "stream",
       "stream": "stdout",
       "text": [
        "\n",
        "         Current function value: 2587.857093\n",
        "         Iterations: 1\n",
        "         Function evaluations: 243\n",
        "Optimization terminated successfully."
       ]
      },
      {
       "output_type": "stream",
       "stream": "stdout",
       "text": [
        "\n",
        "         Current function value: 2587.899017\n",
        "         Iterations: 2\n",
        "         Function evaluations: 498\n",
        "Optimization terminated successfully."
       ]
      },
      {
       "output_type": "stream",
       "stream": "stdout",
       "text": [
        "\n",
        "         Current function value: 2587.920145\n",
        "         Iterations: 1\n",
        "         Function evaluations: 237\n",
        "Optimization terminated successfully."
       ]
      },
      {
       "output_type": "stream",
       "stream": "stdout",
       "text": [
        "\n",
        "         Current function value: 2588.071108\n",
        "         Iterations: 3\n",
        "         Function evaluations: 729\n",
        "Optimization terminated successfully."
       ]
      },
      {
       "output_type": "stream",
       "stream": "stdout",
       "text": [
        "\n",
        "         Current function value: 2657.385617\n",
        "         Iterations: 1\n",
        "         Function evaluations: 246\n",
        "Optimization terminated successfully."
       ]
      },
      {
       "output_type": "stream",
       "stream": "stdout",
       "text": [
        "\n",
        "         Current function value: 2657.456039\n",
        "         Iterations: 2\n",
        "         Function evaluations: 479\n",
        "Optimization terminated successfully."
       ]
      },
      {
       "output_type": "stream",
       "stream": "stdout",
       "text": [
        "\n",
        "         Current function value: 2657.459692\n",
        "         Iterations: 1\n",
        "         Function evaluations: 242\n",
        "Optimization terminated successfully."
       ]
      },
      {
       "output_type": "stream",
       "stream": "stdout",
       "text": [
        "\n",
        "         Current function value: 2657.475514\n",
        "         Iterations: 1\n",
        "         Function evaluations: 249\n",
        "Optimization terminated successfully."
       ]
      },
      {
       "output_type": "stream",
       "stream": "stdout",
       "text": [
        "\n",
        "         Current function value: 2657.592155\n",
        "         Iterations: 3\n",
        "         Function evaluations: 712\n",
        "Optimization terminated successfully."
       ]
      },
      {
       "output_type": "stream",
       "stream": "stdout",
       "text": [
        "\n",
        "         Current function value: 2658.153301\n",
        "         Iterations: 5\n",
        "         Function evaluations: 1167\n",
        "Optimization terminated successfully."
       ]
      },
      {
       "output_type": "stream",
       "stream": "stdout",
       "text": [
        "\n",
        "         Current function value: 2658.166193\n",
        "         Iterations: 1\n",
        "         Function evaluations: 238\n",
        "Optimization terminated successfully."
       ]
      },
      {
       "output_type": "stream",
       "stream": "stdout",
       "text": [
        "\n",
        "         Current function value: 2727.480728\n",
        "         Iterations: 1\n",
        "         Function evaluations: 258\n",
        "Optimization terminated successfully."
       ]
      },
      {
       "output_type": "stream",
       "stream": "stdout",
       "text": [
        "\n",
        "         Current function value: 2727.534945\n",
        "         Iterations: 2\n",
        "         Function evaluations: 469\n",
        "Optimization terminated successfully."
       ]
      },
      {
       "output_type": "stream",
       "stream": "stdout",
       "text": [
        "\n",
        "         Current function value: 2796.849237\n",
        "         Iterations: 1\n",
        "         Function evaluations: 250\n",
        "Optimization terminated successfully."
       ]
      },
      {
       "output_type": "stream",
       "stream": "stdout",
       "text": [
        "\n",
        "         Current function value: 2797.213189\n",
        "         Iterations: 4\n",
        "         Function evaluations: 930\n",
        "Optimization terminated successfully."
       ]
      },
      {
       "output_type": "stream",
       "stream": "stdout",
       "text": [
        "\n",
        "         Current function value: 2797.216085\n",
        "         Iterations: 1\n",
        "         Function evaluations: 247\n",
        "Optimization terminated successfully."
       ]
      },
      {
       "output_type": "stream",
       "stream": "stdout",
       "text": [
        "\n",
        "         Current function value: 2797.297553\n",
        "         Iterations: 2\n",
        "         Function evaluations: 475\n",
        "Optimization terminated successfully."
       ]
      },
      {
       "output_type": "stream",
       "stream": "stdout",
       "text": [
        "\n",
        "         Current function value: 2797.310385\n",
        "         Iterations: 1\n",
        "         Function evaluations: 233\n",
        "Optimization terminated successfully."
       ]
      },
      {
       "output_type": "stream",
       "stream": "stdout",
       "text": [
        "\n",
        "         Current function value: 2797.431621\n",
        "         Iterations: 2\n",
        "         Function evaluations: 477\n",
        "441\n",
        "LogisticRegression score: 0.490000\n"
       ]
      }
     ],
     "prompt_number": 3
    },
    {
     "cell_type": "code",
     "collapsed": false,
     "input": [
      "from sklearn import datasets, neighbors, linear_model\n",
      "\n",
      "knn = neighbors.KNeighborsClassifier()\n",
      "logistic = linear_model.LogisticRegression()\n",
      "\n",
      "print('KNN score: %f' % knn.fit(X_train, y_train).score(X_test, y_test))\n",
      "print('LogisticRegression score: %f'\n",
      "      % logistic.fit(X_train, y_train).score(X_test, y_test))\n"
     ],
     "language": "python",
     "metadata": {},
     "outputs": [
      {
       "output_type": "stream",
       "stream": "stdout",
       "text": [
        "KNN score: 0.747778\n",
        "LogisticRegression score: 0.812222\n"
       ]
      }
     ],
     "prompt_number": 13
    },
    {
     "cell_type": "code",
     "collapsed": false,
     "input": [],
     "language": "python",
     "metadata": {},
     "outputs": []
    }
   ],
   "metadata": {}
  }
 ]
}