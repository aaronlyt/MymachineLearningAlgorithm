{
 "metadata": {
  "name": "",
  "signature": "sha256:ac08bde34a660185b373e52bdfdcd1a2d7f6f0118216199a2414843c25e832a8"
 },
 "nbformat": 3,
 "nbformat_minor": 0,
 "worksheets": [
  {
   "cells": [
    {
     "cell_type": "code",
     "collapsed": false,
     "input": [
      "%pylab inline\n",
      "import pandas as pd\n",
      "import scipy as sp"
     ],
     "language": "python",
     "metadata": {},
     "outputs": [
      {
       "output_type": "stream",
       "stream": "stdout",
       "text": [
        "Populating the interactive namespace from numpy and matplotlib\n"
       ]
      }
     ],
     "prompt_number": 1
    },
    {
     "cell_type": "code",
     "collapsed": false,
     "input": [
      "from scipy import optimize"
     ],
     "language": "python",
     "metadata": {},
     "outputs": [],
     "prompt_number": 33
    },
    {
     "cell_type": "code",
     "collapsed": false,
     "input": [
      "class LinearRegression:\n",
      "    \"\"\"\n",
      "    define the basic linear regresion problem\n",
      "    \"\"\"\n",
      "    def __init__(self,W_initial=None,alpha=0.1,numIteration=10):\n",
      "        self.W=W_initial\n",
      "        self.alpha=alpha\n",
      "        self.numIteration=numIteration\n",
      "        return None\n",
      "    def gradient_descent(self,X,y):\n",
      "        \"\"\"\n",
      "        calculate  gradient descent\n",
      "        \"\"\"\n",
      "        number=len(X)\n",
      "        X_new=np.hstack((np.reshape(np.ones(number),(number,1)),X))\n",
      "        for i in np.arange(self.numIteration):\n",
      "            for vec_i in np.arange(number):\n",
      "                for t in np.arange(len(self.W)):\n",
      "                    y_p=np.dot(self.W,X_new[vec_i])\n",
      "                    delta=(y[vec_i]-y_p)*X_new[vec_i,t]\n",
      "                    self.W[t]=self.W[t]+self.alpha*delta\n",
      "        return self.W\n",
      "    \"\"\"\n",
      "    another write\n",
      "    for iter in range(maxIterations):\n",
      "      cost = 0\n",
      "      deltaw = np.zeros(len(vectors[0])+1)\n",
      "      for i in range(len(vectors)):\n",
      "         temp = np.append(vectors[i], -1)\n",
      "         prediction_error = np.dot(w, temp) - labels[i]\n",
      "         deltaw += prediction_error * temp\n",
      "         cost += prediction_error**2\n",
      "      w = w -  stepSize * deltaw\n",
      "    \"\"\"\n",
      "    def gradient_descent_improve(self,X,y):\n",
      "        \"\"\"\n",
      "        using the function of scipy.optimize\n",
      "        \"\"\"\n",
      "        number=len(X)\n",
      "        X_new=np.hstack((np.reshape(np.ones(number),(number,1)),X))\n",
      "       \n",
      "        for i in np.arange(len(X_new)):\n",
      "            def loss(w):\n",
      "                sum_error=0\n",
      "                for t in np.arange(i+1):\n",
      "                    sum_error+=np.square(y[t]-np.dot(w,X_new[t]))\n",
      "                return sum_error/(i+1)\n",
      "            self.W=optimize.fmin_cg(loss,self.W,maxiter=self.numIteration)\n",
      "        return self.W\n",
      "    def fit(self,X,y):\n",
      "        \"\"\"\n",
      "        fit the data\n",
      "        \"\"\"\n",
      "        if self.W is None:\n",
      "            self.W=np.zeros(X.shape[1]+1)\n",
      "        self.gradient_descent_improve(X,y)\n",
      "        return self\n",
      "    def predict(self,X_test):\n",
      "        \"\"\"\n",
      "            predict the test \n",
      "        \"\"\"\n",
      "        predictions=[]\n",
      "        number=len(X_test)\n",
      "        X_test_new=np.hstack((np.reshape(np.ones(number),(number,1)),X_test))\n",
      "        for vec_test in X_test_new:\n",
      "            predictions.append(np.dot(self.W,vec_test))\n",
      "        return predictions"
     ],
     "language": "python",
     "metadata": {},
     "outputs": [],
     "prompt_number": 57
    },
    {
     "cell_type": "code",
     "collapsed": false,
     "input": [
      "x=np.array([[1],[2],[3]])\n",
      "y=np.array([4,8,12])\n",
      "\n",
      "lr=LinearRegression(numIteration=100)\n",
      "lr.fit(x,y)\n",
      "lr.predict(np.array([[5]]))"
     ],
     "language": "python",
     "metadata": {},
     "outputs": [
      {
       "output_type": "stream",
       "stream": "stdout",
       "text": [
        "Optimization terminated successfully.\n",
        "         Current function value: 0.000000\n",
        "         Iterations: 1\n",
        "         Function evaluations: 12\n",
        "         Gradient evaluations: 3\n",
        "Optimization terminated successfully.\n",
        "         Current function value: 0.000000\n",
        "         Iterations: 4\n",
        "         Function evaluations: 36\n",
        "         Gradient evaluations: 9\n",
        "Optimization terminated successfully.\n",
        "         Current function value: 0.000000\n",
        "         Iterations: 0\n",
        "         Function evaluations: 4\n",
        "         Gradient evaluations: 1\n"
       ]
      },
      {
       "metadata": {},
       "output_type": "pyout",
       "prompt_number": 59,
       "text": [
        "[19.999999971759618]"
       ]
      }
     ],
     "prompt_number": 59
    },
    {
     "cell_type": "code",
     "collapsed": false,
     "input": [
      "lr.W"
     ],
     "language": "python",
     "metadata": {},
     "outputs": [
      {
       "metadata": {},
       "output_type": "pyout",
       "prompt_number": 60,
       "text": [
        "array([  2.04362327e-08,   3.99999999e+00])"
       ]
      }
     ],
     "prompt_number": 60
    },
    {
     "cell_type": "code",
     "collapsed": false,
     "input": [
      "import matplotlib.pyplot as plt\n",
      "import numpy as np\n",
      "from sklearn import datasets\n",
      "\n",
      "# Load the diabetes dataset\n",
      "diabetes = datasets.load_diabetes()\n",
      "\n",
      "\n",
      "# Use only one feature\n",
      "diabetes_X = diabetes.data[:, np.newaxis]\n",
      "diabetes_X_temp = diabetes_X[:, :, 2]\n",
      "\n",
      "# Split the data into training/testing sets\n",
      "diabetes_X_train = diabetes_X_temp[:-20]\n",
      "diabetes_X_test = diabetes_X_temp[-20:]\n",
      "\n",
      "# Split the targets into training/testing sets\n",
      "diabetes_y_train = diabetes.target[:-20]\n",
      "diabetes_y_test = diabetes.target[-20:]\n",
      "\n",
      "# Create linear regression object\n",
      "regr = LinearRegression()\n",
      "\n",
      "# Train the model using the training sets\n",
      "regr.fit(diabetes_X_train, diabetes_y_train)"
     ],
     "language": "python",
     "metadata": {},
     "outputs": [
      {
       "output_type": "stream",
       "stream": "stdout",
       "text": [
        "Optimization terminated successfully.\n",
        "         Current function value: 0.000000\n",
        "         Iterations: 2\n",
        "         Function evaluations: 20\n",
        "         Gradient evaluations: 5\n",
        "Warning: Maximum number of iterations has been exceeded.\n",
        "         Current function value: 0.002972\n",
        "         Iterations: 10\n",
        "         Function evaluations: 176\n",
        "         Gradient evaluations: 44\n",
        "Warning: Maximum number of iterations has been exceeded.\n",
        "         Current function value: 0.478381\n",
        "         Iterations: 10\n",
        "         Function evaluations: 152\n",
        "         Gradient evaluations: 38\n",
        "Warning: Maximum number of iterations has been exceeded.\n",
        "         Current function value: 1856.750473\n",
        "         Iterations: 10\n",
        "         Function evaluations: 188\n",
        "         Gradient evaluations: 47\n",
        "Warning: Maximum number of iterations has been exceeded.\n",
        "         Current function value: 1498.643695\n",
        "         Iterations: 10\n",
        "         Function evaluations: 148\n",
        "         Gradient evaluations: 37\n",
        "Warning: Maximum number of iterations has been exceeded.\n",
        "         Current function value: 1356.343895\n",
        "         Iterations: 10\n",
        "         Function evaluations: 180\n",
        "         Gradient evaluations: 45\n",
        "Warning: Maximum number of iterations has been exceeded.\n",
        "         Current function value: 1216.195213\n",
        "         Iterations: 10\n",
        "         Function evaluations: 176\n",
        "         Gradient evaluations: 44\n",
        "Warning: Desired error not necessarily achieved due to precision loss.\n",
        "         Current function value: 1682.343383\n",
        "         Iterations: 7\n",
        "         Function evaluations: 136\n",
        "         Gradient evaluations: 31\n",
        "Warning: Maximum number of iterations has been exceeded.\n",
        "         Current function value: 1610.129283\n",
        "         Iterations: 10\n",
        "         Function evaluations: 184\n",
        "         Gradient evaluations: 46\n",
        "Warning: Maximum number of iterations has been exceeded."
       ]
      },
      {
       "output_type": "stream",
       "stream": "stdout",
       "text": [
        "\n",
        "         Current function value: 4078.012214\n",
        "         Iterations: 10\n",
        "         Function evaluations: 208\n",
        "         Gradient evaluations: 52\n",
        "Warning: Maximum number of iterations has been exceeded.\n",
        "         Current function value: 3707.238154\n",
        "         Iterations: 10\n",
        "         Function evaluations: 188\n",
        "         Gradient evaluations: 47\n",
        "Warning: Maximum number of iterations has been exceeded.\n",
        "         Current function value: 3903.427573\n",
        "         Iterations: 10\n",
        "         Function evaluations: 184\n",
        "         Gradient evaluations: 46\n",
        "Warning: Maximum number of iterations has been exceeded.\n",
        "         Current function value: 3831.285289\n",
        "         Iterations: 10\n",
        "         Function evaluations: 172\n",
        "         Gradient evaluations: 43\n",
        "Warning: Desired error not necessarily achieved due to precision loss.\n",
        "         Current function value: 3702.872735\n",
        "         Iterations: 7\n",
        "         Function evaluations: 136\n",
        "         Gradient evaluations: 31\n",
        "Warning: Maximum number of iterations has been exceeded."
       ]
      },
      {
       "output_type": "stream",
       "stream": "stdout",
       "text": [
        "\n",
        "         Current function value: 3467.638692\n",
        "         Iterations: 10\n",
        "         Function evaluations: 204\n",
        "         Gradient evaluations: 51\n",
        "Warning: Desired error not necessarily achieved due to precision loss.\n",
        "         Current function value: 3331.405958\n",
        "         Iterations: 8\n",
        "         Function evaluations: 168\n",
        "         Gradient evaluations: 39\n",
        "Warning: Maximum number of iterations has been exceeded.\n",
        "         Current function value: 3136.728453\n",
        "         Iterations: 10\n",
        "         Function evaluations: 204\n",
        "         Gradient evaluations: 51\n",
        "Warning: Maximum number of iterations has been exceeded.\n",
        "         Current function value: 2963.805195\n",
        "         Iterations: 10\n",
        "         Function evaluations: 148\n",
        "         Gradient evaluations: 37\n",
        "Warning: Maximum number of iterations has been exceeded."
       ]
      },
      {
       "output_type": "stream",
       "stream": "stdout",
       "text": [
        "\n",
        "         Current function value: 2897.294450\n",
        "         Iterations: 10\n",
        "         Function evaluations: 160\n",
        "         Gradient evaluations: 40\n",
        "Warning: Maximum number of iterations has been exceeded.\n",
        "         Current function value: 2807.283395\n",
        "         Iterations: 10\n",
        "         Function evaluations: 172\n",
        "         Gradient evaluations: 43\n",
        "Warning: Desired error not necessarily achieved due to precision loss.\n",
        "         Current function value: 2786.588172\n",
        "         Iterations: 7\n",
        "         Function evaluations: 132\n",
        "         Gradient evaluations: 30\n",
        "Warning: Desired error not necessarily achieved due to precision loss.\n",
        "         Current function value: 2945.496263\n",
        "         Iterations: 7\n",
        "         Function evaluations: 171\n",
        "         Gradient evaluations: 40\n",
        "Warning: Maximum number of iterations has been exceeded."
       ]
      },
      {
       "output_type": "stream",
       "stream": "stdout",
       "text": [
        "\n",
        "         Current function value: 3008.251815\n",
        "         Iterations: 10\n",
        "         Function evaluations: 196\n",
        "         Gradient evaluations: 49\n",
        "Warning: Maximum number of iterations has been exceeded.\n",
        "         Current function value: 3102.117933\n",
        "         Iterations: 10\n",
        "         Function evaluations: 140\n",
        "         Gradient evaluations: 35\n",
        "Warning: Maximum number of iterations has been exceeded.\n",
        "         Current function value: 2995.491438\n",
        "         Iterations: 10\n",
        "         Function evaluations: 204\n",
        "         Gradient evaluations: 51\n",
        "Warning: Maximum number of iterations has been exceeded."
       ]
      },
      {
       "output_type": "stream",
       "stream": "stdout",
       "text": [
        "\n",
        "         Current function value: 3065.047277\n",
        "         Iterations: 10\n",
        "         Function evaluations: 184\n",
        "         Gradient evaluations: 46\n",
        "Warning: Maximum number of iterations has been exceeded.\n",
        "         Current function value: 3016.535848\n",
        "         Iterations: 10\n",
        "         Function evaluations: 144\n",
        "         Gradient evaluations: 36\n",
        "Warning: Desired error not necessarily achieved due to precision loss.\n",
        "         Current function value: 3184.004735\n",
        "         Iterations: 9\n",
        "         Function evaluations: 140\n",
        "         Gradient evaluations: 32\n",
        "Warning: Desired error not necessarily achieved due to precision loss.\n",
        "         Current function value: 3074.213382\n",
        "         Iterations: 7\n",
        "         Function evaluations: 128\n",
        "         Gradient evaluations: 29\n",
        "Warning: Maximum number of iterations has been exceeded."
       ]
      },
      {
       "output_type": "stream",
       "stream": "stdout",
       "text": [
        "\n",
        "         Current function value: 3658.698861\n",
        "         Iterations: 10\n",
        "         Function evaluations: 164\n",
        "         Gradient evaluations: 41\n",
        "Warning: Desired error not necessarily achieved due to precision loss.\n",
        "         Current function value: 3579.492884\n",
        "         Iterations: 7\n",
        "         Function evaluations: 128\n",
        "         Gradient evaluations: 29\n",
        "Warning: Desired error not necessarily achieved due to precision loss.\n",
        "         Current function value: 3558.007683\n",
        "         Iterations: 7\n",
        "         Function evaluations: 128\n",
        "         Gradient evaluations: 29\n",
        "Warning: Maximum number of iterations has been exceeded."
       ]
      },
      {
       "output_type": "stream",
       "stream": "stdout",
       "text": [
        "\n",
        "         Current function value: 3881.268402\n",
        "         Iterations: 10\n",
        "         Function evaluations: 176\n",
        "         Gradient evaluations: 44\n",
        "Warning: Maximum number of iterations has been exceeded.\n",
        "         Current function value: 3780.756367\n",
        "         Iterations: 10\n",
        "         Function evaluations: 192\n",
        "         Gradient evaluations: 48\n",
        "Warning: Desired error not necessarily achieved due to precision loss.\n",
        "         Current function value: 3702.658875\n",
        "         Iterations: 7\n",
        "         Function evaluations: 124\n",
        "         Gradient evaluations: 28\n",
        "Warning: Maximum number of iterations has been exceeded."
       ]
      },
      {
       "output_type": "stream",
       "stream": "stdout",
       "text": [
        "\n",
        "         Current function value: 3609.463737\n",
        "         Iterations: 10\n",
        "         Function evaluations: 208\n",
        "         Gradient evaluations: 52\n",
        "Warning: Maximum number of iterations has been exceeded.\n",
        "         Current function value: 3786.724072\n",
        "         Iterations: 10\n",
        "         Function evaluations: 148\n",
        "         Gradient evaluations: 37\n",
        "Warning: Maximum number of iterations has been exceeded.\n",
        "         Current function value: 4052.679655\n",
        "         Iterations: 10\n",
        "         Function evaluations: 176\n",
        "         Gradient evaluations: 44\n",
        "Warning: Maximum number of iterations has been exceeded."
       ]
      },
      {
       "output_type": "stream",
       "stream": "stdout",
       "text": [
        "\n",
        "         Current function value: 3989.350451\n",
        "         Iterations: 10\n",
        "         Function evaluations: 160\n",
        "         Gradient evaluations: 40\n",
        "Warning: Maximum number of iterations has been exceeded.\n",
        "         Current function value: 4023.490145\n",
        "         Iterations: 10\n",
        "         Function evaluations: 204\n",
        "         Gradient evaluations: 51\n",
        "Warning: Maximum number of iterations has been exceeded."
       ]
      },
      {
       "output_type": "stream",
       "stream": "stdout",
       "text": [
        "\n",
        "         Current function value: 3968.760937\n",
        "         Iterations: 10\n",
        "         Function evaluations: 160\n",
        "         Gradient evaluations: 40\n",
        "Warning: Maximum number of iterations has been exceeded.\n",
        "         Current function value: 3902.312878\n",
        "         Iterations: 10\n",
        "         Function evaluations: 188\n",
        "         Gradient evaluations: 47\n",
        "Warning: Maximum number of iterations has been exceeded."
       ]
      },
      {
       "output_type": "stream",
       "stream": "stdout",
       "text": [
        "\n",
        "         Current function value: 3948.863809\n",
        "         Iterations: 10\n",
        "         Function evaluations: 152\n",
        "         Gradient evaluations: 38\n",
        "Warning: Maximum number of iterations has been exceeded.\n",
        "         Current function value: 3883.733468\n",
        "         Iterations: 10\n",
        "         Function evaluations: 184\n",
        "         Gradient evaluations: 46\n",
        "Warning: Maximum number of iterations has been exceeded."
       ]
      },
      {
       "output_type": "stream",
       "stream": "stdout",
       "text": [
        "\n",
        "         Current function value: 3853.106993\n",
        "         Iterations: 10\n",
        "         Function evaluations: 184\n",
        "         Gradient evaluations: 46\n",
        "Warning: Maximum number of iterations has been exceeded.\n",
        "         Current function value: 3846.751357\n",
        "         Iterations: 10\n",
        "         Function evaluations: 196\n",
        "         Gradient evaluations: 49\n",
        "Warning: Maximum number of iterations has been exceeded."
       ]
      },
      {
       "output_type": "stream",
       "stream": "stdout",
       "text": [
        "\n",
        "         Current function value: 3829.109578\n",
        "         Iterations: 10\n",
        "         Function evaluations: 152\n",
        "         Gradient evaluations: 38\n",
        "Warning: Maximum number of iterations has been exceeded.\n",
        "         Current function value: 3831.446488\n",
        "         Iterations: 10\n",
        "         Function evaluations: 188\n",
        "         Gradient evaluations: 47\n",
        "Warning: Maximum number of iterations has been exceeded."
       ]
      },
      {
       "output_type": "stream",
       "stream": "stdout",
       "text": [
        "\n",
        "         Current function value: 3777.184283\n",
        "         Iterations: 10\n",
        "         Function evaluations: 152\n",
        "         Gradient evaluations: 38\n",
        "Warning: Desired error not necessarily achieved due to precision loss.\n",
        "         Current function value: 3708.264821\n",
        "         Iterations: 9\n",
        "         Function evaluations: 178\n",
        "         Gradient evaluations: 42\n",
        "Warning: Desired error not necessarily achieved due to precision loss."
       ]
      },
      {
       "output_type": "stream",
       "stream": "stdout",
       "text": [
        "\n",
        "         Current function value: 3639.788018\n",
        "         Iterations: 6\n",
        "         Function evaluations: 134\n",
        "         Gradient evaluations: 31\n",
        "Warning: Maximum number of iterations has been exceeded.\n",
        "         Current function value: 3643.731610\n",
        "         Iterations: 10\n",
        "         Function evaluations: 152\n",
        "         Gradient evaluations: 38\n",
        "Warning: Maximum number of iterations has been exceeded."
       ]
      },
      {
       "output_type": "stream",
       "stream": "stdout",
       "text": [
        "\n",
        "         Current function value: 3695.256306\n",
        "         Iterations: 10\n",
        "         Function evaluations: 152\n",
        "         Gradient evaluations: 38\n",
        "Warning: Maximum number of iterations has been exceeded.\n",
        "         Current function value: 3641.081995\n",
        "         Iterations: 10\n",
        "         Function evaluations: 176\n",
        "         Gradient evaluations: 44\n",
        "Warning: Desired error not necessarily achieved due to precision loss."
       ]
      },
      {
       "output_type": "stream",
       "stream": "stdout",
       "text": [
        "\n",
        "         Current function value: 3577.460866\n",
        "         Iterations: 9\n",
        "         Function evaluations: 144\n",
        "         Gradient evaluations: 33\n",
        "Warning: Maximum number of iterations has been exceeded.\n",
        "         Current function value: 3526.910255\n",
        "         Iterations: 10\n",
        "         Function evaluations: 136\n",
        "         Gradient evaluations: 34\n",
        "Warning: Maximum number of iterations has been exceeded."
       ]
      },
      {
       "output_type": "stream",
       "stream": "stdout",
       "text": [
        "\n",
        "         Current function value: 3765.906547\n",
        "         Iterations: 10\n",
        "         Function evaluations: 148\n",
        "         Gradient evaluations: 37\n",
        "Warning: Desired error not necessarily achieved due to precision loss.\n",
        "         Current function value: 3745.609998\n",
        "         Iterations: 7\n",
        "         Function evaluations: 128\n",
        "         Gradient evaluations: 29\n",
        "Warning: Maximum number of iterations has been exceeded."
       ]
      },
      {
       "output_type": "stream",
       "stream": "stdout",
       "text": [
        "\n",
        "         Current function value: 3797.043304\n",
        "         Iterations: 10\n",
        "         Function evaluations: 124\n",
        "         Gradient evaluations: 31\n",
        "Warning: Maximum number of iterations has been exceeded.\n",
        "         Current function value: 3770.000886\n",
        "         Iterations: 10\n",
        "         Function evaluations: 184\n",
        "         Gradient evaluations: 46\n",
        "Warning: Maximum number of iterations has been exceeded."
       ]
      },
      {
       "output_type": "stream",
       "stream": "stdout",
       "text": [
        "\n",
        "         Current function value: 3814.446483\n",
        "         Iterations: 10\n",
        "         Function evaluations: 156\n",
        "         Gradient evaluations: 39\n",
        "Warning: Maximum number of iterations has been exceeded.\n",
        "         Current function value: 3753.197833\n",
        "         Iterations: 10\n",
        "         Function evaluations: 120\n",
        "         Gradient evaluations: 30\n",
        "Optimization terminated successfully."
       ]
      },
      {
       "output_type": "stream",
       "stream": "stdout",
       "text": [
        "\n",
        "         Current function value: 3809.231848\n",
        "         Iterations: 8\n",
        "         Function evaluations: 156\n",
        "         Gradient evaluations: 39\n",
        "Warning: Maximum number of iterations has been exceeded.\n",
        "         Current function value: 3754.105855\n",
        "         Iterations: 10\n",
        "         Function evaluations: 148\n",
        "         Gradient evaluations: 37\n",
        "Warning: Maximum number of iterations has been exceeded."
       ]
      },
      {
       "output_type": "stream",
       "stream": "stdout",
       "text": [
        "\n",
        "         Current function value: 3734.789286\n",
        "         Iterations: 10\n",
        "         Function evaluations: 188\n",
        "         Gradient evaluations: 47\n",
        "Warning: Maximum number of iterations has been exceeded.\n",
        "         Current function value: 3703.903918\n",
        "         Iterations: 10\n",
        "         Function evaluations: 176\n",
        "         Gradient evaluations: 44\n",
        "Warning: Maximum number of iterations has been exceeded."
       ]
      },
      {
       "output_type": "stream",
       "stream": "stdout",
       "text": [
        "\n",
        "         Current function value: 3655.955984\n",
        "         Iterations: 10\n",
        "         Function evaluations: 128\n",
        "         Gradient evaluations: 32\n",
        "Warning: Maximum number of iterations has been exceeded."
       ]
      },
      {
       "output_type": "stream",
       "stream": "stdout",
       "text": [
        "\n",
        "         Current function value: 3618.679247\n",
        "         Iterations: 10\n",
        "         Function evaluations: 200\n",
        "         Gradient evaluations: 50\n",
        "Warning: Maximum number of iterations has been exceeded.\n",
        "         Current function value: 3591.985907\n",
        "         Iterations: 10\n",
        "         Function evaluations: 148\n",
        "         Gradient evaluations: 37\n",
        "Warning: Maximum number of iterations has been exceeded."
       ]
      },
      {
       "output_type": "stream",
       "stream": "stdout",
       "text": [
        "\n",
        "         Current function value: 3615.474562\n",
        "         Iterations: 10\n",
        "         Function evaluations: 156\n",
        "         Gradient evaluations: 39\n",
        "Warning: Maximum number of iterations has been exceeded.\n",
        "         Current function value: 3585.293827\n",
        "         Iterations: 10\n",
        "         Function evaluations: 124\n",
        "         Gradient evaluations: 31\n",
        "Warning: Maximum number of iterations has been exceeded."
       ]
      },
      {
       "output_type": "stream",
       "stream": "stdout",
       "text": [
        "\n",
        "         Current function value: 3665.250820\n",
        "         Iterations: 10\n",
        "         Function evaluations: 212\n",
        "         Gradient evaluations: 53\n",
        "Warning: Maximum number of iterations has been exceeded.\n",
        "         Current function value: 3663.732473\n",
        "         Iterations: 10\n",
        "         Function evaluations: 172\n",
        "         Gradient evaluations: 43\n",
        "Warning: Maximum number of iterations has been exceeded."
       ]
      },
      {
       "output_type": "stream",
       "stream": "stdout",
       "text": [
        "\n",
        "         Current function value: 3618.400276\n",
        "         Iterations: 10\n",
        "         Function evaluations: 152\n",
        "         Gradient evaluations: 38\n",
        "Warning: Maximum number of iterations has been exceeded.\n",
        "         Current function value: 3622.657941\n",
        "         Iterations: 10\n",
        "         Function evaluations: 132\n",
        "         Gradient evaluations: 33\n",
        "Warning: Maximum number of iterations has been exceeded."
       ]
      },
      {
       "output_type": "stream",
       "stream": "stdout",
       "text": [
        "\n",
        "         Current function value: 3650.363551\n",
        "         Iterations: 10\n",
        "         Function evaluations: 208\n",
        "         Gradient evaluations: 52\n",
        "Warning: Desired error not necessarily achieved due to precision loss.\n",
        "         Current function value: 3602.958101\n",
        "         Iterations: 8\n",
        "         Function evaluations: 116\n",
        "         Gradient evaluations: 26\n",
        "Warning: Maximum number of iterations has been exceeded."
       ]
      },
      {
       "output_type": "stream",
       "stream": "stdout",
       "text": [
        "\n",
        "         Current function value: 3653.533923\n",
        "         Iterations: 10\n",
        "         Function evaluations: 156\n",
        "         Gradient evaluations: 39\n",
        "Warning: Desired error not necessarily achieved due to precision loss.\n",
        "         Current function value: 3908.426157\n",
        "         Iterations: 7\n",
        "         Function evaluations: 128\n",
        "         Gradient evaluations: 29\n",
        "Warning: Maximum number of iterations has been exceeded."
       ]
      },
      {
       "output_type": "stream",
       "stream": "stdout",
       "text": [
        "\n",
        "         Current function value: 3859.643947\n",
        "         Iterations: 10\n",
        "         Function evaluations: 172\n",
        "         Gradient evaluations: 43\n",
        "Warning: Maximum number of iterations has been exceeded.\n",
        "         Current function value: 3814.179360\n",
        "         Iterations: 10\n",
        "         Function evaluations: 144\n",
        "         Gradient evaluations: 36\n",
        "Warning: Maximum number of iterations has been exceeded."
       ]
      },
      {
       "output_type": "stream",
       "stream": "stdout",
       "text": [
        "\n",
        "         Current function value: 3840.012321\n",
        "         Iterations: 10\n",
        "         Function evaluations: 160\n",
        "         Gradient evaluations: 40\n",
        "Warning: Maximum number of iterations has been exceeded."
       ]
      },
      {
       "output_type": "stream",
       "stream": "stdout",
       "text": [
        "\n",
        "         Current function value: 3843.854092\n",
        "         Iterations: 10\n",
        "         Function evaluations: 204\n",
        "         Gradient evaluations: 51\n",
        "Warning: Maximum number of iterations has been exceeded.\n",
        "         Current function value: 3836.013065\n",
        "         Iterations: 10\n",
        "         Function evaluations: 160\n",
        "         Gradient evaluations: 40\n",
        "Warning: Maximum number of iterations has been exceeded."
       ]
      },
      {
       "output_type": "stream",
       "stream": "stdout",
       "text": [
        "\n",
        "         Current function value: 3817.301031\n",
        "         Iterations: 10\n",
        "         Function evaluations: 168\n",
        "         Gradient evaluations: 42\n",
        "Warning: Maximum number of iterations has been exceeded.\n",
        "         Current function value: 3818.164323\n",
        "         Iterations: 10\n",
        "         Function evaluations: 148\n",
        "         Gradient evaluations: 37\n",
        "Warning: Desired error not necessarily achieved due to precision loss."
       ]
      },
      {
       "output_type": "stream",
       "stream": "stdout",
       "text": [
        "\n",
        "         Current function value: 3783.395118\n",
        "         Iterations: 7\n",
        "         Function evaluations: 128\n",
        "         Gradient evaluations: 29\n",
        "Warning: Maximum number of iterations has been exceeded.\n",
        "         Current function value: 3740.666589\n",
        "         Iterations: 10\n",
        "         Function evaluations: 112\n",
        "         Gradient evaluations: 28\n",
        "Warning: Maximum number of iterations has been exceeded."
       ]
      },
      {
       "output_type": "stream",
       "stream": "stdout",
       "text": [
        "\n",
        "         Current function value: 3750.712284\n",
        "         Iterations: 10\n",
        "         Function evaluations: 164\n",
        "         Gradient evaluations: 41\n",
        "Warning: Maximum number of iterations has been exceeded.\n",
        "         Current function value: 3709.698033\n",
        "         Iterations: 10\n",
        "         Function evaluations: 136\n",
        "         Gradient evaluations: 34\n",
        "Warning: Maximum number of iterations has been exceeded."
       ]
      },
      {
       "output_type": "stream",
       "stream": "stdout",
       "text": [
        "\n",
        "         Current function value: 3675.250866\n",
        "         Iterations: 10\n",
        "         Function evaluations: 152\n",
        "         Gradient evaluations: 38\n",
        "Warning: Desired error not necessarily achieved due to precision loss."
       ]
      },
      {
       "output_type": "stream",
       "stream": "stdout",
       "text": [
        "\n",
        "         Current function value: 3640.525244\n",
        "         Iterations: 9\n",
        "         Function evaluations: 152\n",
        "         Gradient evaluations: 35\n",
        "Warning: Desired error not necessarily achieved due to precision loss.\n",
        "         Current function value: 3704.502815\n",
        "         Iterations: 8\n",
        "         Function evaluations: 140\n",
        "         Gradient evaluations: 32\n",
        "Warning: Desired error not necessarily achieved due to precision loss."
       ]
      },
      {
       "output_type": "stream",
       "stream": "stdout",
       "text": [
        "\n",
        "         Current function value: 3665.556665\n",
        "         Iterations: 7\n",
        "         Function evaluations: 239\n",
        "         Gradient evaluations: 57\n",
        "Warning: Maximum number of iterations has been exceeded."
       ]
      },
      {
       "output_type": "stream",
       "stream": "stdout",
       "text": [
        "\n",
        "         Current function value: 3641.935342\n",
        "         Iterations: 10\n",
        "         Function evaluations: 180\n",
        "         Gradient evaluations: 45\n",
        "Warning: Maximum number of iterations has been exceeded."
       ]
      },
      {
       "output_type": "stream",
       "stream": "stdout",
       "text": [
        "\n",
        "         Current function value: 3650.657537\n",
        "         Iterations: 10\n",
        "         Function evaluations: 172\n",
        "         Gradient evaluations: 43\n",
        "Warning: Maximum number of iterations has been exceeded."
       ]
      },
      {
       "output_type": "stream",
       "stream": "stdout",
       "text": [
        "\n",
        "         Current function value: 3612.992431\n",
        "         Iterations: 10\n",
        "         Function evaluations: 164\n",
        "         Gradient evaluations: 41\n",
        "Warning: Maximum number of iterations has been exceeded."
       ]
      },
      {
       "output_type": "stream",
       "stream": "stdout",
       "text": [
        "\n",
        "         Current function value: 3618.905617\n",
        "         Iterations: 10\n",
        "         Function evaluations: 160\n",
        "         Gradient evaluations: 40\n",
        "Warning: Maximum number of iterations has been exceeded."
       ]
      },
      {
       "output_type": "stream",
       "stream": "stdout",
       "text": [
        "\n",
        "         Current function value: 3604.047251\n",
        "         Iterations: 10\n",
        "         Function evaluations: 176\n",
        "         Gradient evaluations: 44\n",
        "Warning: Maximum number of iterations has been exceeded."
       ]
      },
      {
       "output_type": "stream",
       "stream": "stdout",
       "text": [
        "\n",
        "         Current function value: 3568.347757\n",
        "         Iterations: 10\n",
        "         Function evaluations: 164\n",
        "         Gradient evaluations: 41\n",
        "Warning: Maximum number of iterations has been exceeded."
       ]
      },
      {
       "output_type": "stream",
       "stream": "stdout",
       "text": [
        "\n",
        "         Current function value: 3541.158268\n",
        "         Iterations: 10\n",
        "         Function evaluations: 204\n",
        "         Gradient evaluations: 51\n",
        "Warning: Maximum number of iterations has been exceeded."
       ]
      },
      {
       "output_type": "stream",
       "stream": "stdout",
       "text": [
        "\n",
        "         Current function value: 3506.515120\n",
        "         Iterations: 10\n",
        "         Function evaluations: 172\n",
        "         Gradient evaluations: 43\n",
        "Warning: Maximum number of iterations has been exceeded."
       ]
      },
      {
       "output_type": "stream",
       "stream": "stdout",
       "text": [
        "\n",
        "         Current function value: 3650.388323\n",
        "         Iterations: 10\n",
        "         Function evaluations: 176\n",
        "         Gradient evaluations: 44\n",
        "Warning: Desired error not necessarily achieved due to precision loss.\n",
        "         Current function value: 3618.680495\n",
        "         Iterations: 5\n",
        "         Function evaluations: 92\n",
        "         Gradient evaluations: 20\n",
        "Warning: Maximum number of iterations has been exceeded."
       ]
      },
      {
       "output_type": "stream",
       "stream": "stdout",
       "text": [
        "\n",
        "         Current function value: 3684.871058\n",
        "         Iterations: 10\n",
        "         Function evaluations: 192\n",
        "         Gradient evaluations: 48\n",
        "Warning: Maximum number of iterations has been exceeded."
       ]
      },
      {
       "output_type": "stream",
       "stream": "stdout",
       "text": [
        "\n",
        "         Current function value: 3687.253442\n",
        "         Iterations: 10\n",
        "         Function evaluations: 164\n",
        "         Gradient evaluations: 41\n",
        "Warning: Desired error not necessarily achieved due to precision loss.\n",
        "         Current function value: 3680.387775\n",
        "         Iterations: 7\n",
        "         Function evaluations: 128\n",
        "         Gradient evaluations: 29\n",
        "Warning: Desired error not necessarily achieved due to precision loss."
       ]
      },
      {
       "output_type": "stream",
       "stream": "stdout",
       "text": [
        "\n",
        "         Current function value: 3659.690734\n",
        "         Iterations: 4\n",
        "         Function evaluations: 88\n",
        "         Gradient evaluations: 19\n",
        "Warning: Maximum number of iterations has been exceeded."
       ]
      },
      {
       "output_type": "stream",
       "stream": "stdout",
       "text": [
        "\n",
        "         Current function value: 3652.152963\n",
        "         Iterations: 10\n",
        "         Function evaluations: 160\n",
        "         Gradient evaluations: 40\n",
        "Warning: Desired error not necessarily achieved due to precision loss.\n",
        "         Current function value: 3644.978917\n",
        "         Iterations: 6\n",
        "         Function evaluations: 60\n",
        "         Gradient evaluations: 12\n",
        "Warning: Desired error not necessarily achieved due to precision loss."
       ]
      },
      {
       "output_type": "stream",
       "stream": "stdout",
       "text": [
        "\n",
        "         Current function value: 3613.398125\n",
        "         Iterations: 7\n",
        "         Function evaluations: 244\n",
        "         Gradient evaluations: 59\n",
        "Warning: Maximum number of iterations has been exceeded."
       ]
      },
      {
       "output_type": "stream",
       "stream": "stdout",
       "text": [
        "\n",
        "         Current function value: 3647.366621\n",
        "         Iterations: 10\n",
        "         Function evaluations: 180\n",
        "         Gradient evaluations: 45\n",
        "Warning: Maximum number of iterations has been exceeded."
       ]
      },
      {
       "output_type": "stream",
       "stream": "stdout",
       "text": [
        "\n",
        "         Current function value: 3683.083536\n",
        "         Iterations: 10\n",
        "         Function evaluations: 148\n",
        "         Gradient evaluations: 37\n",
        "Warning: Maximum number of iterations has been exceeded."
       ]
      },
      {
       "output_type": "stream",
       "stream": "stdout",
       "text": [
        "\n",
        "         Current function value: 3829.043208\n",
        "         Iterations: 10\n",
        "         Function evaluations: 156\n",
        "         Gradient evaluations: 39\n",
        "Warning: Maximum number of iterations has been exceeded."
       ]
      },
      {
       "output_type": "stream",
       "stream": "stdout",
       "text": [
        "\n",
        "         Current function value: 3799.777546\n",
        "         Iterations: 10\n",
        "         Function evaluations: 148\n",
        "         Gradient evaluations: 37\n",
        "Warning: Maximum number of iterations has been exceeded."
       ]
      },
      {
       "output_type": "stream",
       "stream": "stdout",
       "text": [
        "\n",
        "         Current function value: 3827.688754\n",
        "         Iterations: 10\n",
        "         Function evaluations: 144\n",
        "         Gradient evaluations: 36\n",
        "Warning: Maximum number of iterations has been exceeded."
       ]
      },
      {
       "output_type": "stream",
       "stream": "stdout",
       "text": [
        "\n",
        "         Current function value: 3849.096378\n",
        "         Iterations: 10\n",
        "         Function evaluations: 160\n",
        "         Gradient evaluations: 40\n",
        "Warning: Maximum number of iterations has been exceeded."
       ]
      },
      {
       "output_type": "stream",
       "stream": "stdout",
       "text": [
        "\n",
        "         Current function value: 4016.881757\n",
        "         Iterations: 10\n",
        "         Function evaluations: 188\n",
        "         Gradient evaluations: 47\n",
        "Warning: Maximum number of iterations has been exceeded."
       ]
      },
      {
       "output_type": "stream",
       "stream": "stdout",
       "text": [
        "\n",
        "         Current function value: 3997.601770\n",
        "         Iterations: 10\n",
        "         Function evaluations: 120\n",
        "         Gradient evaluations: 30\n",
        "Warning: Desired error not necessarily achieved due to precision loss."
       ]
      },
      {
       "output_type": "stream",
       "stream": "stdout",
       "text": [
        "\n",
        "         Current function value: 4036.980589\n",
        "         Iterations: 6\n",
        "         Function evaluations: 124\n",
        "         Gradient evaluations: 28\n",
        "Warning: Maximum number of iterations has been exceeded."
       ]
      },
      {
       "output_type": "stream",
       "stream": "stdout",
       "text": [
        "\n",
        "         Current function value: 4022.997640\n",
        "         Iterations: 10\n",
        "         Function evaluations: 152\n",
        "         Gradient evaluations: 38\n",
        "Warning: Desired error not necessarily achieved due to precision loss."
       ]
      },
      {
       "output_type": "stream",
       "stream": "stdout",
       "text": [
        "\n",
        "         Current function value: 3990.865275\n",
        "         Iterations: 7\n",
        "         Function evaluations: 132\n",
        "         Gradient evaluations: 30\n",
        "Warning: Maximum number of iterations has been exceeded."
       ]
      },
      {
       "output_type": "stream",
       "stream": "stdout",
       "text": [
        "\n",
        "         Current function value: 3969.187815\n",
        "         Iterations: 10\n",
        "         Function evaluations: 164\n",
        "         Gradient evaluations: 41\n",
        "Warning: Maximum number of iterations has been exceeded."
       ]
      },
      {
       "output_type": "stream",
       "stream": "stdout",
       "text": [
        "\n",
        "         Current function value: 4005.444862\n",
        "         Iterations: 10\n",
        "         Function evaluations: 188\n",
        "         Gradient evaluations: 47\n",
        "Warning: Maximum number of iterations has been exceeded."
       ]
      },
      {
       "output_type": "stream",
       "stream": "stdout",
       "text": [
        "\n",
        "         Current function value: 3989.715424\n",
        "         Iterations: 10\n",
        "         Function evaluations: 172\n",
        "         Gradient evaluations: 43\n",
        "Warning: Maximum number of iterations has been exceeded.\n",
        "         Current function value: 3961.693039\n",
        "         Iterations: 10\n",
        "         Function evaluations: 64\n",
        "         Gradient evaluations: 16\n",
        "Warning: Maximum number of iterations has been exceeded."
       ]
      },
      {
       "output_type": "stream",
       "stream": "stdout",
       "text": [
        "\n",
        "         Current function value: 3930.544444\n",
        "         Iterations: 10\n",
        "         Function evaluations: 116\n",
        "         Gradient evaluations: 29\n",
        "Warning: Maximum number of iterations has been exceeded."
       ]
      },
      {
       "output_type": "stream",
       "stream": "stdout",
       "text": [
        "\n",
        "         Current function value: 3909.858527\n",
        "         Iterations: 10\n",
        "         Function evaluations: 148\n",
        "         Gradient evaluations: 37\n",
        "Warning: Desired error not necessarily achieved due to precision loss."
       ]
      },
      {
       "output_type": "stream",
       "stream": "stdout",
       "text": [
        "\n",
        "         Current function value: 3882.437706\n",
        "         Iterations: 7\n",
        "         Function evaluations: 274\n",
        "         Gradient evaluations: 66\n",
        "Warning: Maximum number of iterations has been exceeded."
       ]
      },
      {
       "output_type": "stream",
       "stream": "stdout",
       "text": [
        "\n",
        "         Current function value: 3941.984904\n",
        "         Iterations: 10\n",
        "         Function evaluations: 160\n",
        "         Gradient evaluations: 40\n",
        "Warning: Maximum number of iterations has been exceeded."
       ]
      },
      {
       "output_type": "stream",
       "stream": "stdout",
       "text": [
        "\n",
        "         Current function value: 3928.464001\n",
        "         Iterations: 10\n",
        "         Function evaluations: 180\n",
        "         Gradient evaluations: 45\n",
        "Warning: Maximum number of iterations has been exceeded."
       ]
      },
      {
       "output_type": "stream",
       "stream": "stdout",
       "text": [
        "\n",
        "         Current function value: 3933.877163\n",
        "         Iterations: 10\n",
        "         Function evaluations: 140\n",
        "         Gradient evaluations: 35\n",
        "Warning: Maximum number of iterations has been exceeded."
       ]
      },
      {
       "output_type": "stream",
       "stream": "stdout",
       "text": [
        "\n",
        "         Current function value: 3908.452494\n",
        "         Iterations: 10\n",
        "         Function evaluations: 164\n",
        "         Gradient evaluations: 41\n",
        "Warning: Maximum number of iterations has been exceeded."
       ]
      },
      {
       "output_type": "stream",
       "stream": "stdout",
       "text": [
        "\n",
        "         Current function value: 3882.443894\n",
        "         Iterations: 10\n",
        "         Function evaluations: 148\n",
        "         Gradient evaluations: 37\n",
        "Warning: Desired error not necessarily achieved due to precision loss."
       ]
      },
      {
       "output_type": "stream",
       "stream": "stdout",
       "text": [
        "\n",
        "         Current function value: 3901.180550\n",
        "         Iterations: 7\n",
        "         Function evaluations: 128\n",
        "         Gradient evaluations: 29\n",
        "Warning: Maximum number of iterations has been exceeded."
       ]
      },
      {
       "output_type": "stream",
       "stream": "stdout",
       "text": [
        "\n",
        "         Current function value: 3917.478017\n",
        "         Iterations: 10\n",
        "         Function evaluations: 156\n",
        "         Gradient evaluations: 39\n",
        "Warning: Desired error not necessarily achieved due to precision loss."
       ]
      },
      {
       "output_type": "stream",
       "stream": "stdout",
       "text": [
        "\n",
        "         Current function value: 3889.066513\n",
        "         Iterations: 8\n",
        "         Function evaluations: 129\n",
        "         Gradient evaluations: 32\n",
        "Warning: Maximum number of iterations has been exceeded."
       ]
      },
      {
       "output_type": "stream",
       "stream": "stdout",
       "text": [
        "\n",
        "         Current function value: 3919.447755\n",
        "         Iterations: 10\n",
        "         Function evaluations: 152\n",
        "         Gradient evaluations: 38\n",
        "Warning: Maximum number of iterations has been exceeded."
       ]
      },
      {
       "output_type": "stream",
       "stream": "stdout",
       "text": [
        "\n",
        "         Current function value: 3949.818342\n",
        "         Iterations: 10\n",
        "         Function evaluations: 156\n",
        "         Gradient evaluations: 39\n",
        "Warning: Maximum number of iterations has been exceeded."
       ]
      },
      {
       "output_type": "stream",
       "stream": "stdout",
       "text": [
        "\n",
        "         Current function value: 3962.686729\n",
        "         Iterations: 10\n",
        "         Function evaluations: 180\n",
        "         Gradient evaluations: 45\n",
        "Warning: Maximum number of iterations has been exceeded."
       ]
      },
      {
       "output_type": "stream",
       "stream": "stdout",
       "text": [
        "\n",
        "         Current function value: 3948.854410\n",
        "         Iterations: 10\n",
        "         Function evaluations: 164\n",
        "         Gradient evaluations: 41\n",
        "Warning: Maximum number of iterations has been exceeded."
       ]
      },
      {
       "output_type": "stream",
       "stream": "stdout",
       "text": [
        "\n",
        "         Current function value: 4027.798082\n",
        "         Iterations: 10\n",
        "         Function evaluations: 180\n",
        "         Gradient evaluations: 45\n",
        "Warning: Desired error not necessarily achieved due to precision loss."
       ]
      },
      {
       "output_type": "stream",
       "stream": "stdout",
       "text": [
        "\n",
        "         Current function value: 4036.633346\n",
        "         Iterations: 6\n",
        "         Function evaluations: 136\n",
        "         Gradient evaluations: 31\n",
        "Warning: Maximum number of iterations has been exceeded."
       ]
      },
      {
       "output_type": "stream",
       "stream": "stdout",
       "text": [
        "\n",
        "         Current function value: 4072.840019\n",
        "         Iterations: 10\n",
        "         Function evaluations: 160\n",
        "         Gradient evaluations: 40\n",
        "Warning: Maximum number of iterations has been exceeded."
       ]
      },
      {
       "output_type": "stream",
       "stream": "stdout",
       "text": [
        "\n",
        "         Current function value: 4047.408466\n",
        "         Iterations: 10\n",
        "         Function evaluations: 180\n",
        "         Gradient evaluations: 45\n",
        "Warning: Maximum number of iterations has been exceeded."
       ]
      },
      {
       "output_type": "stream",
       "stream": "stdout",
       "text": [
        "\n",
        "         Current function value: 4020.341385\n",
        "         Iterations: 10\n",
        "         Function evaluations: 140\n",
        "         Gradient evaluations: 35\n",
        "Warning: Desired error not necessarily achieved due to precision loss."
       ]
      },
      {
       "output_type": "stream",
       "stream": "stdout",
       "text": [
        "\n",
        "         Current function value: 3997.883874\n",
        "         Iterations: 6\n",
        "         Function evaluations: 243\n",
        "         Gradient evaluations: 58\n",
        "Warning: Maximum number of iterations has been exceeded."
       ]
      },
      {
       "output_type": "stream",
       "stream": "stdout",
       "text": [
        "\n",
        "         Current function value: 4045.649905\n",
        "         Iterations: 10\n",
        "         Function evaluations: 128\n",
        "         Gradient evaluations: 32\n",
        "Warning: Desired error not necessarily achieved due to precision loss."
       ]
      },
      {
       "output_type": "stream",
       "stream": "stdout",
       "text": [
        "\n",
        "         Current function value: 4048.335293\n",
        "         Iterations: 8\n",
        "         Function evaluations: 138\n",
        "         Gradient evaluations: 32\n",
        "Warning: Maximum number of iterations has been exceeded."
       ]
      },
      {
       "output_type": "stream",
       "stream": "stdout",
       "text": [
        "\n",
        "         Current function value: 4023.597875\n",
        "         Iterations: 10\n",
        "         Function evaluations: 144\n",
        "         Gradient evaluations: 36\n",
        "Warning: Maximum number of iterations has been exceeded."
       ]
      },
      {
       "output_type": "stream",
       "stream": "stdout",
       "text": [
        "\n",
        "         Current function value: 4035.752027\n",
        "         Iterations: 10\n",
        "         Function evaluations: 128\n",
        "         Gradient evaluations: 32\n",
        "Warning: Maximum number of iterations has been exceeded."
       ]
      },
      {
       "output_type": "stream",
       "stream": "stdout",
       "text": [
        "\n",
        "         Current function value: 4030.976338\n",
        "         Iterations: 10\n",
        "         Function evaluations: 313\n",
        "         Gradient evaluations: 77\n",
        "Optimization terminated successfully."
       ]
      },
      {
       "output_type": "stream",
       "stream": "stdout",
       "text": [
        "\n",
        "         Current function value: 4138.828952\n",
        "         Iterations: 9\n",
        "         Function evaluations: 132\n",
        "         Gradient evaluations: 33\n",
        "Warning: Desired error not necessarily achieved due to precision loss."
       ]
      },
      {
       "output_type": "stream",
       "stream": "stdout",
       "text": [
        "\n",
        "         Current function value: 4121.987907\n",
        "         Iterations: 6\n",
        "         Function evaluations: 124\n",
        "         Gradient evaluations: 28\n",
        "Warning: Maximum number of iterations has been exceeded."
       ]
      },
      {
       "output_type": "stream",
       "stream": "stdout",
       "text": [
        "\n",
        "         Current function value: 4100.645821\n",
        "         Iterations: 10\n",
        "         Function evaluations: 176\n",
        "         Gradient evaluations: 44\n",
        "Warning: Maximum number of iterations has been exceeded."
       ]
      },
      {
       "output_type": "stream",
       "stream": "stdout",
       "text": [
        "\n",
        "         Current function value: 4076.536619\n",
        "         Iterations: 10\n",
        "         Function evaluations: 176\n",
        "         Gradient evaluations: 44\n",
        "Warning: Maximum number of iterations has been exceeded."
       ]
      },
      {
       "output_type": "stream",
       "stream": "stdout",
       "text": [
        "\n",
        "         Current function value: 4134.628552\n",
        "         Iterations: 10\n",
        "         Function evaluations: 160\n",
        "         Gradient evaluations: 40\n",
        "Warning: Maximum number of iterations has been exceeded."
       ]
      },
      {
       "output_type": "stream",
       "stream": "stdout",
       "text": [
        "\n",
        "         Current function value: 4116.163894\n",
        "         Iterations: 10\n",
        "         Function evaluations: 180\n",
        "         Gradient evaluations: 45\n",
        "Warning: Maximum number of iterations has been exceeded."
       ]
      },
      {
       "output_type": "stream",
       "stream": "stdout",
       "text": [
        "\n",
        "         Current function value: 4090.543562\n",
        "         Iterations: 10\n",
        "         Function evaluations: 136\n",
        "         Gradient evaluations: 34\n",
        "Warning: Maximum number of iterations has been exceeded."
       ]
      },
      {
       "output_type": "stream",
       "stream": "stdout",
       "text": [
        "\n",
        "         Current function value: 4065.273452\n",
        "         Iterations: 10\n",
        "         Function evaluations: 156\n",
        "         Gradient evaluations: 39\n",
        "Warning: Maximum number of iterations has been exceeded."
       ]
      },
      {
       "output_type": "stream",
       "stream": "stdout",
       "text": [
        "\n",
        "         Current function value: 4049.524300\n",
        "         Iterations: 10\n",
        "         Function evaluations: 176\n",
        "         Gradient evaluations: 44\n",
        "Warning: Desired error not necessarily achieved due to precision loss."
       ]
      },
      {
       "output_type": "stream",
       "stream": "stdout",
       "text": [
        "\n",
        "         Current function value: 4025.140734\n",
        "         Iterations: 9\n",
        "         Function evaluations: 157\n",
        "         Gradient evaluations: 39\n",
        "Warning: Desired error not necessarily achieved due to precision loss.\n",
        "         Current function value: 4000.572143\n",
        "         Iterations: 5\n",
        "         Function evaluations: 89\n",
        "         Gradient evaluations: 20\n",
        "Warning: Desired error not necessarily achieved due to precision loss."
       ]
      },
      {
       "output_type": "stream",
       "stream": "stdout",
       "text": [
        "\n",
        "         Current function value: 4018.243702\n",
        "         Iterations: 5\n",
        "         Function evaluations: 92\n",
        "         Gradient evaluations: 20\n",
        "Warning: Maximum number of iterations has been exceeded."
       ]
      },
      {
       "output_type": "stream",
       "stream": "stdout",
       "text": [
        "\n",
        "         Current function value: 4035.378155\n",
        "         Iterations: 10\n",
        "         Function evaluations: 164\n",
        "         Gradient evaluations: 41\n",
        "Warning: Desired error not necessarily achieved due to precision loss."
       ]
      },
      {
       "output_type": "stream",
       "stream": "stdout",
       "text": [
        "\n",
        "         Current function value: 4016.469445\n",
        "         Iterations: 7\n",
        "         Function evaluations: 128\n",
        "         Gradient evaluations: 29\n",
        "Optimization terminated successfully."
       ]
      },
      {
       "output_type": "stream",
       "stream": "stdout",
       "text": [
        "\n",
        "         Current function value: 3995.945446\n",
        "         Iterations: 8\n",
        "         Function evaluations: 132\n",
        "         Gradient evaluations: 33\n",
        "Warning: Maximum number of iterations has been exceeded."
       ]
      },
      {
       "output_type": "stream",
       "stream": "stdout",
       "text": [
        "\n",
        "         Current function value: 3972.653211\n",
        "         Iterations: 10\n",
        "         Function evaluations: 180\n",
        "         Gradient evaluations: 45\n",
        "Warning: Maximum number of iterations has been exceeded."
       ]
      },
      {
       "output_type": "stream",
       "stream": "stdout",
       "text": [
        "\n",
        "         Current function value: 3974.349627\n",
        "         Iterations: 10\n",
        "         Function evaluations: 160\n",
        "         Gradient evaluations: 40\n",
        "Warning: Maximum number of iterations has been exceeded."
       ]
      },
      {
       "output_type": "stream",
       "stream": "stdout",
       "text": [
        "\n",
        "         Current function value: 3955.430447\n",
        "         Iterations: 10\n",
        "         Function evaluations: 144\n",
        "         Gradient evaluations: 36\n",
        "Warning: Maximum number of iterations has been exceeded."
       ]
      },
      {
       "output_type": "stream",
       "stream": "stdout",
       "text": [
        "\n",
        "         Current function value: 3972.770703\n",
        "         Iterations: 10\n",
        "         Function evaluations: 180\n",
        "         Gradient evaluations: 45\n",
        "Warning: Maximum number of iterations has been exceeded."
       ]
      },
      {
       "output_type": "stream",
       "stream": "stdout",
       "text": [
        "\n",
        "         Current function value: 3955.623298\n",
        "         Iterations: 10\n",
        "         Function evaluations: 212\n",
        "         Gradient evaluations: 53\n",
        "Warning: Desired error not necessarily achieved due to precision loss."
       ]
      },
      {
       "output_type": "stream",
       "stream": "stdout",
       "text": [
        "\n",
        "         Current function value: 3969.930061\n",
        "         Iterations: 7\n",
        "         Function evaluations: 124\n",
        "         Gradient evaluations: 28\n",
        "Warning: Maximum number of iterations has been exceeded."
       ]
      },
      {
       "output_type": "stream",
       "stream": "stdout",
       "text": [
        "\n",
        "         Current function value: 3951.099148\n",
        "         Iterations: 10\n",
        "         Function evaluations: 180\n",
        "         Gradient evaluations: 45\n",
        "Warning: Desired error not necessarily achieved due to precision loss."
       ]
      },
      {
       "output_type": "stream",
       "stream": "stdout",
       "text": [
        "\n",
        "         Current function value: 3928.813514\n",
        "         Iterations: 8\n",
        "         Function evaluations: 240\n",
        "         Gradient evaluations: 57\n",
        "Warning: Maximum number of iterations has been exceeded."
       ]
      },
      {
       "output_type": "stream",
       "stream": "stdout",
       "text": [
        "\n",
        "         Current function value: 3907.599098\n",
        "         Iterations: 10\n",
        "         Function evaluations: 156\n",
        "         Gradient evaluations: 39\n",
        "Warning: Maximum number of iterations has been exceeded."
       ]
      },
      {
       "output_type": "stream",
       "stream": "stdout",
       "text": [
        "\n",
        "         Current function value: 3912.852839\n",
        "         Iterations: 10\n",
        "         Function evaluations: 156\n",
        "         Gradient evaluations: 39\n",
        "Warning: Desired error not necessarily achieved due to precision loss."
       ]
      },
      {
       "output_type": "stream",
       "stream": "stdout",
       "text": [
        "\n",
        "         Current function value: 3904.960528\n",
        "         Iterations: 7\n",
        "         Function evaluations: 128\n",
        "         Gradient evaluations: 29\n",
        "Warning: Desired error not necessarily achieved due to precision loss."
       ]
      },
      {
       "output_type": "stream",
       "stream": "stdout",
       "text": [
        "\n",
        "         Current function value: 3903.663935\n",
        "         Iterations: 9\n",
        "         Function evaluations: 145\n",
        "         Gradient evaluations: 36\n",
        "Warning: Maximum number of iterations has been exceeded."
       ]
      },
      {
       "output_type": "stream",
       "stream": "stdout",
       "text": [
        "\n",
        "         Current function value: 3883.507358\n",
        "         Iterations: 10\n",
        "         Function evaluations: 136\n",
        "         Gradient evaluations: 34\n",
        "Warning: Maximum number of iterations has been exceeded."
       ]
      },
      {
       "output_type": "stream",
       "stream": "stdout",
       "text": [
        "\n",
        "         Current function value: 3874.010662\n",
        "         Iterations: 10\n",
        "         Function evaluations: 112\n",
        "         Gradient evaluations: 28\n",
        "Warning: Desired error not necessarily achieved due to precision loss."
       ]
      },
      {
       "output_type": "stream",
       "stream": "stdout",
       "text": [
        "\n",
        "         Current function value: 3863.719484\n",
        "         Iterations: 9\n",
        "         Function evaluations: 176\n",
        "         Gradient evaluations: 41\n",
        "Warning: Desired error not necessarily achieved due to precision loss."
       ]
      },
      {
       "output_type": "stream",
       "stream": "stdout",
       "text": [
        "\n",
        "         Current function value: 3844.030778\n",
        "         Iterations: 7\n",
        "         Function evaluations: 200\n",
        "         Gradient evaluations: 47\n",
        "Warning: Desired error not necessarily achieved due to precision loss."
       ]
      },
      {
       "output_type": "stream",
       "stream": "stdout",
       "text": [
        "\n",
        "         Current function value: 3849.144958\n",
        "         Iterations: 7\n",
        "         Function evaluations: 128\n",
        "         Gradient evaluations: 29\n",
        "Warning: Maximum number of iterations has been exceeded."
       ]
      },
      {
       "output_type": "stream",
       "stream": "stdout",
       "text": [
        "\n",
        "         Current function value: 3875.182368\n",
        "         Iterations: 10\n",
        "         Function evaluations: 156\n",
        "         Gradient evaluations: 39\n",
        "Warning: Maximum number of iterations has been exceeded."
       ]
      },
      {
       "output_type": "stream",
       "stream": "stdout",
       "text": [
        "\n",
        "         Current function value: 3859.702793\n",
        "         Iterations: 10\n",
        "         Function evaluations: 140\n",
        "         Gradient evaluations: 35\n",
        "Warning: Maximum number of iterations has been exceeded."
       ]
      },
      {
       "output_type": "stream",
       "stream": "stdout",
       "text": [
        "\n",
        "         Current function value: 3853.583383\n",
        "         Iterations: 10\n",
        "         Function evaluations: 128\n",
        "         Gradient evaluations: 32\n",
        "Warning: Maximum number of iterations has been exceeded."
       ]
      },
      {
       "output_type": "stream",
       "stream": "stdout",
       "text": [
        "\n",
        "         Current function value: 3843.751112\n",
        "         Iterations: 10\n",
        "         Function evaluations: 140\n",
        "         Gradient evaluations: 35\n",
        "Warning: Maximum number of iterations has been exceeded."
       ]
      },
      {
       "output_type": "stream",
       "stream": "stdout",
       "text": [
        "\n",
        "         Current function value: 3823.582466\n",
        "         Iterations: 10\n",
        "         Function evaluations: 144\n",
        "         Gradient evaluations: 36\n",
        "Warning: Maximum number of iterations has been exceeded."
       ]
      },
      {
       "output_type": "stream",
       "stream": "stdout",
       "text": [
        "\n",
        "         Current function value: 3803.826812\n",
        "         Iterations: 10\n",
        "         Function evaluations: 124\n",
        "         Gradient evaluations: 31\n",
        "Warning: Desired error not necessarily achieved due to precision loss."
       ]
      },
      {
       "output_type": "stream",
       "stream": "stdout",
       "text": [
        "\n",
        "         Current function value: 3908.115562\n",
        "         Iterations: 7\n",
        "         Function evaluations: 277\n",
        "         Gradient evaluations: 67\n",
        "Warning: Maximum number of iterations has been exceeded."
       ]
      },
      {
       "output_type": "stream",
       "stream": "stdout",
       "text": [
        "\n",
        "         Current function value: 3910.657631\n",
        "         Iterations: 10\n",
        "         Function evaluations: 160\n",
        "         Gradient evaluations: 40\n",
        "Warning: Desired error not necessarily achieved due to precision loss."
       ]
      },
      {
       "output_type": "stream",
       "stream": "stdout",
       "text": [
        "\n",
        "         Current function value: 3895.317078\n",
        "         Iterations: 7\n",
        "         Function evaluations: 148\n",
        "         Gradient evaluations: 34\n",
        "Warning: Desired error not necessarily achieved due to precision loss."
       ]
      },
      {
       "output_type": "stream",
       "stream": "stdout",
       "text": [
        "\n",
        "         Current function value: 3879.733276\n",
        "         Iterations: 6\n",
        "         Function evaluations: 204\n",
        "         Gradient evaluations: 49\n",
        "Warning: Maximum number of iterations has been exceeded."
       ]
      },
      {
       "output_type": "stream",
       "stream": "stdout",
       "text": [
        "\n",
        "         Current function value: 3860.309129\n",
        "         Iterations: 10\n",
        "         Function evaluations: 136\n",
        "         Gradient evaluations: 34\n",
        "Warning: Desired error not necessarily achieved due to precision loss."
       ]
      },
      {
       "output_type": "stream",
       "stream": "stdout",
       "text": [
        "\n",
        "         Current function value: 3853.962642\n",
        "         Iterations: 6\n",
        "         Function evaluations: 128\n",
        "         Gradient evaluations: 29\n",
        "Warning: Maximum number of iterations has been exceeded."
       ]
      },
      {
       "output_type": "stream",
       "stream": "stdout",
       "text": [
        "\n",
        "         Current function value: 3840.694477\n",
        "         Iterations: 10\n",
        "         Function evaluations: 156\n",
        "         Gradient evaluations: 39\n",
        "Warning: Desired error not necessarily achieved due to precision loss."
       ]
      },
      {
       "output_type": "stream",
       "stream": "stdout",
       "text": [
        "\n",
        "         Current function value: 3824.177088\n",
        "         Iterations: 6\n",
        "         Function evaluations: 192\n",
        "         Gradient evaluations: 45\n",
        "Warning: Maximum number of iterations has been exceeded."
       ]
      },
      {
       "output_type": "stream",
       "stream": "stdout",
       "text": [
        "\n",
        "         Current function value: 3821.473451\n",
        "         Iterations: 10\n",
        "         Function evaluations: 180\n",
        "         Gradient evaluations: 45\n",
        "Warning: Desired error not necessarily achieved due to precision loss."
       ]
      },
      {
       "output_type": "stream",
       "stream": "stdout",
       "text": [
        "\n",
        "         Current function value: 3803.968636\n",
        "         Iterations: 6\n",
        "         Function evaluations: 128\n",
        "         Gradient evaluations: 29\n",
        "Warning: Maximum number of iterations has been exceeded."
       ]
      },
      {
       "output_type": "stream",
       "stream": "stdout",
       "text": [
        "\n",
        "         Current function value: 3803.976006\n",
        "         Iterations: 10\n",
        "         Function evaluations: 168\n",
        "         Gradient evaluations: 42\n",
        "Warning: Maximum number of iterations has been exceeded."
       ]
      },
      {
       "output_type": "stream",
       "stream": "stdout",
       "text": [
        "\n",
        "         Current function value: 3802.557548\n",
        "         Iterations: 10\n",
        "         Function evaluations: 148\n",
        "         Gradient evaluations: 37\n",
        "Warning: Desired error not necessarily achieved due to precision loss."
       ]
      },
      {
       "output_type": "stream",
       "stream": "stdout",
       "text": [
        "\n",
        "         Current function value: 3794.002445\n",
        "         Iterations: 5\n",
        "         Function evaluations: 116\n",
        "         Gradient evaluations: 26\n",
        "Warning: Maximum number of iterations has been exceeded."
       ]
      },
      {
       "output_type": "stream",
       "stream": "stdout",
       "text": [
        "\n",
        "         Current function value: 3785.079024\n",
        "         Iterations: 10\n",
        "         Function evaluations: 152\n",
        "         Gradient evaluations: 38\n",
        "Warning: Desired error not necessarily achieved due to precision loss."
       ]
      },
      {
       "output_type": "stream",
       "stream": "stdout",
       "text": [
        "\n",
        "         Current function value: 3837.827931\n",
        "         Iterations: 8\n",
        "         Function evaluations: 168\n",
        "         Gradient evaluations: 39\n",
        "Warning: Desired error not necessarily achieved due to precision loss."
       ]
      },
      {
       "output_type": "stream",
       "stream": "stdout",
       "text": [
        "\n",
        "         Current function value: 3861.991367\n",
        "         Iterations: 7\n",
        "         Function evaluations: 124\n",
        "         Gradient evaluations: 28\n",
        "Warning: Desired error not necessarily achieved due to precision loss."
       ]
      },
      {
       "output_type": "stream",
       "stream": "stdout",
       "text": [
        "\n",
        "         Current function value: 3845.722159\n",
        "         Iterations: 8\n",
        "         Function evaluations: 279\n",
        "         Gradient evaluations: 67\n",
        "Warning: Desired error not necessarily achieved due to precision loss."
       ]
      },
      {
       "output_type": "stream",
       "stream": "stdout",
       "text": [
        "\n",
        "         Current function value: 3827.749799\n",
        "         Iterations: 5\n",
        "         Function evaluations: 100\n",
        "         Gradient evaluations: 22\n",
        "Warning: Maximum number of iterations has been exceeded."
       ]
      },
      {
       "output_type": "stream",
       "stream": "stdout",
       "text": [
        "\n",
        "         Current function value: 3814.213776\n",
        "         Iterations: 10\n",
        "         Function evaluations: 184\n",
        "         Gradient evaluations: 46\n",
        "Warning: Maximum number of iterations has been exceeded."
       ]
      },
      {
       "output_type": "stream",
       "stream": "stdout",
       "text": [
        "\n",
        "         Current function value: 3811.048510\n",
        "         Iterations: 10\n",
        "         Function evaluations: 112\n",
        "         Gradient evaluations: 28\n",
        "Warning: Maximum number of iterations has been exceeded."
       ]
      },
      {
       "output_type": "stream",
       "stream": "stdout",
       "text": [
        "\n",
        "         Current function value: 3796.792087\n",
        "         Iterations: 10\n",
        "         Function evaluations: 156\n",
        "         Gradient evaluations: 39\n",
        "Warning: Maximum number of iterations has been exceeded."
       ]
      },
      {
       "output_type": "stream",
       "stream": "stdout",
       "text": [
        "\n",
        "         Current function value: 3839.144959\n",
        "         Iterations: 10\n",
        "         Function evaluations: 160\n",
        "         Gradient evaluations: 40\n",
        "Warning: Maximum number of iterations has been exceeded."
       ]
      },
      {
       "output_type": "stream",
       "stream": "stdout",
       "text": [
        "\n",
        "         Current function value: 3850.478399\n",
        "         Iterations: 10\n",
        "         Function evaluations: 228\n",
        "         Gradient evaluations: 57\n",
        "Warning: Maximum number of iterations has been exceeded."
       ]
      },
      {
       "output_type": "stream",
       "stream": "stdout",
       "text": [
        "\n",
        "         Current function value: 3838.291862\n",
        "         Iterations: 10\n",
        "         Function evaluations: 180\n",
        "         Gradient evaluations: 45\n",
        "Warning: Maximum number of iterations has been exceeded."
       ]
      },
      {
       "output_type": "stream",
       "stream": "stdout",
       "text": [
        "\n",
        "         Current function value: 3833.587097\n",
        "         Iterations: 10\n",
        "         Function evaluations: 156\n",
        "         Gradient evaluations: 39\n",
        "Warning: Maximum number of iterations has been exceeded."
       ]
      },
      {
       "output_type": "stream",
       "stream": "stdout",
       "text": [
        "\n",
        "         Current function value: 3819.532048\n",
        "         Iterations: 10\n",
        "         Function evaluations: 152\n",
        "         Gradient evaluations: 38\n",
        "Warning: Desired error not necessarily achieved due to precision loss."
       ]
      },
      {
       "output_type": "stream",
       "stream": "stdout",
       "text": [
        "\n",
        "         Current function value: 3822.160575\n",
        "         Iterations: 7\n",
        "         Function evaluations: 128\n",
        "         Gradient evaluations: 29\n",
        "Warning: Maximum number of iterations has been exceeded."
       ]
      },
      {
       "output_type": "stream",
       "stream": "stdout",
       "text": [
        "\n",
        "         Current function value: 3868.041881\n",
        "         Iterations: 10\n",
        "         Function evaluations: 208\n",
        "         Gradient evaluations: 52\n",
        "Warning: Maximum number of iterations has been exceeded."
       ]
      },
      {
       "output_type": "stream",
       "stream": "stdout",
       "text": [
        "\n",
        "         Current function value: 3921.815425\n",
        "         Iterations: 10\n",
        "         Function evaluations: 192\n",
        "         Gradient evaluations: 48\n",
        "Warning: Maximum number of iterations has been exceeded."
       ]
      },
      {
       "output_type": "stream",
       "stream": "stdout",
       "text": [
        "\n",
        "         Current function value: 3928.319941\n",
        "         Iterations: 10\n",
        "         Function evaluations: 152\n",
        "         Gradient evaluations: 38\n",
        "Warning: Maximum number of iterations has been exceeded."
       ]
      },
      {
       "output_type": "stream",
       "stream": "stdout",
       "text": [
        "\n",
        "         Current function value: 3916.395711\n",
        "         Iterations: 10\n",
        "         Function evaluations: 144\n",
        "         Gradient evaluations: 36\n",
        "Warning: Maximum number of iterations has been exceeded."
       ]
      },
      {
       "output_type": "stream",
       "stream": "stdout",
       "text": [
        "\n",
        "         Current function value: 3900.880629\n",
        "         Iterations: 10\n",
        "         Function evaluations: 188\n",
        "         Gradient evaluations: 47\n",
        "Warning: Maximum number of iterations has been exceeded."
       ]
      },
      {
       "output_type": "stream",
       "stream": "stdout",
       "text": [
        "\n",
        "         Current function value: 3953.621337\n",
        "         Iterations: 10\n",
        "         Function evaluations: 184\n",
        "         Gradient evaluations: 46\n",
        "Warning: Maximum number of iterations has been exceeded."
       ]
      },
      {
       "output_type": "stream",
       "stream": "stdout",
       "text": [
        "\n",
        "         Current function value: 3937.897646\n",
        "         Iterations: 10\n",
        "         Function evaluations: 164\n",
        "         Gradient evaluations: 41\n",
        "Warning: Maximum number of iterations has been exceeded."
       ]
      },
      {
       "output_type": "stream",
       "stream": "stdout",
       "text": [
        "\n",
        "         Current function value: 3921.148411\n",
        "         Iterations: 10\n",
        "         Function evaluations: 164\n",
        "         Gradient evaluations: 41\n",
        "Warning: Maximum number of iterations has been exceeded."
       ]
      },
      {
       "output_type": "stream",
       "stream": "stdout",
       "text": [
        "\n",
        "         Current function value: 3907.187602\n",
        "         Iterations: 10\n",
        "         Function evaluations: 152\n",
        "         Gradient evaluations: 38\n",
        "Warning: Maximum number of iterations has been exceeded."
       ]
      },
      {
       "output_type": "stream",
       "stream": "stdout",
       "text": [
        "\n",
        "         Current function value: 3894.338376\n",
        "         Iterations: 10\n",
        "         Function evaluations: 184\n",
        "         Gradient evaluations: 46\n",
        "Warning: Desired error not necessarily achieved due to precision loss."
       ]
      },
      {
       "output_type": "stream",
       "stream": "stdout",
       "text": [
        "\n",
        "         Current function value: 3878.257584\n",
        "         Iterations: 9\n",
        "         Function evaluations: 188\n",
        "         Gradient evaluations: 44\n",
        "Warning: Desired error not necessarily achieved due to precision loss."
       ]
      },
      {
       "output_type": "stream",
       "stream": "stdout",
       "text": [
        "\n",
        "         Current function value: 3863.264761\n",
        "         Iterations: 5\n",
        "         Function evaluations: 67\n",
        "         Gradient evaluations: 14\n",
        "Warning: Maximum number of iterations has been exceeded."
       ]
      },
      {
       "output_type": "stream",
       "stream": "stdout",
       "text": [
        "\n",
        "         Current function value: 3876.274791\n",
        "         Iterations: 10\n",
        "         Function evaluations: 184\n",
        "         Gradient evaluations: 46\n",
        "Warning: Maximum number of iterations has been exceeded."
       ]
      },
      {
       "output_type": "stream",
       "stream": "stdout",
       "text": [
        "\n",
        "         Current function value: 3859.569509\n",
        "         Iterations: 10\n",
        "         Function evaluations: 128\n",
        "         Gradient evaluations: 32\n",
        "Warning: Maximum number of iterations has been exceeded."
       ]
      },
      {
       "output_type": "stream",
       "stream": "stdout",
       "text": [
        "\n",
        "         Current function value: 3847.391702\n",
        "         Iterations: 10\n",
        "         Function evaluations: 156\n",
        "         Gradient evaluations: 39\n",
        "Warning: Desired error not necessarily achieved due to precision loss."
       ]
      },
      {
       "output_type": "stream",
       "stream": "stdout",
       "text": [
        "\n",
        "         Current function value: 3881.088413\n",
        "         Iterations: 6\n",
        "         Function evaluations: 234\n",
        "         Gradient evaluations: 56\n",
        "Warning: Maximum number of iterations has been exceeded."
       ]
      },
      {
       "output_type": "stream",
       "stream": "stdout",
       "text": [
        "\n",
        "         Current function value: 3902.545293\n",
        "         Iterations: 10\n",
        "         Function evaluations: 152\n",
        "         Gradient evaluations: 38\n",
        "Warning: Maximum number of iterations has been exceeded."
       ]
      },
      {
       "output_type": "stream",
       "stream": "stdout",
       "text": [
        "\n",
        "         Current function value: 3901.160488\n",
        "         Iterations: 10\n",
        "         Function evaluations: 148\n",
        "         Gradient evaluations: 37\n",
        "Warning: Maximum number of iterations has been exceeded."
       ]
      },
      {
       "output_type": "stream",
       "stream": "stdout",
       "text": [
        "\n",
        "         Current function value: 3885.354455\n",
        "         Iterations: 10\n",
        "         Function evaluations: 156\n",
        "         Gradient evaluations: 39\n",
        "Warning: Desired error not necessarily achieved due to precision loss."
       ]
      },
      {
       "output_type": "stream",
       "stream": "stdout",
       "text": [
        "\n",
        "         Current function value: 3902.822061\n",
        "         Iterations: 8\n",
        "         Function evaluations: 330\n",
        "         Gradient evaluations: 79\n",
        "Warning: Maximum number of iterations has been exceeded."
       ]
      },
      {
       "output_type": "stream",
       "stream": "stdout",
       "text": [
        "\n",
        "         Current function value: 3887.412049\n",
        "         Iterations: 10\n",
        "         Function evaluations: 164\n",
        "         Gradient evaluations: 41\n",
        "Warning: Desired error not necessarily achieved due to precision loss."
       ]
      },
      {
       "output_type": "stream",
       "stream": "stdout",
       "text": [
        "\n",
        "         Current function value: 3926.693300\n",
        "         Iterations: 7\n",
        "         Function evaluations: 136\n",
        "         Gradient evaluations: 31\n",
        "Warning: Maximum number of iterations has been exceeded."
       ]
      },
      {
       "output_type": "stream",
       "stream": "stdout",
       "text": [
        "\n",
        "         Current function value: 3946.463626\n",
        "         Iterations: 10\n",
        "         Function evaluations: 188\n",
        "         Gradient evaluations: 47\n",
        "Warning: Maximum number of iterations has been exceeded."
       ]
      },
      {
       "output_type": "stream",
       "stream": "stdout",
       "text": [
        "\n",
        "         Current function value: 3942.604009\n",
        "         Iterations: 10\n",
        "         Function evaluations: 124\n",
        "         Gradient evaluations: 31\n",
        "Warning: Desired error not necessarily achieved due to precision loss."
       ]
      },
      {
       "output_type": "stream",
       "stream": "stdout",
       "text": [
        "\n",
        "         Current function value: 3930.915410\n",
        "         Iterations: 7\n",
        "         Function evaluations: 223\n",
        "         Gradient evaluations: 53\n",
        "Warning: Maximum number of iterations has been exceeded."
       ]
      },
      {
       "output_type": "stream",
       "stream": "stdout",
       "text": [
        "\n",
        "         Current function value: 3928.849592\n",
        "         Iterations: 10\n",
        "         Function evaluations: 184\n",
        "         Gradient evaluations: 46\n",
        "Warning: Desired error not necessarily achieved due to precision loss."
       ]
      },
      {
       "output_type": "stream",
       "stream": "stdout",
       "text": [
        "\n",
        "         Current function value: 3928.059069\n",
        "         Iterations: 7\n",
        "         Function evaluations: 259\n",
        "         Gradient evaluations: 62\n",
        "Warning: Desired error not necessarily achieved due to precision loss."
       ]
      },
      {
       "output_type": "stream",
       "stream": "stdout",
       "text": [
        "\n",
        "         Current function value: 3912.888532\n",
        "         Iterations: 7\n",
        "         Function evaluations: 231\n",
        "         Gradient evaluations: 55\n",
        "Warning: Desired error not necessarily achieved due to precision loss."
       ]
      },
      {
       "output_type": "stream",
       "stream": "stdout",
       "text": [
        "\n",
        "         Current function value: 3897.183072\n",
        "         Iterations: 9\n",
        "         Function evaluations: 267\n",
        "         Gradient evaluations: 64\n",
        "Warning: Maximum number of iterations has been exceeded."
       ]
      },
      {
       "output_type": "stream",
       "stream": "stdout",
       "text": [
        "\n",
        "         Current function value: 3888.852233\n",
        "         Iterations: 10\n",
        "         Function evaluations: 136\n",
        "         Gradient evaluations: 34\n",
        "Warning: Maximum number of iterations has been exceeded."
       ]
      },
      {
       "output_type": "stream",
       "stream": "stdout",
       "text": [
        "\n",
        "         Current function value: 3875.339317\n",
        "         Iterations: 10\n",
        "         Function evaluations: 120\n",
        "         Gradient evaluations: 30\n",
        "Warning: Maximum number of iterations has been exceeded."
       ]
      },
      {
       "output_type": "stream",
       "stream": "stdout",
       "text": [
        "\n",
        "         Current function value: 3875.333098\n",
        "         Iterations: 10\n",
        "         Function evaluations: 148\n",
        "         Gradient evaluations: 37\n",
        "Warning: Desired error not necessarily achieved due to precision loss."
       ]
      },
      {
       "output_type": "stream",
       "stream": "stdout",
       "text": [
        "\n",
        "         Current function value: 3860.010537\n",
        "         Iterations: 9\n",
        "         Function evaluations: 265\n",
        "         Gradient evaluations: 64\n",
        "Warning: Desired error not necessarily achieved due to precision loss."
       ]
      },
      {
       "output_type": "stream",
       "stream": "stdout",
       "text": [
        "\n",
        "         Current function value: 3883.052579\n",
        "         Iterations: 7\n",
        "         Function evaluations: 124\n",
        "         Gradient evaluations: 28\n",
        "Warning: Desired error not necessarily achieved due to precision loss."
       ]
      },
      {
       "output_type": "stream",
       "stream": "stdout",
       "text": [
        "\n",
        "         Current function value: 3867.663861\n",
        "         Iterations: 9\n",
        "         Function evaluations: 226\n",
        "         Gradient evaluations: 54\n",
        "Warning: Maximum number of iterations has been exceeded."
       ]
      },
      {
       "output_type": "stream",
       "stream": "stdout",
       "text": [
        "\n",
        "         Current function value: 3906.244874\n",
        "         Iterations: 10\n",
        "         Function evaluations: 204\n",
        "         Gradient evaluations: 51\n",
        "Warning: Maximum number of iterations has been exceeded."
       ]
      },
      {
       "output_type": "stream",
       "stream": "stdout",
       "text": [
        "\n",
        "         Current function value: 3895.037816\n",
        "         Iterations: 10\n",
        "         Function evaluations: 156\n",
        "         Gradient evaluations: 39\n",
        "Warning: Maximum number of iterations has been exceeded."
       ]
      },
      {
       "output_type": "stream",
       "stream": "stdout",
       "text": [
        "\n",
        "         Current function value: 3923.558758\n",
        "         Iterations: 10\n",
        "         Function evaluations: 160\n",
        "         Gradient evaluations: 40\n",
        "Warning: Maximum number of iterations has been exceeded."
       ]
      },
      {
       "output_type": "stream",
       "stream": "stdout",
       "text": [
        "\n",
        "         Current function value: 3924.144599\n",
        "         Iterations: 10\n",
        "         Function evaluations: 176\n",
        "         Gradient evaluations: 44\n",
        "Warning: Maximum number of iterations has been exceeded."
       ]
      },
      {
       "output_type": "stream",
       "stream": "stdout",
       "text": [
        "\n",
        "         Current function value: 3915.550165\n",
        "         Iterations: 10\n",
        "         Function evaluations: 136\n",
        "         Gradient evaluations: 34\n",
        "Warning: Maximum number of iterations has been exceeded."
       ]
      },
      {
       "output_type": "stream",
       "stream": "stdout",
       "text": [
        "\n",
        "         Current function value: 3905.133023\n",
        "         Iterations: 10\n",
        "         Function evaluations: 152\n",
        "         Gradient evaluations: 38\n",
        "Warning: Desired error not necessarily achieved due to precision loss."
       ]
      },
      {
       "output_type": "stream",
       "stream": "stdout",
       "text": [
        "\n",
        "         Current function value: 3895.875016\n",
        "         Iterations: 7\n",
        "         Function evaluations: 128\n",
        "         Gradient evaluations: 29\n",
        "Warning: Maximum number of iterations has been exceeded."
       ]
      },
      {
       "output_type": "stream",
       "stream": "stdout",
       "text": [
        "\n",
        "         Current function value: 3897.703676\n",
        "         Iterations: 10\n",
        "         Function evaluations: 160\n",
        "         Gradient evaluations: 40\n",
        "Warning: Maximum number of iterations has been exceeded."
       ]
      },
      {
       "output_type": "stream",
       "stream": "stdout",
       "text": [
        "\n",
        "         Current function value: 3924.054645\n",
        "         Iterations: 10\n",
        "         Function evaluations: 140\n",
        "         Gradient evaluations: 35\n",
        "Warning: Maximum number of iterations has been exceeded."
       ]
      },
      {
       "output_type": "stream",
       "stream": "stdout",
       "text": [
        "\n",
        "         Current function value: 3909.276932\n",
        "         Iterations: 10\n",
        "         Function evaluations: 196\n",
        "         Gradient evaluations: 49\n",
        "Warning: Maximum number of iterations has been exceeded."
       ]
      },
      {
       "output_type": "stream",
       "stream": "stdout",
       "text": [
        "\n",
        "         Current function value: 3898.640375\n",
        "         Iterations: 10\n",
        "         Function evaluations: 160\n",
        "         Gradient evaluations: 40\n",
        "Warning: Maximum number of iterations has been exceeded."
       ]
      },
      {
       "output_type": "stream",
       "stream": "stdout",
       "text": [
        "\n",
        "         Current function value: 3890.057475\n",
        "         Iterations: 10\n",
        "         Function evaluations: 144\n",
        "         Gradient evaluations: 36\n",
        "Warning: Desired error not necessarily achieved due to precision loss."
       ]
      },
      {
       "output_type": "stream",
       "stream": "stdout",
       "text": [
        "\n",
        "         Current function value: 3879.567984\n",
        "         Iterations: 7\n",
        "         Function evaluations: 112\n",
        "         Gradient evaluations: 25\n",
        "Warning: Maximum number of iterations has been exceeded."
       ]
      },
      {
       "output_type": "stream",
       "stream": "stdout",
       "text": [
        "\n",
        "         Current function value: 3875.103300\n",
        "         Iterations: 10\n",
        "         Function evaluations: 144\n",
        "         Gradient evaluations: 36\n",
        "Warning: Desired error not necessarily achieved due to precision loss."
       ]
      },
      {
       "output_type": "stream",
       "stream": "stdout",
       "text": [
        "\n",
        "         Current function value: 3868.154613\n",
        "         Iterations: 7\n",
        "         Function evaluations: 132\n",
        "         Gradient evaluations: 30\n",
        "Warning: Desired error not necessarily achieved due to precision loss."
       ]
      },
      {
       "output_type": "stream",
       "stream": "stdout",
       "text": [
        "\n",
        "         Current function value: 3858.189912\n",
        "         Iterations: 8\n",
        "         Function evaluations: 258\n",
        "         Gradient evaluations: 62\n",
        "Warning: Maximum number of iterations has been exceeded."
       ]
      },
      {
       "output_type": "stream",
       "stream": "stdout",
       "text": [
        "\n",
        "         Current function value: 3846.542038\n",
        "         Iterations: 10\n",
        "         Function evaluations: 132\n",
        "         Gradient evaluations: 33\n",
        "Warning: Maximum number of iterations has been exceeded."
       ]
      },
      {
       "output_type": "stream",
       "stream": "stdout",
       "text": [
        "\n",
        "         Current function value: 3836.071831\n",
        "         Iterations: 10\n",
        "         Function evaluations: 140\n",
        "         Gradient evaluations: 35\n",
        "Warning: Desired error not necessarily achieved due to precision loss."
       ]
      },
      {
       "output_type": "stream",
       "stream": "stdout",
       "text": [
        "\n",
        "         Current function value: 3823.659818\n",
        "         Iterations: 5\n",
        "         Function evaluations: 96\n",
        "         Gradient evaluations: 21\n",
        "Warning: Desired error not necessarily achieved due to precision loss."
       ]
      },
      {
       "output_type": "stream",
       "stream": "stdout",
       "text": [
        "\n",
        "         Current function value: 3813.385300\n",
        "         Iterations: 6\n",
        "         Function evaluations: 207\n",
        "         Gradient evaluations: 49\n",
        "Warning: Desired error not necessarily achieved due to precision loss."
       ]
      },
      {
       "output_type": "stream",
       "stream": "stdout",
       "text": [
        "\n",
        "         Current function value: 3801.715878\n",
        "         Iterations: 5\n",
        "         Function evaluations: 77\n",
        "         Gradient evaluations: 17\n",
        "Warning: Maximum number of iterations has been exceeded."
       ]
      },
      {
       "output_type": "stream",
       "stream": "stdout",
       "text": [
        "\n",
        "         Current function value: 3832.198178\n",
        "         Iterations: 10\n",
        "         Function evaluations: 180\n",
        "         Gradient evaluations: 45\n",
        "Warning: Maximum number of iterations has been exceeded."
       ]
      },
      {
       "output_type": "stream",
       "stream": "stdout",
       "text": [
        "\n",
        "         Current function value: 3831.630725\n",
        "         Iterations: 10\n",
        "         Function evaluations: 156\n",
        "         Gradient evaluations: 39\n",
        "Warning: Maximum number of iterations has been exceeded."
       ]
      },
      {
       "output_type": "stream",
       "stream": "stdout",
       "text": [
        "\n",
        "         Current function value: 3825.117793\n",
        "         Iterations: 10\n",
        "         Function evaluations: 176\n",
        "         Gradient evaluations: 44\n",
        "Warning: Maximum number of iterations has been exceeded."
       ]
      },
      {
       "output_type": "stream",
       "stream": "stdout",
       "text": [
        "\n",
        "         Current function value: 3852.390728\n",
        "         Iterations: 10\n",
        "         Function evaluations: 164\n",
        "         Gradient evaluations: 41\n",
        "Warning: Maximum number of iterations has been exceeded."
       ]
      },
      {
       "output_type": "stream",
       "stream": "stdout",
       "text": [
        "\n",
        "         Current function value: 3841.437307\n",
        "         Iterations: 10\n",
        "         Function evaluations: 196\n",
        "         Gradient evaluations: 49\n",
        "Warning: Maximum number of iterations has been exceeded."
       ]
      },
      {
       "output_type": "stream",
       "stream": "stdout",
       "text": [
        "\n",
        "         Current function value: 3828.242325\n",
        "         Iterations: 10\n",
        "         Function evaluations: 176\n",
        "         Gradient evaluations: 44\n",
        "Warning: Maximum number of iterations has been exceeded."
       ]
      },
      {
       "output_type": "stream",
       "stream": "stdout",
       "text": [
        "\n",
        "         Current function value: 3833.852752\n",
        "         Iterations: 10\n",
        "         Function evaluations: 144\n",
        "         Gradient evaluations: 36\n",
        "Warning: Maximum number of iterations has been exceeded."
       ]
      },
      {
       "output_type": "stream",
       "stream": "stdout",
       "text": [
        "\n",
        "         Current function value: 3852.687891\n",
        "         Iterations: 10\n",
        "         Function evaluations: 176\n",
        "         Gradient evaluations: 44\n",
        "Warning: Desired error not necessarily achieved due to precision loss."
       ]
      },
      {
       "output_type": "stream",
       "stream": "stdout",
       "text": [
        "\n",
        "         Current function value: 3842.641168\n",
        "         Iterations: 5\n",
        "         Function evaluations: 107\n",
        "         Gradient evaluations: 24\n",
        "Warning: Desired error not necessarily achieved due to precision loss."
       ]
      },
      {
       "output_type": "stream",
       "stream": "stdout",
       "text": [
        "\n",
        "         Current function value: 3853.727875\n",
        "         Iterations: 5\n",
        "         Function evaluations: 84\n",
        "         Gradient evaluations: 18\n",
        "Warning: Maximum number of iterations has been exceeded."
       ]
      },
      {
       "output_type": "stream",
       "stream": "stdout",
       "text": [
        "\n",
        "         Current function value: 3863.168089\n",
        "         Iterations: 10\n",
        "         Function evaluations: 132\n",
        "         Gradient evaluations: 33\n",
        "Warning: Maximum number of iterations has been exceeded."
       ]
      },
      {
       "output_type": "stream",
       "stream": "stdout",
       "text": [
        "\n",
        "         Current function value: 3851.971251\n",
        "         Iterations: 10\n",
        "         Function evaluations: 128\n",
        "         Gradient evaluations: 32\n",
        "Warning: Maximum number of iterations has been exceeded."
       ]
      },
      {
       "output_type": "stream",
       "stream": "stdout",
       "text": [
        "\n",
        "         Current function value: 3873.859774\n",
        "         Iterations: 10\n",
        "         Function evaluations: 188\n",
        "         Gradient evaluations: 47\n",
        "Warning: Maximum number of iterations has been exceeded."
       ]
      },
      {
       "output_type": "stream",
       "stream": "stdout",
       "text": [
        "\n",
        "         Current function value: 3865.620813\n",
        "         Iterations: 10\n",
        "         Function evaluations: 184\n",
        "         Gradient evaluations: 46\n",
        "Warning: Desired error not necessarily achieved due to precision loss."
       ]
      },
      {
       "output_type": "stream",
       "stream": "stdout",
       "text": [
        "\n",
        "         Current function value: 3870.555405\n",
        "         Iterations: 6\n",
        "         Function evaluations: 207\n",
        "         Gradient evaluations: 49\n",
        "Warning: Desired error not necessarily achieved due to precision loss."
       ]
      },
      {
       "output_type": "stream",
       "stream": "stdout",
       "text": [
        "\n",
        "         Current function value: 3867.923504\n",
        "         Iterations: 7\n",
        "         Function evaluations: 204\n",
        "         Gradient evaluations: 48\n",
        "Warning: Maximum number of iterations has been exceeded."
       ]
      },
      {
       "output_type": "stream",
       "stream": "stdout",
       "text": [
        "\n",
        "         Current function value: 3920.054898\n",
        "         Iterations: 10\n",
        "         Function evaluations: 156\n",
        "         Gradient evaluations: 39\n",
        "Warning: Maximum number of iterations has been exceeded."
       ]
      },
      {
       "output_type": "stream",
       "stream": "stdout",
       "text": [
        "\n",
        "         Current function value: 3944.664742\n",
        "         Iterations: 10\n",
        "         Function evaluations: 148\n",
        "         Gradient evaluations: 37\n",
        "Warning: Maximum number of iterations has been exceeded."
       ]
      },
      {
       "output_type": "stream",
       "stream": "stdout",
       "text": [
        "\n",
        "         Current function value: 3951.696255\n",
        "         Iterations: 10\n",
        "         Function evaluations: 168\n",
        "         Gradient evaluations: 42\n",
        "Warning: Maximum number of iterations has been exceeded."
       ]
      },
      {
       "output_type": "stream",
       "stream": "stdout",
       "text": [
        "\n",
        "         Current function value: 3945.549297\n",
        "         Iterations: 10\n",
        "         Function evaluations: 124\n",
        "         Gradient evaluations: 31\n",
        "Warning: Maximum number of iterations has been exceeded."
       ]
      },
      {
       "output_type": "stream",
       "stream": "stdout",
       "text": [
        "\n",
        "         Current function value: 3938.530712\n",
        "         Iterations: 10\n",
        "         Function evaluations: 132\n",
        "         Gradient evaluations: 33\n",
        "Warning: Maximum number of iterations has been exceeded."
       ]
      },
      {
       "output_type": "stream",
       "stream": "stdout",
       "text": [
        "\n",
        "         Current function value: 3940.250987\n",
        "         Iterations: 10\n",
        "         Function evaluations: 128\n",
        "         Gradient evaluations: 32\n",
        "Warning: Maximum number of iterations has been exceeded."
       ]
      },
      {
       "output_type": "stream",
       "stream": "stdout",
       "text": [
        "\n",
        "         Current function value: 3964.121639\n",
        "         Iterations: 10\n",
        "         Function evaluations: 180\n",
        "         Gradient evaluations: 45\n",
        "Warning: Desired error not necessarily achieved due to precision loss."
       ]
      },
      {
       "output_type": "stream",
       "stream": "stdout",
       "text": [
        "\n",
        "         Current function value: 3950.802238\n",
        "         Iterations: 9\n",
        "         Function evaluations: 227\n",
        "         Gradient evaluations: 54\n",
        "Warning: Maximum number of iterations has been exceeded."
       ]
      },
      {
       "output_type": "stream",
       "stream": "stdout",
       "text": [
        "\n",
        "         Current function value: 3979.789870\n",
        "         Iterations: 10\n",
        "         Function evaluations: 136\n",
        "         Gradient evaluations: 34\n",
        "Warning: Maximum number of iterations has been exceeded."
       ]
      },
      {
       "output_type": "stream",
       "stream": "stdout",
       "text": [
        "\n",
        "         Current function value: 3967.167001\n",
        "         Iterations: 10\n",
        "         Function evaluations: 160\n",
        "         Gradient evaluations: 40\n",
        "Warning: Desired error not necessarily achieved due to precision loss."
       ]
      },
      {
       "output_type": "stream",
       "stream": "stdout",
       "text": [
        "\n",
        "         Current function value: 3963.921569\n",
        "         Iterations: 3\n",
        "         Function evaluations: 177\n",
        "         Gradient evaluations: 42\n",
        "Warning: Maximum number of iterations has been exceeded."
       ]
      },
      {
       "output_type": "stream",
       "stream": "stdout",
       "text": [
        "\n",
        "         Current function value: 3959.702732\n",
        "         Iterations: 10\n",
        "         Function evaluations: 200\n",
        "         Gradient evaluations: 50\n",
        "Warning: Desired error not necessarily achieved due to precision loss."
       ]
      },
      {
       "output_type": "stream",
       "stream": "stdout",
       "text": [
        "\n",
        "         Current function value: 3959.322270\n",
        "         Iterations: 9\n",
        "         Function evaluations: 271\n",
        "         Gradient evaluations: 65\n",
        "Warning: Maximum number of iterations has been exceeded."
       ]
      },
      {
       "output_type": "stream",
       "stream": "stdout",
       "text": [
        "\n",
        "         Current function value: 3946.886070\n",
        "         Iterations: 10\n",
        "         Function evaluations: 116\n",
        "         Gradient evaluations: 29\n",
        "Warning: Desired error not necessarily achieved due to precision loss."
       ]
      },
      {
       "output_type": "stream",
       "stream": "stdout",
       "text": [
        "\n",
        "         Current function value: 3942.323172\n",
        "         Iterations: 6\n",
        "         Function evaluations: 239\n",
        "         Gradient evaluations: 57\n",
        "Warning: Maximum number of iterations has been exceeded."
       ]
      },
      {
       "output_type": "stream",
       "stream": "stdout",
       "text": [
        "\n",
        "         Current function value: 3993.151707\n",
        "         Iterations: 10\n",
        "         Function evaluations: 140\n",
        "         Gradient evaluations: 35\n",
        "Warning: Desired error not necessarily achieved due to precision loss."
       ]
      },
      {
       "output_type": "stream",
       "stream": "stdout",
       "text": [
        "\n",
        "         Current function value: 3980.504718\n",
        "         Iterations: 6\n",
        "         Function evaluations: 232\n",
        "         Gradient evaluations: 55\n",
        "Warning: Desired error not necessarily achieved due to precision loss."
       ]
      },
      {
       "output_type": "stream",
       "stream": "stdout",
       "text": [
        "\n",
        "         Current function value: 4003.920525\n",
        "         Iterations: 2\n",
        "         Function evaluations: 68\n",
        "         Gradient evaluations: 14\n",
        "Optimization terminated successfully."
       ]
      },
      {
       "output_type": "stream",
       "stream": "stdout",
       "text": [
        "\n",
        "         Current function value: 3999.318583\n",
        "         Iterations: 9\n",
        "         Function evaluations: 196\n",
        "         Gradient evaluations: 49\n",
        "Warning: Desired error not necessarily achieved due to precision loss."
       ]
      },
      {
       "output_type": "stream",
       "stream": "stdout",
       "text": [
        "\n",
        "         Current function value: 3986.555718\n",
        "         Iterations: 8\n",
        "         Function evaluations: 195\n",
        "         Gradient evaluations: 46\n",
        "Warning: Desired error not necessarily achieved due to precision loss."
       ]
      },
      {
       "output_type": "stream",
       "stream": "stdout",
       "text": [
        "\n",
        "         Current function value: 3974.074911\n",
        "         Iterations: 8\n",
        "         Function evaluations: 229\n",
        "         Gradient evaluations: 52\n",
        "Warning: Maximum number of iterations has been exceeded."
       ]
      },
      {
       "output_type": "stream",
       "stream": "stdout",
       "text": [
        "\n",
        "         Current function value: 3996.994065\n",
        "         Iterations: 10\n",
        "         Function evaluations: 184\n",
        "         Gradient evaluations: 46\n",
        "Warning: Desired error not necessarily achieved due to precision loss."
       ]
      },
      {
       "output_type": "stream",
       "stream": "stdout",
       "text": [
        "\n",
        "         Current function value: 3984.495970\n",
        "         Iterations: 5\n",
        "         Function evaluations: 104\n",
        "         Gradient evaluations: 23\n",
        "Warning: Desired error not necessarily achieved due to precision loss."
       ]
      },
      {
       "output_type": "stream",
       "stream": "stdout",
       "text": [
        "\n",
        "         Current function value: 3972.530871\n",
        "         Iterations: 8\n",
        "         Function evaluations: 104\n",
        "         Gradient evaluations: 24\n",
        "Warning: Maximum number of iterations has been exceeded."
       ]
      },
      {
       "output_type": "stream",
       "stream": "stdout",
       "text": [
        "\n",
        "         Current function value: 3964.774014\n",
        "         Iterations: 10\n",
        "         Function evaluations: 172\n",
        "         Gradient evaluations: 43\n",
        "Warning: Maximum number of iterations has been exceeded."
       ]
      },
      {
       "output_type": "stream",
       "stream": "stdout",
       "text": [
        "\n",
        "         Current function value: 3957.921158\n",
        "         Iterations: 10\n",
        "         Function evaluations: 176\n",
        "         Gradient evaluations: 44\n",
        "Warning: Maximum number of iterations has been exceeded."
       ]
      },
      {
       "output_type": "stream",
       "stream": "stdout",
       "text": [
        "\n",
        "         Current function value: 3949.153844\n",
        "         Iterations: 10\n",
        "         Function evaluations: 168\n",
        "         Gradient evaluations: 42\n",
        "Warning: Maximum number of iterations has been exceeded."
       ]
      },
      {
       "output_type": "stream",
       "stream": "stdout",
       "text": [
        "\n",
        "         Current function value: 3946.382953\n",
        "         Iterations: 10\n",
        "         Function evaluations: 140\n",
        "         Gradient evaluations: 35\n",
        "Warning: Maximum number of iterations has been exceeded."
       ]
      },
      {
       "output_type": "stream",
       "stream": "stdout",
       "text": [
        "\n",
        "         Current function value: 3950.159483\n",
        "         Iterations: 10\n",
        "         Function evaluations: 156\n",
        "         Gradient evaluations: 39\n",
        "Warning: Maximum number of iterations has been exceeded."
       ]
      },
      {
       "output_type": "stream",
       "stream": "stdout",
       "text": [
        "\n",
        "         Current function value: 3945.166643\n",
        "         Iterations: 10\n",
        "         Function evaluations: 288\n",
        "         Gradient evaluations: 72\n",
        "Warning: Maximum number of iterations has been exceeded."
       ]
      },
      {
       "output_type": "stream",
       "stream": "stdout",
       "text": [
        "\n",
        "         Current function value: 3936.783111\n",
        "         Iterations: 10\n",
        "         Function evaluations: 148\n",
        "         Gradient evaluations: 37\n",
        "Warning: Desired error not necessarily achieved due to precision loss."
       ]
      },
      {
       "output_type": "stream",
       "stream": "stdout",
       "text": [
        "\n",
        "         Current function value: 3935.052089\n",
        "         Iterations: 6\n",
        "         Function evaluations: 92\n",
        "         Gradient evaluations: 20\n",
        "Warning: Desired error not necessarily achieved due to precision loss."
       ]
      },
      {
       "output_type": "stream",
       "stream": "stdout",
       "text": [
        "\n",
        "         Current function value: 3925.499208\n",
        "         Iterations: 7\n",
        "         Function evaluations: 132\n",
        "         Gradient evaluations: 30\n",
        "Warning: Maximum number of iterations has been exceeded."
       ]
      },
      {
       "output_type": "stream",
       "stream": "stdout",
       "text": [
        "\n",
        "         Current function value: 3916.472996\n",
        "         Iterations: 10\n",
        "         Function evaluations: 160\n",
        "         Gradient evaluations: 40\n",
        "Warning: Maximum number of iterations has been exceeded."
       ]
      },
      {
       "output_type": "stream",
       "stream": "stdout",
       "text": [
        "\n",
        "         Current function value: 3937.553010\n",
        "         Iterations: 10\n",
        "         Function evaluations: 112\n",
        "         Gradient evaluations: 28\n",
        "Warning: Desired error not necessarily achieved due to precision loss."
       ]
      },
      {
       "output_type": "stream",
       "stream": "stdout",
       "text": [
        "\n",
        "         Current function value: 3951.457297\n",
        "         Iterations: 6\n",
        "         Function evaluations: 100\n",
        "         Gradient evaluations: 22\n",
        "Warning: Maximum number of iterations has been exceeded."
       ]
      },
      {
       "output_type": "stream",
       "stream": "stdout",
       "text": [
        "\n",
        "         Current function value: 3939.754618\n",
        "         Iterations: 10\n",
        "         Function evaluations: 200\n",
        "         Gradient evaluations: 50\n",
        "Warning: Desired error not necessarily achieved due to precision loss."
       ]
      },
      {
       "output_type": "stream",
       "stream": "stdout",
       "text": [
        "\n",
        "         Current function value: 3928.199129\n",
        "         Iterations: 6\n",
        "         Function evaluations: 99\n",
        "         Gradient evaluations: 22\n",
        "Warning: Maximum number of iterations has been exceeded."
       ]
      },
      {
       "output_type": "stream",
       "stream": "stdout",
       "text": [
        "\n",
        "         Current function value: 3918.007967\n",
        "         Iterations: 10\n",
        "         Function evaluations: 148\n",
        "         Gradient evaluations: 37\n",
        "Warning: Maximum number of iterations has been exceeded."
       ]
      },
      {
       "output_type": "stream",
       "stream": "stdout",
       "text": [
        "\n",
        "         Current function value: 3963.148953\n",
        "         Iterations: 10\n",
        "         Function evaluations: 160\n",
        "         Gradient evaluations: 40\n",
        "Warning: Maximum number of iterations has been exceeded."
       ]
      },
      {
       "output_type": "stream",
       "stream": "stdout",
       "text": [
        "\n",
        "         Current function value: 3955.111304\n",
        "         Iterations: 10\n",
        "         Function evaluations: 200\n",
        "         Gradient evaluations: 50\n",
        "Warning: Maximum number of iterations has been exceeded."
       ]
      },
      {
       "output_type": "stream",
       "stream": "stdout",
       "text": [
        "\n",
        "         Current function value: 3955.532109\n",
        "         Iterations: 10\n",
        "         Function evaluations: 220\n",
        "         Gradient evaluations: 55\n",
        "Warning: Maximum number of iterations has been exceeded."
       ]
      },
      {
       "output_type": "stream",
       "stream": "stdout",
       "text": [
        "\n",
        "         Current function value: 3959.005944\n",
        "         Iterations: 10\n",
        "         Function evaluations: 136\n",
        "         Gradient evaluations: 34\n",
        "Warning: Maximum number of iterations has been exceeded."
       ]
      },
      {
       "output_type": "stream",
       "stream": "stdout",
       "text": [
        "\n",
        "         Current function value: 3948.282526\n",
        "         Iterations: 10\n",
        "         Function evaluations: 136\n",
        "         Gradient evaluations: 34\n",
        "Warning: Desired error not necessarily achieved due to precision loss."
       ]
      },
      {
       "output_type": "stream",
       "stream": "stdout",
       "text": [
        "\n",
        "         Current function value: 3937.436828\n",
        "         Iterations: 6\n",
        "         Function evaluations: 152\n",
        "         Gradient evaluations: 35\n",
        "Warning: Desired error not necessarily achieved due to precision loss."
       ]
      },
      {
       "output_type": "stream",
       "stream": "stdout",
       "text": [
        "\n",
        "         Current function value: 3929.403689\n",
        "         Iterations: 6\n",
        "         Function evaluations: 92\n",
        "         Gradient evaluations: 20\n",
        "Warning: Maximum number of iterations has been exceeded."
       ]
      },
      {
       "output_type": "stream",
       "stream": "stdout",
       "text": [
        "\n",
        "         Current function value: 3918.015193\n",
        "         Iterations: 10\n",
        "         Function evaluations: 128\n",
        "         Gradient evaluations: 32\n",
        "Warning: Maximum number of iterations has been exceeded."
       ]
      },
      {
       "output_type": "stream",
       "stream": "stdout",
       "text": [
        "\n",
        "         Current function value: 3922.269288\n",
        "         Iterations: 10\n",
        "         Function evaluations: 192\n",
        "         Gradient evaluations: 48\n",
        "Warning: Maximum number of iterations has been exceeded."
       ]
      },
      {
       "output_type": "stream",
       "stream": "stdout",
       "text": [
        "\n",
        "         Current function value: 3917.695757\n",
        "         Iterations: 10\n",
        "         Function evaluations: 128\n",
        "         Gradient evaluations: 32\n",
        "Warning: Desired error not necessarily achieved due to precision loss."
       ]
      },
      {
       "output_type": "stream",
       "stream": "stdout",
       "text": [
        "\n",
        "         Current function value: 3932.016204\n",
        "         Iterations: 7\n",
        "         Function evaluations: 132\n",
        "         Gradient evaluations: 30\n",
        "Warning: Maximum number of iterations has been exceeded."
       ]
      },
      {
       "output_type": "stream",
       "stream": "stdout",
       "text": [
        "\n",
        "         Current function value: 3927.816148\n",
        "         Iterations: 10\n",
        "         Function evaluations: 144\n",
        "         Gradient evaluations: 36\n",
        "Warning: Desired error not necessarily achieved due to precision loss."
       ]
      },
      {
       "output_type": "stream",
       "stream": "stdout",
       "text": [
        "\n",
        "         Current function value: 3933.709424\n",
        "         Iterations: 8\n",
        "         Function evaluations: 177\n",
        "         Gradient evaluations: 44\n",
        "Warning: Desired error not necessarily achieved due to precision loss."
       ]
      },
      {
       "output_type": "stream",
       "stream": "stdout",
       "text": [
        "\n",
        "         Current function value: 3930.787559\n",
        "         Iterations: 9\n",
        "         Function evaluations: 166\n",
        "         Gradient evaluations: 39\n",
        "Warning: Maximum number of iterations has been exceeded."
       ]
      },
      {
       "output_type": "stream",
       "stream": "stdout",
       "text": [
        "\n",
        "         Current function value: 3919.397975\n",
        "         Iterations: 10\n",
        "         Function evaluations: 180\n",
        "         Gradient evaluations: 45\n",
        "Warning: Desired error not necessarily achieved due to precision loss."
       ]
      },
      {
       "output_type": "stream",
       "stream": "stdout",
       "text": [
        "\n",
        "         Current function value: 3917.421033\n",
        "         Iterations: 7\n",
        "         Function evaluations: 128\n",
        "         Gradient evaluations: 29\n",
        "Warning: Desired error not necessarily achieved due to precision loss."
       ]
      },
      {
       "output_type": "stream",
       "stream": "stdout",
       "text": [
        "\n",
        "         Current function value: 3916.095454\n",
        "         Iterations: 9\n",
        "         Function evaluations: 191\n",
        "         Gradient evaluations: 45\n",
        "Warning: Desired error not necessarily achieved due to precision loss."
       ]
      },
      {
       "output_type": "stream",
       "stream": "stdout",
       "text": [
        "\n",
        "         Current function value: 3905.093068\n",
        "         Iterations: 4\n",
        "         Function evaluations: 160\n",
        "         Gradient evaluations: 37\n",
        "Warning: Maximum number of iterations has been exceeded."
       ]
      },
      {
       "output_type": "stream",
       "stream": "stdout",
       "text": [
        "\n",
        "         Current function value: 3896.410035\n",
        "         Iterations: 10\n",
        "         Function evaluations: 104\n",
        "         Gradient evaluations: 26\n",
        "Warning: Maximum number of iterations has been exceeded."
       ]
      },
      {
       "output_type": "stream",
       "stream": "stdout",
       "text": [
        "\n",
        "         Current function value: 3888.869650\n",
        "         Iterations: 10\n",
        "         Function evaluations: 132\n",
        "         Gradient evaluations: 33\n",
        "Optimization terminated successfully."
       ]
      },
      {
       "output_type": "stream",
       "stream": "stdout",
       "text": [
        "\n",
        "         Current function value: 3878.383773\n",
        "         Iterations: 5\n",
        "         Function evaluations: 88\n",
        "         Gradient evaluations: 22\n",
        "Warning: Maximum number of iterations has been exceeded."
       ]
      },
      {
       "output_type": "stream",
       "stream": "stdout",
       "text": [
        "\n",
        "         Current function value: 3867.531868\n",
        "         Iterations: 10\n",
        "         Function evaluations: 156\n",
        "         Gradient evaluations: 39\n",
        "Warning: Desired error not necessarily achieved due to precision loss."
       ]
      },
      {
       "output_type": "stream",
       "stream": "stdout",
       "text": [
        "\n",
        "         Current function value: 3859.626121\n",
        "         Iterations: 8\n",
        "         Function evaluations: 188\n",
        "         Gradient evaluations: 44\n",
        "Warning: Desired error not necessarily achieved due to precision loss."
       ]
      },
      {
       "output_type": "stream",
       "stream": "stdout",
       "text": [
        "\n",
        "         Current function value: 3853.726213\n",
        "         Iterations: 8\n",
        "         Function evaluations: 136\n",
        "         Gradient evaluations: 31\n",
        "Warning: Maximum number of iterations has been exceeded."
       ]
      },
      {
       "output_type": "stream",
       "stream": "stdout",
       "text": [
        "\n",
        "         Current function value: 3842.916860\n",
        "         Iterations: 10\n",
        "         Function evaluations: 104\n",
        "         Gradient evaluations: 26\n",
        "Warning: Desired error not necessarily achieved due to precision loss."
       ]
      },
      {
       "output_type": "stream",
       "stream": "stdout",
       "text": [
        "\n",
        "         Current function value: 3832.363200\n",
        "         Iterations: 5\n",
        "         Function evaluations: 215\n",
        "         Gradient evaluations: 51\n",
        "Warning: Desired error not necessarily achieved due to precision loss."
       ]
      },
      {
       "output_type": "stream",
       "stream": "stdout",
       "text": [
        "\n",
        "         Current function value: 3837.895517\n",
        "         Iterations: 8\n",
        "         Function evaluations: 164\n",
        "         Gradient evaluations: 38\n",
        "Warning: Maximum number of iterations has been exceeded."
       ]
      },
      {
       "output_type": "stream",
       "stream": "stdout",
       "text": [
        "\n",
        "         Current function value: 3846.512405\n",
        "         Iterations: 10\n",
        "         Function evaluations: 144\n",
        "         Gradient evaluations: 36\n",
        "Warning: Desired error not necessarily achieved due to precision loss."
       ]
      },
      {
       "output_type": "stream",
       "stream": "stdout",
       "text": [
        "\n",
        "         Current function value: 3847.945820\n",
        "         Iterations: 5\n",
        "         Function evaluations: 92\n",
        "         Gradient evaluations: 20\n",
        "Warning: Desired error not necessarily achieved due to precision loss."
       ]
      },
      {
       "output_type": "stream",
       "stream": "stdout",
       "text": [
        "\n",
        "         Current function value: 3838.421525\n",
        "         Iterations: 7\n",
        "         Function evaluations: 140\n",
        "         Gradient evaluations: 32\n",
        "Warning: Maximum number of iterations has been exceeded."
       ]
      },
      {
       "output_type": "stream",
       "stream": "stdout",
       "text": [
        "\n",
        "         Current function value: 3828.844336\n",
        "         Iterations: 10\n",
        "         Function evaluations: 144\n",
        "         Gradient evaluations: 36\n",
        "Warning: Maximum number of iterations has been exceeded."
       ]
      },
      {
       "output_type": "stream",
       "stream": "stdout",
       "text": [
        "\n",
        "         Current function value: 3883.518519\n",
        "         Iterations: 10\n",
        "         Function evaluations: 188\n",
        "         Gradient evaluations: 47\n",
        "Warning: Maximum number of iterations has been exceeded."
       ]
      },
      {
       "output_type": "stream",
       "stream": "stdout",
       "text": [
        "\n",
        "         Current function value: 3905.286574\n",
        "         Iterations: 10\n",
        "         Function evaluations: 160\n",
        "         Gradient evaluations: 40\n",
        "Warning: Maximum number of iterations has been exceeded."
       ]
      },
      {
       "output_type": "stream",
       "stream": "stdout",
       "text": [
        "\n",
        "         Current function value: 3898.134174\n",
        "         Iterations: 10\n",
        "         Function evaluations: 112\n",
        "         Gradient evaluations: 28\n",
        "Warning: Desired error not necessarily achieved due to precision loss."
       ]
      },
      {
       "output_type": "stream",
       "stream": "stdout",
       "text": [
        "\n",
        "         Current function value: 3899.426268\n",
        "         Iterations: 8\n",
        "         Function evaluations: 210\n",
        "         Gradient evaluations: 50\n",
        "Warning: Maximum number of iterations has been exceeded."
       ]
      },
      {
       "output_type": "stream",
       "stream": "stdout",
       "text": [
        "\n",
        "         Current function value: 3902.528602\n",
        "         Iterations: 10\n",
        "         Function evaluations: 164\n",
        "         Gradient evaluations: 41\n",
        "Warning: Desired error not necessarily achieved due to precision loss."
       ]
      },
      {
       "output_type": "stream",
       "stream": "stdout",
       "text": [
        "\n",
        "         Current function value: 3928.131348\n",
        "         Iterations: 6\n",
        "         Function evaluations: 108\n",
        "         Gradient evaluations: 24\n",
        "Warning: Maximum number of iterations has been exceeded."
       ]
      },
      {
       "output_type": "stream",
       "stream": "stdout",
       "text": [
        "\n",
        "         Current function value: 3939.719460\n",
        "         Iterations: 10\n",
        "         Function evaluations: 172\n",
        "         Gradient evaluations: 43\n",
        "Warning: Maximum number of iterations has been exceeded."
       ]
      },
      {
       "output_type": "stream",
       "stream": "stdout",
       "text": [
        "\n",
        "         Current function value: 3936.732219\n",
        "         Iterations: 10\n",
        "         Function evaluations: 180\n",
        "         Gradient evaluations: 45\n",
        "Warning: Maximum number of iterations has been exceeded."
       ]
      },
      {
       "output_type": "stream",
       "stream": "stdout",
       "text": [
        "\n",
        "         Current function value: 3941.089697\n",
        "         Iterations: 10\n",
        "         Function evaluations: 176\n",
        "         Gradient evaluations: 44\n",
        "Warning: Desired error not necessarily achieved due to precision loss."
       ]
      },
      {
       "output_type": "stream",
       "stream": "stdout",
       "text": [
        "\n",
        "         Current function value: 3933.233068\n",
        "         Iterations: 8\n",
        "         Function evaluations: 144\n",
        "         Gradient evaluations: 33\n",
        "Warning: Maximum number of iterations has been exceeded."
       ]
      },
      {
       "output_type": "stream",
       "stream": "stdout",
       "text": [
        "\n",
        "         Current function value: 3923.906829\n",
        "         Iterations: 10\n",
        "         Function evaluations: 217\n",
        "         Gradient evaluations: 54\n",
        "Warning: Maximum number of iterations has been exceeded."
       ]
      },
      {
       "output_type": "stream",
       "stream": "stdout",
       "text": [
        "\n",
        "         Current function value: 3916.593649\n",
        "         Iterations: 10\n",
        "         Function evaluations: 148\n",
        "         Gradient evaluations: 37\n",
        "Warning: Maximum number of iterations has been exceeded."
       ]
      },
      {
       "output_type": "stream",
       "stream": "stdout",
       "text": [
        "\n",
        "         Current function value: 3913.649368\n",
        "         Iterations: 10\n",
        "         Function evaluations: 232\n",
        "         Gradient evaluations: 58\n",
        "Warning: Maximum number of iterations has been exceeded."
       ]
      },
      {
       "output_type": "stream",
       "stream": "stdout",
       "text": [
        "\n",
        "         Current function value: 3912.661106\n",
        "         Iterations: 10\n",
        "         Function evaluations: 124\n",
        "         Gradient evaluations: 31\n",
        "Warning: Maximum number of iterations has been exceeded."
       ]
      },
      {
       "output_type": "stream",
       "stream": "stdout",
       "text": [
        "\n",
        "         Current function value: 3903.898559\n",
        "         Iterations: 10\n",
        "         Function evaluations: 160\n",
        "         Gradient evaluations: 40\n",
        "Warning: Maximum number of iterations has been exceeded."
       ]
      },
      {
       "output_type": "stream",
       "stream": "stdout",
       "text": [
        "\n",
        "         Current function value: 3894.523463\n",
        "         Iterations: 10\n",
        "         Function evaluations: 188\n",
        "         Gradient evaluations: 47\n",
        "Warning: Maximum number of iterations has been exceeded."
       ]
      },
      {
       "output_type": "stream",
       "stream": "stdout",
       "text": [
        "\n",
        "         Current function value: 3896.050081\n",
        "         Iterations: 10\n",
        "         Function evaluations: 104\n",
        "         Gradient evaluations: 26\n",
        "Warning: Maximum number of iterations has been exceeded."
       ]
      },
      {
       "output_type": "stream",
       "stream": "stdout",
       "text": [
        "\n",
        "         Current function value: 3910.409985\n",
        "         Iterations: 10\n",
        "         Function evaluations: 156\n",
        "         Gradient evaluations: 39\n",
        "Warning: Desired error not necessarily achieved due to precision loss."
       ]
      },
      {
       "output_type": "stream",
       "stream": "stdout",
       "text": [
        "\n",
        "         Current function value: 3914.044106\n",
        "         Iterations: 7\n",
        "         Function evaluations: 226\n",
        "         Gradient evaluations: 54\n",
        "Warning: Maximum number of iterations has been exceeded."
       ]
      },
      {
       "output_type": "stream",
       "stream": "stdout",
       "text": [
        "\n",
        "         Current function value: 3924.897201\n",
        "         Iterations: 10\n",
        "         Function evaluations: 164\n",
        "         Gradient evaluations: 41\n",
        "Warning: Desired error not necessarily achieved due to precision loss."
       ]
      },
      {
       "output_type": "stream",
       "stream": "stdout",
       "text": [
        "\n",
        "         Current function value: 3930.044147\n",
        "         Iterations: 6\n",
        "         Function evaluations: 92\n",
        "         Gradient evaluations: 20\n",
        "Warning: Desired error not necessarily achieved due to precision loss."
       ]
      },
      {
       "output_type": "stream",
       "stream": "stdout",
       "text": [
        "\n",
        "         Current function value: 3961.123760\n",
        "         Iterations: 7\n",
        "         Function evaluations: 168\n",
        "         Gradient evaluations: 39\n",
        "Warning: Desired error not necessarily achieved due to precision loss."
       ]
      },
      {
       "output_type": "stream",
       "stream": "stdout",
       "text": [
        "\n",
        "         Current function value: 3954.009031\n",
        "         Iterations: 7\n",
        "         Function evaluations: 128\n",
        "         Gradient evaluations: 29\n",
        "Warning: Maximum number of iterations has been exceeded."
       ]
      },
      {
       "output_type": "stream",
       "stream": "stdout",
       "text": [
        "\n",
        "         Current function value: 3959.373879\n",
        "         Iterations: 10\n",
        "         Function evaluations: 164\n",
        "         Gradient evaluations: 41\n",
        "Warning: Maximum number of iterations has been exceeded."
       ]
      },
      {
       "output_type": "stream",
       "stream": "stdout",
       "text": [
        "\n",
        "         Current function value: 3952.740595\n",
        "         Iterations: 10\n",
        "         Function evaluations: 148\n",
        "         Gradient evaluations: 37\n",
        "Optimization terminated successfully."
       ]
      },
      {
       "output_type": "stream",
       "stream": "stdout",
       "text": [
        "\n",
        "         Current function value: 3950.446059\n",
        "         Iterations: 8\n",
        "         Function evaluations: 96\n",
        "         Gradient evaluations: 24\n",
        "Warning: Maximum number of iterations has been exceeded."
       ]
      },
      {
       "output_type": "stream",
       "stream": "stdout",
       "text": [
        "\n",
        "         Current function value: 3958.694076\n",
        "         Iterations: 10\n",
        "         Function evaluations: 172\n",
        "         Gradient evaluations: 43\n",
        "Warning: Maximum number of iterations has been exceeded."
       ]
      },
      {
       "output_type": "stream",
       "stream": "stdout",
       "text": [
        "\n",
        "         Current function value: 3953.109091\n",
        "         Iterations: 10\n",
        "         Function evaluations: 168\n",
        "         Gradient evaluations: 42\n",
        "Warning: Desired error not necessarily achieved due to precision loss."
       ]
      },
      {
       "output_type": "stream",
       "stream": "stdout",
       "text": [
        "\n",
        "         Current function value: 3945.915334\n",
        "         Iterations: 7\n",
        "         Function evaluations: 111\n",
        "         Gradient evaluations: 25\n",
        "Warning: Desired error not necessarily achieved due to precision loss."
       ]
      },
      {
       "output_type": "stream",
       "stream": "stdout",
       "text": [
        "\n",
        "         Current function value: 3936.749368\n",
        "         Iterations: 7\n",
        "         Function evaluations: 129\n",
        "         Gradient evaluations: 32\n",
        "Warning: Desired error not necessarily achieved due to precision loss."
       ]
      },
      {
       "output_type": "stream",
       "stream": "stdout",
       "text": [
        "\n",
        "         Current function value: 3953.662387\n",
        "         Iterations: 4\n",
        "         Function evaluations: 208\n",
        "         Gradient evaluations: 49\n",
        "Warning: Maximum number of iterations has been exceeded."
       ]
      },
      {
       "output_type": "stream",
       "stream": "stdout",
       "text": [
        "\n",
        "         Current function value: 3952.608173\n",
        "         Iterations: 10\n",
        "         Function evaluations: 156\n",
        "         Gradient evaluations: 39\n",
        "Warning: Maximum number of iterations has been exceeded."
       ]
      },
      {
       "output_type": "stream",
       "stream": "stdout",
       "text": [
        "\n",
        "         Current function value: 3943.926309\n",
        "         Iterations: 10\n",
        "         Function evaluations: 148\n",
        "         Gradient evaluations: 37\n",
        "Warning: Desired error not necessarily achieved due to precision loss."
       ]
      },
      {
       "output_type": "stream",
       "stream": "stdout",
       "text": [
        "\n",
        "         Current function value: 3933.983513\n",
        "         Iterations: 8\n",
        "         Function evaluations: 131\n",
        "         Gradient evaluations: 30\n",
        "Warning: Desired error not necessarily achieved due to precision loss."
       ]
      },
      {
       "output_type": "stream",
       "stream": "stdout",
       "text": [
        "\n",
        "         Current function value: 3927.987007\n",
        "         Iterations: 6\n",
        "         Function evaluations: 108\n",
        "         Gradient evaluations: 24\n",
        "Warning: Maximum number of iterations has been exceeded."
       ]
      },
      {
       "output_type": "stream",
       "stream": "stdout",
       "text": [
        "\n",
        "         Current function value: 3944.908508\n",
        "         Iterations: 10\n",
        "         Function evaluations: 148\n",
        "         Gradient evaluations: 37\n",
        "Warning: Desired error not necessarily achieved due to precision loss."
       ]
      },
      {
       "output_type": "stream",
       "stream": "stdout",
       "text": [
        "\n",
        "         Current function value: 3962.319818\n",
        "         Iterations: 2\n",
        "         Function evaluations: 203\n",
        "         Gradient evaluations: 48\n",
        "Warning: Maximum number of iterations has been exceeded."
       ]
      },
      {
       "output_type": "stream",
       "stream": "stdout",
       "text": [
        "\n",
        "         Current function value: 3968.519969\n",
        "         Iterations: 10\n",
        "         Function evaluations: 140\n",
        "         Gradient evaluations: 35\n",
        "Warning: Desired error not necessarily achieved due to precision loss."
       ]
      },
      {
       "output_type": "stream",
       "stream": "stdout",
       "text": [
        "\n",
        "         Current function value: 3964.643970\n",
        "         Iterations: 6\n",
        "         Function evaluations: 215\n",
        "         Gradient evaluations: 51\n",
        "Warning: Maximum number of iterations has been exceeded."
       ]
      },
      {
       "output_type": "stream",
       "stream": "stdout",
       "text": [
        "\n",
        "         Current function value: 3968.655688\n",
        "         Iterations: 10\n",
        "         Function evaluations: 168\n",
        "         Gradient evaluations: 42\n",
        "Warning: Maximum number of iterations has been exceeded."
       ]
      },
      {
       "output_type": "stream",
       "stream": "stdout",
       "text": [
        "\n",
        "         Current function value: 3966.916044\n",
        "         Iterations: 10\n",
        "         Function evaluations: 136\n",
        "         Gradient evaluations: 34\n",
        "Warning: Desired error not necessarily achieved due to precision loss."
       ]
      },
      {
       "output_type": "stream",
       "stream": "stdout",
       "text": [
        "\n",
        "         Current function value: 3958.171919\n",
        "         Iterations: 8\n",
        "         Function evaluations: 177\n",
        "         Gradient evaluations: 39\n",
        "Warning: Maximum number of iterations has been exceeded."
       ]
      },
      {
       "output_type": "stream",
       "stream": "stdout",
       "text": [
        "\n",
        "         Current function value: 3949.039801\n",
        "         Iterations: 10\n",
        "         Function evaluations: 204\n",
        "         Gradient evaluations: 51\n",
        "Warning: Maximum number of iterations has been exceeded."
       ]
      },
      {
       "output_type": "stream",
       "stream": "stdout",
       "text": [
        "\n",
        "         Current function value: 3944.648510\n",
        "         Iterations: 10\n",
        "         Function evaluations: 128\n",
        "         Gradient evaluations: 32\n",
        "Warning: Maximum number of iterations has been exceeded."
       ]
      },
      {
       "output_type": "stream",
       "stream": "stdout",
       "text": [
        "\n",
        "         Current function value: 3936.969960\n",
        "         Iterations: 10\n",
        "         Function evaluations: 140\n",
        "         Gradient evaluations: 35\n",
        "Warning: Desired error not necessarily achieved due to precision loss."
       ]
      },
      {
       "output_type": "stream",
       "stream": "stdout",
       "text": [
        "\n",
        "         Current function value: 3946.298455\n",
        "         Iterations: 9\n",
        "         Function evaluations: 212\n",
        "         Gradient evaluations: 50\n",
        "Warning: Maximum number of iterations has been exceeded."
       ]
      },
      {
       "output_type": "stream",
       "stream": "stdout",
       "text": [
        "\n",
        "         Current function value: 3936.783245\n",
        "         Iterations: 10\n",
        "         Function evaluations: 160\n",
        "         Gradient evaluations: 40\n",
        "Warning: Desired error not necessarily achieved due to precision loss."
       ]
      },
      {
       "output_type": "stream",
       "stream": "stdout",
       "text": [
        "\n",
        "         Current function value: 3927.143888\n",
        "         Iterations: 6\n",
        "         Function evaluations: 112\n",
        "         Gradient evaluations: 25\n",
        "Warning: Maximum number of iterations has been exceeded."
       ]
      },
      {
       "output_type": "stream",
       "stream": "stdout",
       "text": [
        "\n",
        "         Current function value: 3943.172637\n",
        "         Iterations: 10\n",
        "         Function evaluations: 168\n",
        "         Gradient evaluations: 42\n",
        "Warning: Maximum number of iterations has been exceeded."
       ]
      },
      {
       "output_type": "stream",
       "stream": "stdout",
       "text": [
        "\n",
        "         Current function value: 3950.685129\n",
        "         Iterations: 10\n",
        "         Function evaluations: 144\n",
        "         Gradient evaluations: 36\n",
        "Warning: Maximum number of iterations has been exceeded."
       ]
      },
      {
       "output_type": "stream",
       "stream": "stdout",
       "text": [
        "\n",
        "         Current function value: 3944.697134\n",
        "         Iterations: 10\n",
        "         Function evaluations: 184\n",
        "         Gradient evaluations: 46\n",
        "Warning: Maximum number of iterations has been exceeded."
       ]
      },
      {
       "output_type": "stream",
       "stream": "stdout",
       "text": [
        "\n",
        "         Current function value: 3951.388856\n",
        "         Iterations: 10\n",
        "         Function evaluations: 144\n",
        "         Gradient evaluations: 36\n",
        "Warning: Desired error not necessarily achieved due to precision loss."
       ]
      },
      {
       "output_type": "stream",
       "stream": "stdout",
       "text": [
        "\n",
        "         Current function value: 3954.611917\n",
        "         Iterations: 7\n",
        "         Function evaluations: 128\n",
        "         Gradient evaluations: 29\n",
        "Warning: Desired error not necessarily achieved due to precision loss."
       ]
      },
      {
       "output_type": "stream",
       "stream": "stdout",
       "text": [
        "\n",
        "         Current function value: 3946.808859\n",
        "         Iterations: 8\n",
        "         Function evaluations: 188\n",
        "         Gradient evaluations: 44\n",
        "Warning: Desired error not necessarily achieved due to precision loss."
       ]
      },
      {
       "output_type": "stream",
       "stream": "stdout",
       "text": [
        "\n",
        "         Current function value: 3941.071586\n",
        "         Iterations: 3\n",
        "         Function evaluations: 72\n",
        "         Gradient evaluations: 15\n",
        "Warning: Desired error not necessarily achieved due to precision loss."
       ]
      },
      {
       "output_type": "stream",
       "stream": "stdout",
       "text": [
        "\n",
        "         Current function value: 3933.557287\n",
        "         Iterations: 7\n",
        "         Function evaluations: 118\n",
        "         Gradient evaluations: 27\n",
        "Warning: Maximum number of iterations has been exceeded."
       ]
      },
      {
       "output_type": "stream",
       "stream": "stdout",
       "text": [
        "\n",
        "         Current function value: 3924.465526\n",
        "         Iterations: 10\n",
        "         Function evaluations: 104\n",
        "         Gradient evaluations: 26\n",
        "Warning: Maximum number of iterations has been exceeded."
       ]
      },
      {
       "output_type": "stream",
       "stream": "stdout",
       "text": [
        "\n",
        "         Current function value: 3916.936915\n",
        "         Iterations: 10\n",
        "         Function evaluations: 164\n",
        "         Gradient evaluations: 41\n",
        "Warning: Maximum number of iterations has been exceeded."
       ]
      },
      {
       "output_type": "stream",
       "stream": "stdout",
       "text": [
        "\n",
        "         Current function value: 3972.946342\n",
        "         Iterations: 10\n",
        "         Function evaluations: 152\n",
        "         Gradient evaluations: 38\n",
        "Warning: Maximum number of iterations has been exceeded."
       ]
      },
      {
       "output_type": "stream",
       "stream": "stdout",
       "text": [
        "\n",
        "         Current function value: 3968.520345\n",
        "         Iterations: 10\n",
        "         Function evaluations: 224\n",
        "         Gradient evaluations: 56\n",
        "Warning: Desired error not necessarily achieved due to precision loss."
       ]
      },
      {
       "output_type": "stream",
       "stream": "stdout",
       "text": [
        "\n",
        "         Current function value: 3967.520464\n",
        "         Iterations: 9\n",
        "         Function evaluations: 247\n",
        "         Gradient evaluations: 59\n",
        "Warning: Desired error not necessarily achieved due to precision loss."
       ]
      },
      {
       "output_type": "stream",
       "stream": "stdout",
       "text": [
        "\n",
        "         Current function value: 3959.872858\n",
        "         Iterations: 7\n",
        "         Function evaluations: 162\n",
        "         Gradient evaluations: 38\n",
        "Warning: Maximum number of iterations has been exceeded."
       ]
      },
      {
       "output_type": "stream",
       "stream": "stdout",
       "text": [
        "\n",
        "         Current function value: 3955.019857\n",
        "         Iterations: 10\n",
        "         Function evaluations: 120\n",
        "         Gradient evaluations: 30\n"
       ]
      },
      {
       "metadata": {},
       "output_type": "pyout",
       "prompt_number": 64,
       "text": [
        "<__main__.LinearRegression instance at 0x000000000CA28408>"
       ]
      }
     ],
     "prompt_number": 64
    },
    {
     "cell_type": "code",
     "collapsed": false,
     "input": [
      "# The coefficients\n",
      "print('Coefficients: \\n', regr.W)\n",
      "# The mean square error\n",
      "print(\"Residual sum of squares: %.2f\"\n",
      "      % np.mean((regr.predict(diabetes_X_test) - diabetes_y_test) ** 2))\n",
      "# Explained variance score: 1 is perfect prediction\n",
      "#print('Variance score: %.2f' % regr.score(diabetes_X_test, diabetes_y_test))\n",
      "\n",
      "# Plot outputs\n",
      "plt.scatter(diabetes_X_test, diabetes_y_test,  color='black')\n",
      "plt.plot(diabetes_X_test, regr.predict(diabetes_X_test), color='blue',\n",
      "         linewidth=3)\n",
      "\n",
      "plt.xticks(())\n",
      "plt.yticks(())\n",
      "\n",
      "plt.show()\n"
     ],
     "language": "python",
     "metadata": {},
     "outputs": [
      {
       "output_type": "stream",
       "stream": "stdout",
       "text": [
        "('Coefficients: \\n', array([ 152.91900976,  938.2769546 ]))\n",
        "Residual sum of squares: 2548.03\n"
       ]
      },
      {
       "metadata": {},
       "output_type": "display_data",
       "png": "[encoded data removed]",
       "text": [
        "<matplotlib.figure.Figure at 0xc76f748>"
       ]
      }
     ],
     "prompt_number": 63
    },
    {
     "cell_type": "code",
     "collapsed": false,
     "input": [],
     "language": "python",
     "metadata": {},
     "outputs": []
    }
   ],
   "metadata": {}
  }
 ]
}