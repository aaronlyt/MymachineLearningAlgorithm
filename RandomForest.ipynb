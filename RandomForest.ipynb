{
 "metadata": {
  "name": "",
  "signature": "sha256:0e9918d336453acb1a9d558301b7b03edc3d7bb672e66794b3d71aaee9ecd9fc"
 },
 "nbformat": 3,
 "nbformat_minor": 0,
 "worksheets": [
  {
   "cells": [
    {
     "cell_type": "code",
     "collapsed": false,
     "input": [
      "%pylab inline"
     ],
     "language": "python",
     "metadata": {},
     "outputs": [
      {
       "output_type": "stream",
       "stream": "stdout",
       "text": [
        "Populating the interactive namespace from numpy and matplotlib\n"
       ]
      }
     ],
     "prompt_number": 3
    },
    {
     "cell_type": "code",
     "collapsed": false,
     "input": [
      "from math import log\n",
      "import operator\n",
      "class TreeClassifier:\n",
      "    \"\"\"\n",
      "    \"\"\"\n",
      "    def __init__(self,criterion='entropy',max_features=None,max_depth=None,min_samples_split=1,min_samples_leaf=2):\n",
      "        self.criterion=criterion\n",
      "        self.max_features=max_features\n",
      "        self.max_depth=max_depth\n",
      "        self.min_samples_split=min_samples_split\n",
      "        self.min_samples_leaf=min_samples_leaf\n",
      "        self.tree={}\n",
      "        \n",
      "    def calEntropy(self,dataSet):\n",
      "        \"\"\"\n",
      "        cal the entropy of the dataset\n",
      "        \"\"\"\n",
      "        label_count={}\n",
      "        for data in dataSet:\n",
      "            if data[-1] not in label_count.keys():\n",
      "                label_count[data[-1]]=0\n",
      "            label_count[data[-1]]+=1\n",
      "        number_label=len(dataSet)\n",
      "        entropy=0\n",
      "        for label in label_count.keys():\n",
      "            prob=label_count[label]*1.0/number_label\n",
      "            entropy-=prob*log(prob,2)\n",
      "        return entropy\n",
      "    \n",
      "    def selectBestAttr(self,dataSet):\n",
      "        \"\"\"\n",
      "        select the best attribute\n",
      "        \"\"\"\n",
      "        #dataSet=np.concatenate((X,np.reshape(y,(len(y),1))),axis=1)\n",
      "        entropy_data=self.calEntropy(dataSet)\n",
      "        bestAttr_index=-1\n",
      "        bestAttr_entropy=-float('inf')\n",
      "        for attr_index in np.arange(dataSet.shape[1]-1):\n",
      "            values=set(dataSet[:,attr_index])\n",
      "            entropy_attr=0\n",
      "            split_infoValue=0\n",
      "            for value in values:\n",
      "                mask=dataSet[:,attr_index]==value\n",
      "                dataSet_attr=dataSet[mask][:,[attr_index,-1]]\n",
      "                \n",
      "                prob_attrdata=len(dataSet_attr)*1.0/len(dataSet)\n",
      "                \n",
      "                split_infoValue-=prob_attrdata*log(prob_attrdata,2)\n",
      "                entropy_attr+=self.calEntropy(dataSet_attr)*prob_attrdata\n",
      "                gainRatio=(entropy_data-entropy_attr)*1.0/split_infoValue\n",
      "            if gainRatio>bestAttr_entropy:\n",
      "                bestAttr_entropy=gainRatio\n",
      "                bestAttr_index=attr_index\n",
      "        return bestAttr_index\n",
      "    \n",
      "    def majorityCnt(self,classList):\n",
      "        \"\"\"\n",
      "        return the majority classLabel as the label\n",
      "        \"\"\"\n",
      "        classCount={}\n",
      "        for label in classList:\n",
      "            if label not in classCount.keys():\n",
      "                classCount[label]=0\n",
      "            classCount[label]+=1\n",
      "        sortedClassCount=sorted(classCount.iteritems(),key=operator.itemgetter(1),reverse=True)\n",
      "        \n",
      "        return sortedClassCount[0][0]\n",
      "    \n",
      "    \n",
      "    def createTree(self,dataSet,feature_indexes):\n",
      "        \"\"\"\n",
      "        create tree recursive\n",
      "        \"\"\"\n",
      "        classList=[sample[-1] for sample in dataSet]\n",
      "        if classList.count(classList[0])==len(classList):\n",
      "            print classList[0]\n",
      "            return classList[0]\n",
      "        if dataSet.shape[1]==1:\n",
      "            print self.majorityCnt(classList)\n",
      "            return self.majorityCnt(classList)\n",
      "        \n",
      "        featBest=self.selectBestAttr(dataSet)\n",
      "        featBestIndex=feature_indexes[featBest]\n",
      "        #print featBest\n",
      "        valuesUnique_featBest=set(dataSet[:,featBest])\n",
      "        #print labels\n",
      "        del(feature_indexes[featBest])\n",
      "  \n",
      "        tree={featBestIndex:{}}\n",
      "        \n",
      "        for value in valuesUnique_featBest:\n",
      "            print value\n",
      "            mask=dataSet[:,featBest]==value\n",
      "            splitDataSet=np.delete(dataSet[mask],featBest,axis=1)\n",
      "            print splitDataSet.shape\n",
      "            subFeature_indexes=feature_indexes[:]\n",
      "            tree[featBestIndex][value]=self.createTree(splitDataSet,subFeature_indexes)\n",
      "        \n",
      "        return tree\n",
      "    \n",
      "    def fit(self,X,y):\n",
      "        \"\"\"\n",
      "        fit the train data, train it\n",
      "        \"\"\"\n",
      "        dataSet=np.concatenate((X,np.reshape(y,(len(y),1))),axis=1)\n",
      "        feature_indexes=list(np.arange(X.shape[1]))\n",
      "        #print feature_indexes\n",
      "        self.tree=self.createTree(dataSet,feature_indexes)\n",
      "        \n",
      "    def classify(self,tree,testVec):\n",
      "        firtFeature=tree.keys()[0]\n",
      "        secondDict=tree[firtFeature]\n",
      "        #print secondDict.keys()\n",
      "        classLabel=float('inf')\n",
      "        for key in secondDict.keys():\n",
      "            #print testVec[firtFeature],key,str(testVec[firtFeature])==key\n",
      "            if str(testVec[firtFeature])==key:\n",
      "                #print type(secondDict[key]).__name_\n",
      "                if type(secondDict[key]).__name__=='dict':\n",
      "                    classLabel=self.classify(secondDict[key],testVec)\n",
      "                else:\n",
      "                    classLabel=secondDict[key]\n",
      "        return classLabel\n",
      "    \n",
      "    def predict(self,test_X):\n",
      "        \"\"\"\n",
      "        predict every sample in the test data\n",
      "        return a array\n",
      "        \"\"\"\n",
      "        predictioins=[]\n",
      "        \n",
      "        for testVec in test_X:\n",
      "            predictioins.append(self.classify(self.tree,testVec))\n",
      "        \n",
      "        return predictioins"
     ],
     "language": "python",
     "metadata": {},
     "outputs": [],
     "prompt_number": 4
    },
    {
     "cell_type": "code",
     "collapsed": false,
     "input": [
      "#test\n",
      "dataSet=np.array([[1,1,'yes'],[1,1,'yes'],[1,0,'no'],[0,1,'no'],[0,1,'no']])\n",
      "tr=TreeClassifier()\n",
      "print tr.calEntropy(dataSet)\n",
      "print tr.selectBestAttr(dataSet)"
     ],
     "language": "python",
     "metadata": {},
     "outputs": [
      {
       "output_type": "stream",
       "stream": "stdout",
       "text": [
        "0.970950594455\n",
        "0\n"
       ]
      }
     ],
     "prompt_number": 5
    },
    {
     "cell_type": "code",
     "collapsed": false,
     "input": [
      "feature_indexes=[0,1]\n",
      "s=tr.createTree(dataSet,feature_indexes)\n",
      "print s"
     ],
     "language": "python",
     "metadata": {},
     "outputs": [
      {
       "output_type": "stream",
       "stream": "stdout",
       "text": [
        "1\n",
        "(3L, 2L)\n",
        "1\n",
        "(2L, 1L)\n",
        "yes\n",
        "0\n",
        "(1L, 1L)\n",
        "no\n",
        "0\n",
        "(2L, 2L)\n",
        "no\n",
        "{0: {'1': {1: {'1': 'yes', '0': 'no'}}, '0': 'no'}}\n"
       ]
      }
     ],
     "prompt_number": 6
    },
    {
     "cell_type": "code",
     "collapsed": false,
     "input": [
      "s.keys()"
     ],
     "language": "python",
     "metadata": {},
     "outputs": [
      {
       "metadata": {},
       "output_type": "pyout",
       "prompt_number": 7,
       "text": [
        "[0]"
       ]
      }
     ],
     "prompt_number": 7
    },
    {
     "cell_type": "code",
     "collapsed": false,
     "input": [
      "s[0]"
     ],
     "language": "python",
     "metadata": {},
     "outputs": [
      {
       "metadata": {},
       "output_type": "pyout",
       "prompt_number": 8,
       "text": [
        "{'0': 'no', '1': {1: {'0': 'no', '1': 'yes'}}}"
       ]
      }
     ],
     "prompt_number": 8
    },
    {
     "cell_type": "raw",
     "metadata": {},
     "source": []
    },
    {
     "cell_type": "code",
     "collapsed": false,
     "input": [
      "tr.fit(np.array([[1,1],[1,1],[1,0],[0,1],[0,1]]),['yes','yes','no','no','no'])\n",
      "\n",
      "print tr.tree\n",
      "\n",
      "tr.predict([[1,1]])"
     ],
     "language": "python",
     "metadata": {},
     "outputs": [
      {
       "output_type": "stream",
       "stream": "stdout",
       "text": [
        "1\n",
        "(3L, 2L)\n",
        "1\n",
        "(2L, 1L)\n",
        "yes\n",
        "0\n",
        "(1L, 1L)\n",
        "no\n",
        "0\n",
        "(2L, 2L)\n",
        "no\n",
        "{0: {'1': {1: {'1': 'yes', '0': 'no'}}, '0': 'no'}}\n"
       ]
      },
      {
       "metadata": {},
       "output_type": "pyout",
       "prompt_number": 9,
       "text": [
        "['yes']"
       ]
      }
     ],
     "prompt_number": 9
    },
    {
     "cell_type": "code",
     "collapsed": false,
     "input": [
      "\n",
      "tr.predict([[0,1]])"
     ],
     "language": "python",
     "metadata": {},
     "outputs": [
      {
       "metadata": {},
       "output_type": "pyout",
       "prompt_number": 10,
       "text": [
        "['no']"
       ]
      }
     ],
     "prompt_number": 10
    },
    {
     "cell_type": "code",
     "collapsed": false,
     "input": [
      "class DecisionTreeRegressor:\n",
      "    \"\"\"\n",
      "    \"\"\"\n",
      "    def __init__(self,criterion='mse',max_features=None,max_depth=None,min_samples_split=1,min_samples_leaf=4,error_threshold=1):\n",
      "        self.criterion=criterion\n",
      "        self.max_features=max_features\n",
      "        self.max_depth=max_depth\n",
      "        self.min_samples_split=min_samples_split\n",
      "        self.min_samples_leaf=min_samples_leaf\n",
      "        self.error_threshold=error_threshold\n",
      "        self.tree={}\n",
      "        \n",
      "    def calMSE(self,dataSet):\n",
      "        \"\"\"\n",
      "        cal the minimum square error of the dataset\n",
      "        \"\"\"\n",
      "        return np.var(dataSet[:,-1])*dataSet.shape[0]\n",
      "    \n",
      "    def calLeafValue(self,dataSet):\n",
      "        \"\"\"\n",
      "        decide which value to choose at the leaf,ie,give which value to the sample that belong the region\n",
      "        in the algorithm,i select the mean value of the dataSet in the segmenting region\n",
      "        \"\"\"\n",
      "        return np.mean(dataSet[:,-1])\n",
      "    \n",
      "    def splitDataset(self,dataSet,attr_index,value):\n",
      "        \"\"\"\n",
      "        split dataset according to the feature_index and value\n",
      "        \"\"\"\n",
      "       # print dataSet.shape,attr_index\n",
      "        return dataSet[dataSet[:,attr_index]<=value,:],dataSet[dataSet[:,attr_index]>value,:]#has some error when the datatype is np.mat  not np.array\n",
      "    \n",
      "    def selectBestSplit(self,dataSet,errorCal,valueCal):\n",
      "        \"\"\"\n",
      "        select the best attribute splitter\n",
      "        \"\"\"\n",
      "        #all the predictive values are same\n",
      "        if len(set(dataSet[:,-1]))==1:\n",
      "               return None,valueCal(dataSet)\n",
      "               \n",
      "        bestAttr_index=0\n",
      "        best_error=float('inf')\n",
      "        best_value=0\n",
      "        error=errorCal(dataSet)\n",
      "        for attr_index in np.arange(dataSet.shape[1]-1):\n",
      "            \n",
      "            values=set(dataSet[:,attr_index])\n",
      "            error_new=0\n",
      "            for value in values:\n",
      "                mat0,mat1=self.splitDataset(dataSet,attr_index,value)\n",
      "                if (len(mat0)<self.min_samples_split) or (len(mat1)<self.min_samples_split):\n",
      "                    continue\n",
      "                error_new=errorCal(mat0)+errorCal(mat1)\n",
      "                \n",
      "                if error_new<best_error:\n",
      "                    best_error=error_new\n",
      "                    bestAttr_index=attr_index\n",
      "                    best_value=value\n",
      "                    \n",
      "        if(error-error_new)<self.error_threshold:\n",
      "            return None,valueCal(dataSet)\n",
      "        \n",
      "        mat0,mat1=self.splitDataset(dataSet,bestAttr_index,best_value)\n",
      "        if (len(mat0)<self.min_samples_split) or (len(mat1)<self.min_samples_split):\n",
      "            return None,valueCal(dataSet)\n",
      "        \n",
      "        return bestAttr_index,best_value\n",
      "    \n",
      "    def createTree(self,dataSet,errorCal,valueCal):\n",
      "        \"\"\"\n",
      "        create tree recursive\n",
      "        \"\"\"\n",
      "        attr_index,val=self.selectBestSplit(dataSet,errorCal,valueCal)\n",
      "        \n",
      "        if attr_index==None:\n",
      "            return val\n",
      "        retTree={}\n",
      "        retTree['index']=attr_index\n",
      "        retTree['val']=val\n",
      "        ldataSet,rdataSet=self.splitDataset(dataSet,attr_index,val)\n",
      "        retTree['left']=self.createTree(ldataSet,errorCal,valueCal)\n",
      "        retTree['right']=self.createTree(rdataSet,errorCal,valueCal)\n",
      "        \n",
      "        return retTree\n",
      "    \n",
      "    def fit(self,X,y):\n",
      "        \"\"\"\n",
      "        fit the train data, train it\n",
      "        \"\"\"\n",
      "\n",
      "        dataSet=np.concatenate((X,np.reshape(y,(len(y),1))),axis=1)\n",
      "        dataSet.astype('float')\n",
      "        \n",
      "        errorCal=self.calMSE\n",
      "        valueCal=self.calLeafValue\n",
      "  \n",
      "        self.tree=self.createTree(dataSet,errorCal,valueCal)\n",
      "        \n",
      "    def treeForest(self,tree,testVec):\n",
      "        \"\"\"\n",
      "        return the regression value\n",
      "        \"\"\"\n",
      "        if testVec[tree['index']]<=tree['val']:\n",
      "            if type(tree['left']).__name__=='dict':\n",
      "                return self.treeForest(tree['left'],testVec)\n",
      "            else:\n",
      "                return float(tree['left'])\n",
      "        else:\n",
      "            if type(tree['right']).__name__=='dict':\n",
      "                return self.treeForest(tree['right'],testVec)\n",
      "            else:\n",
      "                return float(tree['right'])\n",
      "    \n",
      "    def predict(self,test_X):\n",
      "        \"\"\"\n",
      "        predict every sample in the test data\n",
      "        return a array\n",
      "        \"\"\"\n",
      "        predictioins=[]\n",
      "        \n",
      "        for testVec in test_X:\n",
      "            predictioins.append(self.treeForest(self.tree,testVec))\n",
      "        \n",
      "        return predictioins"
     ],
     "language": "python",
     "metadata": {},
     "outputs": [],
     "prompt_number": 11
    },
    {
     "cell_type": "code",
     "collapsed": false,
     "input": [
      "def loadData(filename):\n",
      "    dataMat=[]\n",
      "    fr=open(filename)\n",
      "    for line in fr.readlines():\n",
      "        curLine=line.strip().split('\\t')\n",
      "        fltLine=map(float,curLine)\n",
      "        dataMat.append(fltLine)\n",
      "    return dataMat"
     ],
     "language": "python",
     "metadata": {},
     "outputs": [],
     "prompt_number": 12
    },
    {
     "cell_type": "code",
     "collapsed": false,
     "input": [
      "data=np.array(loadData('data/ex00.txt'))\n",
      "print len(np.unique(data[:,1]))"
     ],
     "language": "python",
     "metadata": {},
     "outputs": [
      {
       "output_type": "stream",
       "stream": "stdout",
       "text": [
        "200\n"
       ]
      }
     ],
     "prompt_number": 13
    },
    {
     "cell_type": "code",
     "collapsed": false,
     "input": [
      "dtrs=DecisionTreeRegressor()\n",
      "dtrs.fit(data[:,0:-1],data[:,-1])"
     ],
     "language": "python",
     "metadata": {},
     "outputs": [],
     "prompt_number": 14
    },
    {
     "cell_type": "code",
     "collapsed": false,
     "input": [
      "print dtrs.tree"
     ],
     "language": "python",
     "metadata": {},
     "outputs": [
      {
       "output_type": "stream",
       "stream": "stdout",
       "text": [
        "{'index': 0, 'right': 1.0180967672413792, 'val': 0.48813000000000001, 'left': -0.044650285714285719}\n"
       ]
      }
     ],
     "prompt_number": 15
    },
    {
     "cell_type": "code",
     "collapsed": false,
     "input": [
      "train_mat=np.array(loadData('data/bikeSpeedVsIq_train.txt'))\n",
      "test_mat=np.array(loadData('data/bikeSpeedVsIq_test.txt'))\n",
      "print train_mat.shape"
     ],
     "language": "python",
     "metadata": {},
     "outputs": [
      {
       "output_type": "stream",
       "stream": "stdout",
       "text": [
        "(200L, 2L)\n"
       ]
      }
     ],
     "prompt_number": 16
    },
    {
     "cell_type": "code",
     "collapsed": false,
     "input": [
      "dtrs=DecisionTreeRegressor(min_samples_split=20,error_threshold=1)\n",
      "dtrs.fit(train_mat[:,0:-1],train_mat[:,-1])\n",
      "y=dtrs.predict(test_mat)\n",
      "np.corrcoef(y,test_mat[:,1],rowvar=0)[0,1]"
     ],
     "language": "python",
     "metadata": {},
     "outputs": [
      {
       "metadata": {},
       "output_type": "pyout",
       "prompt_number": 17,
       "text": [
        "0.97803079327040809"
       ]
      }
     ],
     "prompt_number": 17
    },
    {
     "cell_type": "code",
     "collapsed": false,
     "input": [
      "# Create a random dataset\n",
      "rng = np.random.RandomState(1)\n",
      "X = np.sort(5 * rng.rand(80, 1), axis=0)\n",
      "y = np.sin(X).ravel()\n",
      "y[::5] += 3 * (0.5 - rng.rand(16))\n",
      "\n",
      "# Fit regression model\n",
      "clf_1 = DecisionTreeRegressor()\n",
      "\n",
      "clf_1.fit(X, y)\n",
      "\n",
      "# Predict\n",
      "X_test = np.arange(0.0, 5.0, 0.01)[:, np.newaxis]\n",
      "y_1 = clf_1.predict(X_test)\n",
      "\n",
      "# Plot the results\n",
      "plt.figure()\n",
      "plt.scatter(X, y, c=\"k\", label=\"data\")\n",
      "plt.plot(X_test, y_1, c=\"g\", label=\"max_depth=2\", linewidth=2)\n",
      "\n",
      "plt.xlabel(\"data\")\n",
      "plt.ylabel(\"target\")\n",
      "plt.title(\"Decision Tree Regression\")\n",
      "plt.legend()\n",
      "plt.show()"
     ],
     "language": "python",
     "metadata": {},
     "outputs": [
      {
       "metadata": {},
       "output_type": "display_data",
       "png": "[encoded data removed]",
       "text": [
        "<matplotlib.figure.Figure at 0xa1b0eb8>"
       ]
      }
     ],
     "prompt_number": 18
    },
    {
     "cell_type": "code",
     "collapsed": false,
     "input": [
      "class DecisionTreeClassifier:\n",
      "    \"\"\"\n",
      "    \"\"\"\n",
      "    def __init__(self,criterion='gini',max_features=None,max_depth=None,min_samples_split=1,min_samples_leaf=1):\n",
      "        self.criterion=criterion\n",
      "        self.max_features=max_features\n",
      "        self.max_depth=max_depth\n",
      "        self.min_samples_split=min_samples_split\n",
      "        self.min_samples_leaf=min_samples_leaf\n",
      "        #self.error_threshold=1\n",
      "        self.tree={}\n",
      "\n",
      "    def majorityCnt(self,classList):\n",
      "        \"\"\"\n",
      "        return the majority classLabel as the label\n",
      "        \"\"\"\n",
      "        classCount={}\n",
      "        for label in classList:\n",
      "            if label not in classCount.keys():\n",
      "                classCount[label]=0\n",
      "            classCount[label]+=1\n",
      "        sortedClassCount=sorted(classCount.iteritems(),key=operator.itemgetter(1),reverse=True)\n",
      "        \n",
      "        return sortedClassCount[0][0]\n",
      "    \n",
      "            \n",
      "    def calGini(self,dataSet):\n",
      "        \"\"\"\n",
      "        cal the gini index of the dataset\n",
      "        \"\"\"\n",
      "        label_count={}\n",
      "        for data in dataSet:\n",
      "            if data[-1] not in label_count.keys():\n",
      "                label_count[data[-1]]=0\n",
      "            label_count[data[-1]]+=1\n",
      "        number_label=len(dataSet)\n",
      "        gini=0\n",
      "        for label in label_count.keys():\n",
      "            prob=label_count[label]*1.0/number_label\n",
      "            gini=prob*(1-prob)\n",
      "        return gini\n",
      "    \n",
      "    def splitDataset(self,dataSet,attr_index,value):\n",
      "        \"\"\"\n",
      "        split dataset according to the feature_index and value\n",
      "        \"\"\"\n",
      "       # print dataSet.shape,attr_index\n",
      "        return dataSet[dataSet[:,attr_index]<=value,:],dataSet[dataSet[:,attr_index]>value,:]#has some error when the datatype is np.mat  not np.array\n",
      "    \n",
      "    def get_randomIndex(self,max,num):\n",
      "        \"\"\"\n",
      "        generate num random value between 0 and max without replicated\n",
      "        \"\"\"\n",
      "        index_feature_generate=set()\n",
      "        while 1:\n",
      "            if len(index_feature_generate)>num:\n",
      "                break\n",
      "            index_feature_generate.add(np.random.randint(0,max))\n",
      "        return index_feature_generate\n",
      "    \n",
      "    def selectBestSplit(self,dataSet):\n",
      "        \"\"\"\n",
      "        select the best attribute splitter\n",
      "        \"\"\"\n",
      "        #all the predictive values are same\n",
      "        if len(set(dataSet[:,-1]))==1:\n",
      "               return None,dataSet[0,-1]\n",
      "               \n",
      "        bestAttr_index=-1\n",
      "        best_gini=float('inf')\n",
      "        best_value=0\n",
      "        num_dataSample=len(dataSet)\n",
      "        \n",
      "        if self.max_features!=None:\n",
      "            index_feature_generate=get_randomIndex(dataSet.shape[1])\n",
      "        else:\n",
      "            index_feature_generate=np.arange(dataSet.shape[1]-1)\n",
      "        \n",
      "        for attr_index in index_feature_generate:\n",
      "\n",
      "            values=set(dataSet[:,attr_index])\n",
      "            error_new=0\n",
      "            for value in values:\n",
      "                mat0,mat1=self.splitDataset(dataSet,attr_index,value)\n",
      "                if (len(mat0)<self.min_samples_split) or (len(mat1)<self.min_samples_split):\n",
      "                    continue\n",
      "                gini_split=float(len(mat0))/num_dataSample*self.calGini(mat0)+float(len(mat1))/num_dataSample*self.calGini(mat1)\n",
      "                \n",
      "                if gini_split<best_gini:\n",
      "                    best_gini=gini_split\n",
      "                    bestAttr_index=attr_index\n",
      "                    best_value=value\n",
      "       # if(error-error_new)<self.error_threshold:\n",
      "            #return None,,majorityCnt(dataSet[:,-1])\n",
      "        #print bestAttr_index\n",
      "        mat0,mat1=self.splitDataset(dataSet,bestAttr_index,best_value)\n",
      "        if (len(mat0)<self.min_samples_split) or (len(mat1)<self.min_samples_split):\n",
      "            #print 'once'\n",
      "            return None,self.majorityCnt(dataSet[:,-1])\n",
      "        \n",
      "        return bestAttr_index,best_value\n",
      "    \n",
      "    def createTree(self,dataSet,depth=0):\n",
      "        \"\"\"\n",
      "        create tree recursive\n",
      "        \"\"\"\n",
      "        if (self.max_depth!=None) and (depth>self.max_depth):\n",
      "            return self.majorityCnt(dataSet[:,-1])\n",
      "        \n",
      "        attr_index,val=self.selectBestSplit(dataSet)\n",
      "        #print ' attr_index,val:',attr_index,val,'\\n'\n",
      "        if attr_index==None:\n",
      "            return val\n",
      "        retTree={}\n",
      "        retTree['index']=attr_index\n",
      "        retTree['val']=val\n",
      "        retTree['depth']=depth\n",
      "        depth+=1\n",
      "        #print retTree['index'],retTree['val']\n",
      "        ldataSet,rdataSet=self.splitDataset(dataSet,attr_index,val)\n",
      "        retTree['left']=self.createTree(ldataSet,depth)\n",
      "        retTree['right']=self.createTree(rdataSet,depth)\n",
      "        \n",
      "        return retTree\n",
      "    \n",
      "    def fit(self,X,y):\n",
      "        \"\"\"\n",
      "        fit the train data, train it\n",
      "        \"\"\"\n",
      "\n",
      "        dataSet=np.concatenate((X,np.reshape(y,(len(y),1))),axis=1)\n",
      "        dataSet.astype('float')\n",
      "        \n",
      "        self.tree=self.createTree(dataSet)\n",
      "        return self\n",
      "        \n",
      "    def treeForest(self,tree,testVec):\n",
      "        \"\"\"\n",
      "        return the regression value\n",
      "        \"\"\"\n",
      "        #print testVec[int(tree['index'])],tree['val']\n",
      "        if testVec[int(tree['index'])]<=tree['val']:\n",
      "            if type(tree['left']).__name__=='dict':\n",
      "                return self.treeForest(tree['left'],testVec)\n",
      "            else:\n",
      "                return float(tree['left'])\n",
      "        else:\n",
      "            if type(tree['right']).__name__=='dict':\n",
      "                return self.treeForest(tree['right'],testVec)\n",
      "            else:\n",
      "                return float(tree['right'])\n",
      "    \n",
      "    def predict(self,test_X):\n",
      "        \"\"\"\n",
      "        predict every sample in the test data\n",
      "        return a array\n",
      "        \"\"\"\n",
      "        predictioins=[]\n",
      "        \n",
      "        for testVec in test_X:\n",
      "            predictioins.append(self.treeForest(self.tree,testVec))\n",
      "        \n",
      "        return predictioins"
     ],
     "language": "python",
     "metadata": {},
     "outputs": [],
     "prompt_number": 99
    },
    {
     "cell_type": "code",
     "collapsed": false,
     "input": [
      "tr1=DecisionTreeClassifier()\n",
      "tr1.fit(np.array([[2,1],[3,1],[2,0],[3,1],[2,1]]),np.array([0,0,1,1,1]))\n",
      "\n",
      "#print tr.tree"
     ],
     "language": "python",
     "metadata": {},
     "outputs": [
      {
       "metadata": {},
       "output_type": "pyout",
       "prompt_number": 100,
       "text": [
        "<__main__.DecisionTreeClassifier instance at 0x000000000E82BC88>"
       ]
      }
     ],
     "prompt_number": 100
    },
    {
     "cell_type": "code",
     "collapsed": false,
     "input": [
      "print tr1.tree"
     ],
     "language": "python",
     "metadata": {},
     "outputs": [
      {
       "output_type": "stream",
       "stream": "stdout",
       "text": [
        "{'index': 1, 'depth': 0, 'right': {'index': 0, 'depth': 1, 'right': {'index': -1, 'depth': 2, 'right': 1, 'val': 0, 'left': 0}, 'val': 2, 'left': {'index': -1, 'depth': 2, 'right': 1, 'val': 0, 'left': 0}}, 'val': 0, 'left': 1}\n"
       ]
      }
     ],
     "prompt_number": 101
    },
    {
     "cell_type": "code",
     "collapsed": false,
     "input": [
      "tr1.predict([[1,1]])"
     ],
     "language": "python",
     "metadata": {},
     "outputs": [
      {
       "metadata": {},
       "output_type": "pyout",
       "prompt_number": 102,
       "text": [
        "[1.0]"
       ]
      }
     ],
     "prompt_number": 102
    },
    {
     "cell_type": "code",
     "collapsed": false,
     "input": [
      "from sklearn.datasets import load_iris\n",
      "tr2=DecisionTreeClassifier(min_samples_split=2)\n",
      "iris = load_iris()\n",
      "# We only take the two corresponding features\n",
      "X = iris.data\n",
      "y = iris.target\n",
      "\n",
      "tr2.fit(X,y)"
     ],
     "language": "python",
     "metadata": {},
     "outputs": [
      {
       "metadata": {},
       "output_type": "pyout",
       "prompt_number": 103,
       "text": [
        "<__main__.DecisionTreeClassifier instance at 0x000000000EA0F4C8>"
       ]
      }
     ],
     "prompt_number": 103
    },
    {
     "cell_type": "code",
     "collapsed": false,
     "input": [
      "tr2.tree"
     ],
     "language": "python",
     "metadata": {},
     "outputs": [
      {
       "metadata": {},
       "output_type": "pyout",
       "prompt_number": 104,
       "text": [
        "{'depth': 0,\n",
        " 'index': 3,\n",
        " 'left': {'depth': 1,\n",
        "  'index': 2,\n",
        "  'left': {'depth': 2,\n",
        "   'index': 2,\n",
        "   'left': 0.0,\n",
        "   'right': {'depth': 3,\n",
        "    'index': 0,\n",
        "    'left': 1.0,\n",
        "    'right': 1.0,\n",
        "    'val': 4.9000000000000004},\n",
        "   'val': 1.8999999999999999},\n",
        "  'right': {'depth': 2, 'index': 3, 'left': 2.0, 'right': 1.0, 'val': 1.5},\n",
        "  'val': 4.9000000000000004},\n",
        " 'right': {'depth': 1,\n",
        "  'index': 2,\n",
        "  'left': 2.0,\n",
        "  'right': 2.0,\n",
        "  'val': 4.7999999999999998},\n",
        " 'val': 1.7}"
       ]
      }
     ],
     "prompt_number": 104
    },
    {
     "cell_type": "code",
     "collapsed": false,
     "input": [
      "c=tr2.predict(X)\n",
      "print len(y[c==y])"
     ],
     "language": "python",
     "metadata": {},
     "outputs": [
      {
       "output_type": "stream",
       "stream": "stdout",
       "text": [
        "147\n"
       ]
      }
     ],
     "prompt_number": 105
    },
    {
     "cell_type": "code",
     "collapsed": false,
     "input": [
      "class RandomForestClassifier:\n",
      "    \"\"\"\n",
      "    randomforesttree\n",
      "    \"\"\"\n",
      "    def __init__(self,n_estimators=10,criterion='gini',max_features=None,max_depth=None,min_samples_split=1,min_samples_leaf=1):\n",
      "        \"\"\"\n",
      "        \"\"\"\n",
      "        self.n_estimators=n_estimators\n",
      "        self.criterion=criterion\n",
      "        self.max_features=max_features\n",
      "        self.max_depth=max_depth\n",
      "        self.min_samples_split=min_samples_split\n",
      "        self.min_sample_leaf=min_samples_leaf\n",
      "        self.tree_clfs=[]\n",
      "    \n",
      "    def boostrap_data(self,X,y):\n",
      "        \"\"\"\n",
      "        genrate data using boostrap method\n",
      "        \"\"\"\n",
      "        X_generate=[]\n",
      "        y_generate=[]\n",
      "        for i in np.arange(X.shape[0]):\n",
      "            index=np.random.randint(0,X.shape[0])\n",
      "            X_generate.append(X[index,:])\n",
      "            y_generate.append(y[index])\n",
      "        return np.array(X_generate),np.array(y_generate)\n",
      "    \n",
      "    def fit(self,X,y):\n",
      "        \"\"\"\n",
      "        fit the data\n",
      "        \"\"\"\n",
      "        for tree_index in np.arange(self.n_estimators):\n",
      "            clf=DecisionTreeClassifier(self.criterion,self.max_features,self.max_depth,self.min_samples_split,self.min_sample_leaf)\n",
      "            X_boostrap,y_boostrap=self.boostrap_data(X,y)\n",
      "            self.tree_clfs.append(clf.fit(X_boostrap,y_boostrap))\n",
      "            \n",
      "        return self\n",
      "    \n",
      "    def majorityLabel(self,classList):\n",
      "        \"\"\"\n",
      "        return the majority classLabel as the label\n",
      "        \"\"\"\n",
      "        classCount={}\n",
      "        for label in classList:\n",
      "            if label not in classCount.keys():\n",
      "                classCount[label]=0\n",
      "            classCount[label]+=1\n",
      "        sortedClassCount=sorted(classCount.iteritems(),key=operator.itemgetter(1),reverse=True)\n",
      "        \n",
      "        return sortedClassCount[0][0]\n",
      "    \n",
      "    def predict(self,X):\n",
      "        \"\"\"\n",
      "        predict\n",
      "        \"\"\"\n",
      "        predictions=[]\n",
      "       \n",
      "        for tree_index in np.arange(self.n_estimators):\n",
      "            clf=self.tree_clfs[tree_index]\n",
      "            predictions.append(clf.predict(X))\n",
      "        results=[]\n",
      "        for prediction in np.array(predictions).T:\n",
      "            results.append(self.majorityLabel(np.array(prediction)))\n",
      "        \n",
      "        return np.array(results)\n",
      "        \n",
      "        "
     ],
     "language": "python",
     "metadata": {},
     "outputs": [],
     "prompt_number": 123
    },
    {
     "cell_type": "code",
     "collapsed": false,
     "input": [
      "from sklearn.datasets import make_blobs\n",
      "\n",
      "\n",
      "from sklearn.metrics import log_loss\n",
      "\n",
      "np.random.seed(0)\n",
      "\n",
      "# Generate data\n",
      "X, y = make_blobs(n_samples=1000, n_features=5, random_state=42,\n",
      "                  cluster_std=5.0)\n",
      "X_train, y_train = X[:600], y[:600]\n",
      "X_valid, y_valid = X[600:800], y[600:800]\n",
      "X_train_valid, y_train_valid = X[:800], y[:800]\n",
      "X_test, y_test = X[800:], y[800:]\n",
      "\n",
      "# Train uncalibrated random forest classifier on whole train and validation\n",
      "# data and evaluate on test data\n",
      "clf = RandomForestClassifier(n_estimators=25)\n",
      "clf.fit(X_train_valid, y_train_valid)\n",
      "clf_probs = clf.predict(X_test)\n",
      "#score = log_loss(y_test, clf_probs)"
     ],
     "language": "python",
     "metadata": {},
     "outputs": [],
     "prompt_number": 124
    },
    {
     "cell_type": "code",
     "collapsed": false,
     "input": [
      "clf_probs.shape"
     ],
     "language": "python",
     "metadata": {},
     "outputs": [
      {
       "metadata": {},
       "output_type": "pyout",
       "prompt_number": 125,
       "text": [
        "(200L,)"
       ]
      }
     ],
     "prompt_number": 125
    },
    {
     "cell_type": "code",
     "collapsed": false,
     "input": [
      "from sklearn.metrics import precision_score\n",
      "print precision_score(y_test,clf_probs)"
     ],
     "language": "python",
     "metadata": {},
     "outputs": [
      {
       "output_type": "stream",
       "stream": "stdout",
       "text": [
        "0.855913043478\n"
       ]
      }
     ],
     "prompt_number": 126
    },
    {
     "cell_type": "code",
     "collapsed": false,
     "input": [
      "from sklearn.ensemble import RandomForestClassifier\n",
      "clf1 = RandomForestClassifier(n_estimators=25)\n",
      "clf1.fit(X_train_valid, y_train_valid)\n",
      "clf_pre = clf1.predict(X_test)\n",
      "\n",
      "print precision_score(y_test,clf_pre)"
     ],
     "language": "python",
     "metadata": {},
     "outputs": [
      {
       "output_type": "stream",
       "stream": "stdout",
       "text": [
        "0.829703400347\n"
       ]
      }
     ],
     "prompt_number": 127
    },
    {
     "cell_type": "code",
     "collapsed": false,
     "input": [],
     "language": "python",
     "metadata": {},
     "outputs": []
    }
   ],
   "metadata": {}
  }
 ]
}